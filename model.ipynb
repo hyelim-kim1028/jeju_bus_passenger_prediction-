{
 "cells": [
  {
   "cell_type": "markdown",
   "metadata": {
    "colab_type": "text",
    "id": "UCDZI9tBoFJ0"
   },
   "source": [
    "# IMPORT LIBRARY \n",
    "- mount Google Drive \n",
    "- LightGBM \n",
    "- selenium (chrome.exe) "
   ]
  },
  {
   "cell_type": "code",
   "execution_count": 5,
   "metadata": {
    "colab": {},
    "colab_type": "code",
    "id": "7DuxMlpW2KQ5"
   },
   "outputs": [],
   "source": [
    "# 테스트 \n",
    "from lightgbm import LGBMClassifier, plot_importance\n"
   ]
  },
  {
   "cell_type": "code",
   "execution_count": 199,
   "metadata": {
    "colab": {
     "base_uri": "https://localhost:8080/",
     "height": 248
    },
    "colab_type": "code",
    "id": "n_ZgaMg3OJUe",
    "outputId": "138b6448-1572-45b5-c6c9-66d0a9dd664d"
   },
   "outputs": [
    {
     "name": "stdout",
     "output_type": "stream",
     "text": [
      "{'commit_hash': '8bda98619',\n",
      " 'commit_source': 'installation',\n",
      " 'default_encoding': 'cp949',\n",
      " 'ipython_path': 'D:\\\\CONDA\\\\lib\\\\site-packages\\\\IPython',\n",
      " 'ipython_version': '7.12.0',\n",
      " 'os_name': 'nt',\n",
      " 'platform': 'Windows-10-10.0.18362-SP0',\n",
      " 'sys_executable': 'D:\\\\CONDA\\\\python.exe',\n",
      " 'sys_platform': 'win32',\n",
      " 'sys_version': '3.7.6 (default, Jan  8 2020, 20:23:39) [MSC v.1916 64 bit '\n",
      "                '(AMD64)]'}\n"
     ]
    }
   ],
   "source": [
    "# import libarary \n",
    "import os \n",
    "import shutil \n",
    "import random \n",
    "import numpy as np \n",
    "import time \n",
    "from collections import Counter \n",
    "from sklearn.metrics import mean_squared_error \n",
    "\n",
    "# data pre-processing \n",
    "import pandas as pd \n",
    "pd.set_option('max_columns', 130, 'max_rows', 30)\n",
    "\n",
    "#visualization \n",
    "import seaborn as sns \n",
    "import matplotlib.pyplot as plt \n",
    "%matplotlib inline \n",
    "plt.rc('font', family = 'Malgun Gothic')\n",
    "plt.rc('axes', unicode_minus = False)\n",
    "\n",
    "#ignore warning \n",
    "import warnings\n",
    "warnings.filterwarnings('ignore')\n",
    "\n",
    "import folium #지도 관련 시각화 \n",
    "from folium.plugins import MarkerCluster #지도 관련 시각화 \n",
    "import geopy.distance #거리 계산해주는 패키지 사용 \n",
    "\n",
    "# save \n",
    "from sklearn.externals import joblib \n",
    "import pickle \n",
    "\n",
    "# selenium \n",
    "# from selenium.webdriver import Chrome \n",
    "\n",
    "# UsageError: Line magic function `%matplotlib.inline` not found. \n",
    "import IPython\n",
    "print(IPython.sys_info())\n",
    "\n",
    "import geopy.distance \n",
    "\n",
    "from sklearn.preprocessing import LabelEncoder \n",
    "from sklearn.preprocessing import StandardScaler \n",
    "from sklearn.model_selection import GridSearchCV \n",
    "from sklearn.model_selection import GridSearchCV \n",
    "from sklearn.ensemble import RandomForestRegressor \n",
    "\n",
    "import seaborn as sns \n",
    "import matplotlib.pyplot as plt \n",
    "%matplotlib inline \n",
    "from sklearn.externals import joblib \n",
    "import pickle \n",
    "\n",
    "import random \n",
    "random.seed(42)\n",
    "\n",
    "import lightgbm as lgb \n",
    "from keras import metrics \n",
    "from sklearn.metrics import r2_score "
   ]
  },
  {
   "cell_type": "code",
   "execution_count": 4,
   "metadata": {
    "colab": {
     "base_uri": "https://localhost:8080/",
     "height": 35
    },
    "colab_type": "code",
    "id": "Zi-aGJTFhI-S",
    "outputId": "89159dcb-8fc1-4f1b-963a-bf54cdeee548"
   },
   "outputs": [
    {
     "data": {
      "text/plain": [
       "((415423, 21), (228170, 20), (2409414, 13))"
      ]
     },
     "execution_count": 4,
     "metadata": {},
     "output_type": "execute_result"
    }
   ],
   "source": [
    "train = pd.read_csv(\"train.csv\")\n",
    "test = pd.read_csv(\"test.csv\")\n",
    "bts = pd.read_csv(\"bus_bts.csv\")\n",
    "\n",
    "train.shape, test.shape, bts.shape"
   ]
  },
  {
   "cell_type": "markdown",
   "metadata": {
    "colab_type": "text",
    "id": "n33bLAYUqr0d"
   },
   "source": [
    "Read extenral crawled data "
   ]
  },
  {
   "cell_type": "code",
   "execution_count": 6,
   "metadata": {
    "colab": {
     "base_uri": "https://localhost:8080/",
     "height": 35
    },
    "colab_type": "code",
    "id": "cPXevoIMOJsi",
    "outputId": "2a58335d-7d04-4b4e-e6c8-6e8d76abb0b7"
   },
   "outputs": [
    {
     "data": {
      "text/plain": [
       "(46, 4)"
      ]
     },
     "execution_count": 6,
     "metadata": {},
     "output_type": "execute_result"
    }
   ],
   "source": [
    "# 날씨 데이터 \n",
    "weather_data = pd.read_csv('weather.csv')\n",
    "\n",
    "weather_data.shape"
   ]
  },
  {
   "cell_type": "code",
   "execution_count": 7,
   "metadata": {
    "colab": {
     "base_uri": "https://localhost:8080/",
     "height": 35
    },
    "colab_type": "code",
    "id": "CZPEzTzoUz2R",
    "outputId": "c010f541-6ce6-4522-9eca-04f85d2b30cd"
   },
   "outputs": [
    {
     "data": {
      "text/plain": [
       "(49, 3)"
      ]
     },
     "execution_count": 7,
     "metadata": {},
     "output_type": "execute_result"
    }
   ],
   "source": [
    "# 제주 공항 도착 고객 데이터 \n",
    "airport_data = pd.read_csv('df_airport.csv')\n",
    "\n",
    "airport_data.shape"
   ]
  },
  {
   "cell_type": "code",
   "execution_count": 14,
   "metadata": {},
   "outputs": [],
   "source": [
    "rain3 = pd.read_csv('rain3.csv', encoding = ' utf-8')"
   ]
  },
  {
   "cell_type": "markdown",
   "metadata": {
    "colab_type": "text",
    "id": "ZEcKrpxRWWmJ"
   },
   "source": [
    "# 데이터 전처리 "
   ]
  },
  {
   "cell_type": "code",
   "execution_count": 19,
   "metadata": {
    "colab": {
     "base_uri": "https://localhost:8080/",
     "height": 35
    },
    "colab_type": "code",
    "id": "fsbfYEaVWLH9",
    "outputId": "36f95d27-5c6f-41c7-e3ed-f9ede1a42bf4"
   },
   "outputs": [
    {
     "data": {
      "text/plain": [
       "((415423, 22), (228170, 21))"
      ]
     },
     "execution_count": 19,
     "metadata": {},
     "output_type": "execute_result"
    }
   ],
   "source": [
    "# 요일 \n",
    "train['date'] = pd.to_datetime(train['date'])\n",
    "train['weekday'] = train['date'].dt.weekday \n",
    "\n",
    "test['date'] = pd.to_datetime(test['date'])\n",
    "test['weekday'] = test['date'].dt.weekday \n",
    "\n",
    "train.shape, test.shape"
   ]
  },
  {
   "cell_type": "code",
   "execution_count": 21,
   "metadata": {
    "colab": {
     "base_uri": "https://localhost:8080/",
     "height": 35
    },
    "colab_type": "code",
    "id": "UvcK7F-5WLTD",
    "outputId": "53d71624-1d70-488d-f829-e9f8894e0458"
   },
   "outputs": [
    {
     "data": {
      "text/plain": [
       "((415423, 23), (228170, 22))"
      ]
     },
     "execution_count": 21,
     "metadata": {},
     "output_type": "execute_result"
    }
   ],
   "source": [
    "# route_station = bus_route_id + station_code \n",
    "train['bus_route_id'] = train['bus_route_id'].astype(str)\n",
    "train['station_code'] = train['station_code'].astype(str)\n",
    "train['route_station'] = train['bus_route_id'] + ',' + train['station_code']\n",
    "\n",
    "test['bus_route_id'] = test['bus_route_id'].astype(str)\n",
    "test['station_code'] = test['station_code'].astype(str)\n",
    "test['route_station'] = test['bus_route_id'] + ',' + test['station_code']\n",
    "\n",
    "train.shape, test.shape"
   ]
  },
  {
   "cell_type": "code",
   "execution_count": 22,
   "metadata": {
    "colab": {
     "base_uri": "https://localhost:8080/",
     "height": 35
    },
    "colab_type": "code",
    "id": "suq7rPcUWLax",
    "outputId": "b4cc5f33-938f-4b2d-cf33-19b6a3344622"
   },
   "outputs": [
    {
     "data": {
      "text/plain": [
       "((415423, 24), (228170, 23))"
      ]
     },
     "execution_count": 22,
     "metadata": {},
     "output_type": "execute_result"
    }
   ],
   "source": [
    "# bus_route_id_weekday = bus_route_id + weekday \n",
    "train['bus_route_id_weekday'] = train['bus_route_id'].astype(str) + ',' + train['weekday'].astype(str)\n",
    "test['bus_route_id_weekday'] = test['bus_route_id'].astype(str) + ',' + test['weekday'].astype(str)\n",
    "\n",
    "train.shape, test.shape"
   ]
  },
  {
   "cell_type": "code",
   "execution_count": 23,
   "metadata": {
    "colab": {
     "base_uri": "https://localhost:8080/",
     "height": 35
    },
    "colab_type": "code",
    "id": "OcYx3QfkWLg4",
    "outputId": "2af69a7b-998c-41f2-8c07-076db6758b86"
   },
   "outputs": [
    {
     "data": {
      "text/plain": [
       "((415423, 25), (228170, 24))"
      ]
     },
     "execution_count": 23,
     "metadata": {},
     "output_type": "execute_result"
    }
   ],
   "source": [
    "# station_code_weekday = station_code + weekday \n",
    "\n",
    "train['station_code_weekday'] = train['station_code'].astype(str) + ',' + train['weekday'].astype(str)\n",
    "test['station_code_weekday'] = test['station_code'].astype(str) + ',' + test['weekday'].astype(str)\n",
    "\n",
    "train.shape, test.shape"
   ]
  },
  {
   "cell_type": "code",
   "execution_count": 24,
   "metadata": {
    "colab": {
     "base_uri": "https://localhost:8080/",
     "height": 35
    },
    "colab_type": "code",
    "id": "k2LMPS64WLtk",
    "outputId": "ffafb191-c07b-45be-e4bf-512c70965d50"
   },
   "outputs": [
    {
     "data": {
      "text/plain": [
       "((415423, 26), (228170, 25))"
      ]
     },
     "execution_count": 24,
     "metadata": {},
     "output_type": "execute_result"
    }
   ],
   "source": [
    "# route_station_weekday = route_station + weekday \n",
    "train['route_station_weekday'] = train['route_station'].astype(str) + ',' + train['weekday'].astype(str)\n",
    "test['route_station_weekday'] = test['route_station'].astype(str) + ',' + test['weekday'].astype(str)\n",
    "\n",
    "train.shape, test.shape "
   ]
  },
  {
   "cell_type": "code",
   "execution_count": 25,
   "metadata": {
    "colab": {
     "base_uri": "https://localhost:8080/",
     "height": 35
    },
    "colab_type": "code",
    "id": "SCKLLjL9OJvM",
    "outputId": "32f706a1-e0dc-4c5b-d19a-44b4117857a0"
   },
   "outputs": [
    {
     "data": {
      "text/plain": [
       "(2409414, 14)"
      ]
     },
     "execution_count": 25,
     "metadata": {},
     "output_type": "execute_result"
    }
   ],
   "source": [
    "# on_time\n",
    "# bts.csv 데이터에서 geton_time 열에서 시간대만 추출하여 on_time 컬럼을 만듦 \n",
    "\n",
    "bts['on_time'] = bts['geton_time'].apply(lambda x: x[:2]) # 첫 두번째 string slicing \n",
    "\n",
    "bts.iloc[bts.query('on_time == \"06\"').index, 13] = '6~7_ride'\n",
    "bts.iloc[bts.query('on_time == \"07\"').index, 13] = '7~8_ride'\n",
    "bts.iloc[bts.query('on_time == \"08\"').index, 13] = '8~9_ride'\n",
    "bts.iloc[bts.query('on_time == \"09\"').index, 13] = '9~10_ride'\n",
    "bts.iloc[bts.query('on_time == \"10\"').index, 13] = '10~11_ride'\n",
    "bts.iloc[bts.query('on_time == \"11\"').index, 13] = '11~12_ride'\n",
    "\n",
    "bts.shape "
   ]
  },
  {
   "cell_type": "code",
   "execution_count": 26,
   "metadata": {
    "colab": {
     "base_uri": "https://localhost:8080/",
     "height": 35
    },
    "colab_type": "code",
    "id": "ZMkuHTA0OJx9",
    "outputId": "34227390-f7b4-40fb-afb2-668dfe659de9"
   },
   "outputs": [
    {
     "data": {
      "text/plain": [
       "((415423, 32), (228170, 31))"
      ]
     },
     "execution_count": 26,
     "metadata": {},
     "output_type": "execute_result"
    }
   ],
   "source": [
    "# 승 하차 시간대 통합 변수 (t~t+2)\n",
    "# t~t+1, t+1~t+2 시간대 승하차인원을 합하여 t~t+2 시간대 승하차인원 변수를 만듬\n",
    "train['68a']=train['6~7_ride']+train['7~8_ride'] \n",
    "train['810a']=train['8~9_ride']+train['9~10_ride']\n",
    "train['1012a']=train['10~11_ride']+train['11~12_ride']\n",
    "\n",
    "train['68b']=train['6~7_takeoff']+train['7~8_takeoff'] \n",
    "train['810b']=train['8~9_takeoff']+train['9~10_takeoff']\n",
    "train['1012b']=train['10~11_takeoff']+train['11~12_takeoff']\n",
    "\n",
    "test['68a']=test['6~7_ride']+test['7~8_ride']\n",
    "test['810a']=test['8~9_ride']+test['9~10_ride']\n",
    "test['1012a']=test['10~11_ride']+test['11~12_ride']\n",
    "\n",
    "test['68b']=test['6~7_takeoff']+test['7~8_takeoff']\n",
    "test['810b']=test['8~9_takeoff']+test['9~10_takeoff']\n",
    "test['1012b']=test['10~11_takeoff']+test['11~12_takeoff']\n",
    "\n",
    "train.shape, test.shape"
   ]
  },
  {
   "cell_type": "markdown",
   "metadata": {
    "colab_type": "text",
    "id": "Q_DIHGmiF9AV"
   },
   "source": [
    "Make features by using target variable\n",
    "우리가 최종적으로 예측해야할 것은 각 일자별(date), 버스 노선(bus_route_id) 상의 정류장(station_name)의 퇴근시간 하차인원(18~20_ride)이다.\n",
    "\n",
    "- bus_route_id, station_name, weekday의 각 조합별 퇴근시간 하차인원(18~20_ride)의 여러 통계량을 구한 후 이를 train set, test set에 모두 적용한다.\"\n",
    "\n",
    "- target 변수를 train, test set에 적용할 수 있는 이유는 우리가 예측해야할 id는 date, bus_rout_id, station_name으로 구성되어있기 때문이다. 즉, 각각의 노선, 정류장별로 공통적인 패턴이 존재할 수 있다.\n",
    "\n",
    "- 이 과정에서 NA 값이 생기는 이유는 train set에 없는 bus_route_id, station_name이 존재하기 때문이다."
   ]
  },
  {
   "cell_type": "code",
   "execution_count": 27,
   "metadata": {
    "colab": {},
    "colab_type": "code",
    "id": "Hlu58xTcOJ0v"
   },
   "outputs": [],
   "source": [
    "def id_statistic(ID, col1, col2): \n",
    "\n",
    "    # mean, sum \n",
    "    rs_mean = train.groupby([ID])['18~20_ride'].agg([(col1, 'mean')]).reset_index()\n",
    "    rs_sum = train.groupby([ID])['18~20_ride'].agg([(col2, 'sum')]).reset_index()\n",
    "    rs_mean_sum = pd.merge(rs_mean, rs_sum, on = ID)\n",
    "\n",
    "    # merge \n",
    "    tr = pd.merge(train, rs_mean_sum, how = 'left', on = ID)\n",
    "    te = pd.merge(test, rs_mean_sum, how = 'left', on = ID)\n",
    "\n",
    "    # na -> mean \n",
    "    # 결측값을 mean으로 대체해주며 처리해주었다 \n",
    "    te[col1] = te[col1].fillna(rs_mean.mean())\n",
    "    te[col2] = te[col2].fillna(rs_sum.mean())\n",
    "\n",
    "    return tr, te "
   ]
  },
  {
   "cell_type": "code",
   "execution_count": 28,
   "metadata": {
    "colab": {
     "base_uri": "https://localhost:8080/",
     "height": 35
    },
    "colab_type": "code",
    "id": "B7azURcGOJ3d",
    "outputId": "c041d8f8-2d17-45dc-d342-ca1f06123797"
   },
   "outputs": [
    {
     "data": {
      "text/plain": [
       "((415423, 34), (228170, 33))"
      ]
     },
     "execution_count": 28,
     "metadata": {},
     "output_type": "execute_result"
    }
   ],
   "source": [
    "train, test = id_statistic('route_station', '1820_rs_mean', '1820_rs_sum')\n",
    "\n",
    "train.shape, test.shape"
   ]
  },
  {
   "cell_type": "code",
   "execution_count": 29,
   "metadata": {
    "colab": {
     "base_uri": "https://localhost:8080/",
     "height": 35
    },
    "colab_type": "code",
    "id": "UlcyQaxUOJ6S",
    "outputId": "009040f6-e3bb-4d93-91e1-0b2c61cbfb6e"
   },
   "outputs": [
    {
     "data": {
      "text/plain": [
       "((415423, 36), (228170, 35))"
      ]
     },
     "execution_count": 29,
     "metadata": {},
     "output_type": "execute_result"
    }
   ],
   "source": [
    "train, test = id_statistic('bus_route_id', '1820_r_mean', '1820_r_sum')\n",
    "\n",
    "train.shape, test.shape"
   ]
  },
  {
   "cell_type": "code",
   "execution_count": 30,
   "metadata": {
    "colab": {
     "base_uri": "https://localhost:8080/",
     "height": 35
    },
    "colab_type": "code",
    "id": "LVjmq14ROJ9J",
    "outputId": "60d61eea-3924-413b-dadf-30eab7daa3b1"
   },
   "outputs": [
    {
     "data": {
      "text/plain": [
       "((415423, 38), (228170, 37))"
      ]
     },
     "execution_count": 30,
     "metadata": {},
     "output_type": "execute_result"
    }
   ],
   "source": [
    "train, test = id_statistic('station_code', '1820_s_mean', '1820_s_sum')\n",
    "\n",
    "train.shape, test.shape"
   ]
  },
  {
   "cell_type": "code",
   "execution_count": 31,
   "metadata": {
    "colab": {
     "base_uri": "https://localhost:8080/",
     "height": 35
    },
    "colab_type": "code",
    "id": "RaGnY3tSOKAj",
    "outputId": "45884125-707a-42a8-9cd0-b5044acbc7ae"
   },
   "outputs": [
    {
     "data": {
      "text/plain": [
       "((415423, 40), (228170, 39))"
      ]
     },
     "execution_count": 31,
     "metadata": {},
     "output_type": "execute_result"
    }
   ],
   "source": [
    "train, test = id_statistic('weekday','1820_w_mean','1820_w_sum')\n",
    "\n",
    "train.shape, test.shape"
   ]
  },
  {
   "cell_type": "code",
   "execution_count": 32,
   "metadata": {
    "colab": {},
    "colab_type": "code",
    "id": "xTNlaelbH40S"
   },
   "outputs": [],
   "source": [
    "def mean_statistics() :\n",
    "\n",
    "    f = train.groupby(['bus_route_id_weekday'])['18~20_ride'].agg([('mean_bus_weekday_ride','mean')]).reset_index()\n",
    "    tr = pd.merge(train, f, how='left', on='bus_route_id_weekday')\n",
    "    te = pd.merge(test, f, how='left', on='bus_route_id_weekday').fillna(f['mean_bus_weekday_ride'].mean())\n",
    "    \n",
    "    f = train.groupby(['station_code_weekday'])['18~20_ride'].agg([('mean_station_weekday_ride','mean')]).reset_index()\n",
    "    tr = pd.merge(tr, f, how='left', on='station_code_weekday')\n",
    "    te = pd.merge(te, f, how='left', on='station_code_weekday').fillna(f['mean_station_weekday_ride'].mean())\n",
    "    \n",
    "    f = train.groupby(['route_station_weekday'])['18~20_ride'].agg([('mean_route_station_weekday_ride','mean')]).reset_index()\n",
    "    tr = pd.merge(tr, f, how='left', on='route_station_weekday')\n",
    "    te = pd.merge(te, f, how='left', on='route_station_weekday').fillna(f['mean_route_station_weekday_ride'].mean())\n",
    "    \n",
    "    return tr, te"
   ]
  },
  {
   "cell_type": "code",
   "execution_count": 33,
   "metadata": {
    "colab": {
     "base_uri": "https://localhost:8080/",
     "height": 35
    },
    "colab_type": "code",
    "id": "D5h5dJBeCtIu",
    "outputId": "b700ab54-0583-4fa1-b16a-4b4a42795aed"
   },
   "outputs": [
    {
     "data": {
      "text/plain": [
       "((415423, 43), (228170, 42))"
      ]
     },
     "execution_count": 33,
     "metadata": {},
     "output_type": "execute_result"
    }
   ],
   "source": [
    "train, test = mean_statistics()\n",
    "\n",
    "train.shape, test.shape"
   ]
  },
  {
   "cell_type": "code",
   "execution_count": 34,
   "metadata": {
    "colab": {},
    "colab_type": "code",
    "id": "lZUJJFLACtFX"
   },
   "outputs": [],
   "source": [
    "# congestion \n",
    "# bus_route_id를 기준으로 18~20의 혼잡도를 계산한다 \n",
    "\n",
    "def congestion() :\n",
    "    df = train.groupby(['bus_route_id'])['18~20_ride'].agg([('passenger', 'sum')]) # bus_route_id 를 18~20에 타는 승객들을 합산해줌으로써 얼마나 붐비는지 알 수 있음 \n",
    "    df = df.sort_values(by='passenger', ascending=False).reset_index()\n",
    "    \n",
    "    def f(x):\n",
    "        if x > 10000:\n",
    "            return 7\n",
    "\n",
    "        elif x > 5000:\n",
    "            return 6\n",
    "\n",
    "        elif x > 2000:\n",
    "            return 5\n",
    "\n",
    "        elif x > 700:\n",
    "            return 4\n",
    "\n",
    "        elif x > 200:\n",
    "            return 3\n",
    "\n",
    "        elif x > 50:\n",
    "            return 2\n",
    "\n",
    "        else:\n",
    "            return 1\n",
    "    \n",
    "    df['congestion']=df['passenger'].apply(f)\n",
    "    df = df[['bus_route_id','congestion']]\n",
    "    \n",
    "    tr = pd.merge(train, df, how='left', on='bus_route_id')\n",
    "    te = pd.merge(test, df, how='left', on='bus_route_id')\n",
    "    \n",
    "    # 결측치는 데이터 프레임 df의 'congestion'의 중간값인 '4'으로 대체\n",
    "    te = te.fillna(4)\n",
    "    \n",
    "    return tr, te"
   ]
  },
  {
   "cell_type": "code",
   "execution_count": 35,
   "metadata": {
    "colab": {
     "base_uri": "https://localhost:8080/",
     "height": 35
    },
    "colab_type": "code",
    "id": "9bevL-3_CtBv",
    "outputId": "ce7b662c-a22d-4123-d418-51a31fd073c8"
   },
   "outputs": [
    {
     "data": {
      "text/plain": [
       "((415423, 44), (228170, 43))"
      ]
     },
     "execution_count": 35,
     "metadata": {},
     "output_type": "execute_result"
    }
   ],
   "source": [
    "train, test = congestion()\n",
    "\n",
    "train.shape, test.shape"
   ]
  },
  {
   "cell_type": "code",
   "execution_count": 36,
   "metadata": {
    "colab": {
     "base_uri": "https://localhost:8080/",
     "height": 35
    },
    "colab_type": "code",
    "id": "-05uFAEPCs-b",
    "outputId": "e8b273dd-fbfa-4adf-8222-e616d379d872"
   },
   "outputs": [
    {
     "data": {
      "text/plain": [
       "((415423, 45), (228170, 44))"
      ]
     },
     "execution_count": 36,
     "metadata": {},
     "output_type": "execute_result"
    }
   ],
   "source": [
    "# location = latitude + longitude\n",
    "\n",
    "\n",
    "train['location'] = train['latitude'].astype(str) + ',' + train['longitude'].astype(str)\n",
    "test['location'] = test['latitude'].astype(str) + ',' + test['longitude'].astype(str)\n",
    "\n",
    "train.shape, test.shape"
   ]
  },
  {
   "cell_type": "code",
   "execution_count": 37,
   "metadata": {
    "colab": {
     "base_uri": "https://localhost:8080/",
     "height": 35
    },
    "colab_type": "code",
    "id": "c8gPV2doCs7e",
    "outputId": "69eab6d1-902f-4833-f0fa-f34c6e303809"
   },
   "outputs": [
    {
     "data": {
      "text/plain": [
       "((415423, 46), (228170, 45))"
      ]
     },
     "execution_count": 37,
     "metadata": {},
     "output_type": "execute_result"
    }
   ],
   "source": [
    "# merge key \n",
    "# make cue column\n",
    "train['cue']=0\n",
    "test['cue']=1\n",
    "\n",
    "train.shape, test.shape\n"
   ]
  },
  {
   "cell_type": "code",
   "execution_count": 38,
   "metadata": {
    "colab": {},
    "colab_type": "code",
    "id": "rq8gTC1FCs4n"
   },
   "outputs": [],
   "source": [
    "def morning():  \n",
    "    # merge\n",
    "    data = pd.concat([train, test])\n",
    "    \n",
    "    a = data.groupby(['route_station'])['1012a'].agg({'sum', 'mean'}).reset_index()\n",
    "    a.columns = ['route_station', '1012a_sum','1012a_mean']\n",
    "\n",
    "    b = data.groupby(['route_station'])['1012b'].agg({'sum', 'mean'}).reset_index()\n",
    "    b.columns = ['route_station', '1012b_sum','1012b_mean']\n",
    "    b = b[['1012b_sum','1012b_mean']]\n",
    "\n",
    "    c = data.groupby(['route_station'])['10~11_ride'].agg({'sum', 'mean'}).reset_index()\n",
    "    c.columns = ['route_station', '10~11_ride_sum','10~11_ride_mean']\n",
    "    c = c[['10~11_ride_sum','10~11_ride_mean']]\n",
    "\n",
    "    d = data.groupby(['route_station'])['10~11_takeoff'].agg({'sum', 'mean'}).reset_index()\n",
    "    d.columns = ['route_station', '10~11_takeoff_sum','10~11_takeoff_mean']\n",
    "    d = d[['10~11_takeoff_sum','10~11_takeoff_mean']]\n",
    "\n",
    "    e = data.groupby(['route_station'])['11~12_ride'].agg({'sum', 'mean'}).reset_index()\n",
    "    e.columns = ['route_station', '11~12_ride_sum','11~12_ride_mean']\n",
    "    e = e[['11~12_ride_sum','11~12_ride_mean']]\n",
    "\n",
    "    f = data.groupby(['route_station'])['11~12_takeoff'].agg({'sum', 'mean'}).reset_index()\n",
    "    f.columns = ['route_station', '11~12_takeoff_sum','11~12_takeoff_mean']\n",
    "    f = f[['11~12_takeoff_sum','11~12_takeoff_mean']]\n",
    "\n",
    "    g = data.groupby(['route_station'])['1820_r_mean'].agg({'sum', 'mean'}).reset_index()\n",
    "    g.columns = ['route_station', '1820_r_mean_sum','1820_r_mean_mean']\n",
    "    g = g[['1820_r_mean_sum','1820_r_mean_mean']]\n",
    "\n",
    "    h = data.groupby(['route_station'])['1820_r_sum'].agg({'sum', 'mean'}).reset_index()\n",
    "    h.columns = ['route_station', '1820_r_sum_sum','1820_r_sum_mean']\n",
    "    h = h[['1820_r_sum_sum','1820_r_sum_mean']]\n",
    "\n",
    "    i = data.groupby(['route_station'])['1820_rs_mean'].agg({'sum', 'mean'}).reset_index()\n",
    "    i.columns = ['route_station', '1820_rs_mean_sum','1820_rs_mean_mean']\n",
    "    i = i[['1820_rs_mean_sum','1820_rs_mean_mean']]\n",
    "\n",
    "    j = data.groupby(['route_station'])['1820_rs_sum'].agg({'sum', 'mean'}).reset_index()\n",
    "    j.columns = ['route_station', '1820_rs_sum_sum','1820_rs_sum_mean']\n",
    "    j = j[['1820_rs_sum_sum','1820_rs_sum_mean']]\n",
    "\n",
    "    k = data.groupby(['route_station'])['1820_s_mean'].agg({'sum', 'mean'}).reset_index()\n",
    "    k.columns = ['route_station', '1820_s_mean_sum','1820_s_mean_mean']\n",
    "    k = k[['1820_s_mean_sum','1820_s_mean_mean']]\n",
    "\n",
    "    l = data.groupby(['route_station'])['1820_s_sum'].agg({'sum', 'mean'}).reset_index()\n",
    "    l.columns = ['route_station', '1820_s_sum_sum','1820_s_sum_mean']\n",
    "    l = l[['1820_s_sum_sum','1820_s_sum_mean']]\n",
    "\n",
    "    m = data.groupby(['route_station'])['1820_w_mean'].agg({'sum', 'mean'}).reset_index()\n",
    "    m.columns = ['route_station', '1820_w_mean_sum','1820_w_mean_mean']\n",
    "    m = m[['1820_w_mean_sum','1820_w_mean_mean']]\n",
    "\n",
    "    n = data.groupby(['route_station'])['1820_w_sum'].agg({'sum', 'mean'}).reset_index()\n",
    "    n.columns = ['route_station', '1820_w_sum_sum','1820_w_sum_mean']\n",
    "    n = n[['1820_w_sum_sum','1820_w_sum_mean']]\n",
    "\n",
    "    o = data.groupby(['route_station'])['68a'].agg({'sum', 'mean'}).reset_index()\n",
    "    o.columns = ['route_station', '68a_sum','68a_mean']\n",
    "    o = o[['68a_sum','68a_mean']]\n",
    "\n",
    "    p = data.groupby(['route_station'])['68b'].agg({'sum', 'mean'}).reset_index()\n",
    "    p.columns = ['route_station', '68b_sum','68b_mean']\n",
    "    p = p[['68b_sum','68b_mean']]\n",
    "\n",
    "    q = data.groupby(['route_station'])['6~7_ride'].agg({'sum', 'mean'}).reset_index()\n",
    "    q.columns = ['route_station', '6~7_ride_sum','6~7_ride_mean']\n",
    "    q = q[['6~7_ride_sum','6~7_ride_mean']]\n",
    "\n",
    "    r = data.groupby(['route_station'])['6~7_takeoff'].agg({'sum', 'mean'}).reset_index()\n",
    "    r.columns = ['route_station', '6~7_takeoff_sum','6~7_takeoff_mean']\n",
    "    r = r[['6~7_takeoff_sum','6~7_takeoff_mean']]\n",
    "\n",
    "    s = data.groupby(['route_station'])['7~8_ride'].agg({'sum', 'mean'}).reset_index()\n",
    "    s.columns = ['route_station', '7~8_ride_sum','7~8_ride_mean']\n",
    "    s = s[['7~8_ride_sum','7~8_ride_mean']]\n",
    "\n",
    "    t = data.groupby(['route_station'])['7~8_takeoff'].agg({'sum', 'mean'}).reset_index()\n",
    "    t.columns = ['route_station', '7~8_takeoff_sum','7~8_takeoff_mean']\n",
    "    t = t[['7~8_takeoff_sum','7~8_takeoff_mean']]\n",
    "\n",
    "    u = data.groupby(['route_station'])['810a'].agg({'sum', 'mean'}).reset_index()\n",
    "    u.columns = ['route_station', '810a_sum','810a_mean']\n",
    "    u = u[['810a_sum','810a_mean']]\n",
    "\n",
    "    v = data.groupby(['route_station'])['810b'].agg({'sum', 'mean'}).reset_index()\n",
    "    v.columns = ['route_station', '810b_sum','810b_mean']\n",
    "    v = v[['810b_sum','810b_mean']]\n",
    "\n",
    "    w = data.groupby(['route_station'])['8~9_ride'].agg({'sum', 'mean'}).reset_index()\n",
    "    w.columns = ['route_station', '8~9_ride_sum','8~9_ride_mean']\n",
    "    w = w[['8~9_ride_sum','8~9_ride_mean']]\n",
    "\n",
    "    x = data.groupby(['route_station'])['8~9_takeoff'].agg({'sum', 'mean'}).reset_index()\n",
    "    x.columns = ['route_station', '8~9_takeoff_sum','8~9_takeoff_mean']\n",
    "    x = x[['8~9_takeoff_sum','8~9_takeoff_mean']]\n",
    "\n",
    "    y = data.groupby(['route_station'])['9~10_ride'].agg({'sum', 'mean'}).reset_index()\n",
    "    y.columns = ['route_station', '9~10_ride_sum','9~10_ride_mean']\n",
    "    y = y[['9~10_ride_sum','9~10_ride_mean']]\n",
    "\n",
    "    z = data.groupby(['route_station'])['9~10_takeoff'].agg({'sum', 'mean'}).reset_index()\n",
    "    z.columns = ['route_station', '9~10_takeoff_sum','9~10_takeoff_mean']\n",
    "    z = z[['9~10_takeoff_sum','9~10_takeoff_mean']]\n",
    "    \n",
    "    df = pd.concat([a,b,c,d,e,f,g,h,i,j,k,l,m,n,o,p,q,r,s,t,u,v,w,x,y,z],axis=1)\n",
    "    df = pd.merge(data, df, how='left', on='route_station')\n",
    "    \n",
    "    return df\n",
    "\n"
   ]
  },
  {
   "cell_type": "code",
   "execution_count": 39,
   "metadata": {
    "colab": {
     "base_uri": "https://localhost:8080/",
     "height": 35
    },
    "colab_type": "code",
    "id": "d4HWhohzCs2K",
    "outputId": "06040284-4b56-47e3-bdc6-e375aaa7fda5"
   },
   "outputs": [
    {
     "data": {
      "text/plain": [
       "(643593, 98)"
      ]
     },
     "execution_count": 39,
     "metadata": {},
     "output_type": "execute_result"
    }
   ],
   "source": [
    "data = morning()\n",
    "\n",
    "data.shape"
   ]
  },
  {
   "cell_type": "code",
   "execution_count": 40,
   "metadata": {
    "colab": {},
    "colab_type": "code",
    "id": "y75n-Zr_CsyX"
   },
   "outputs": [],
   "source": [
    "# 배차 간격 \n",
    "train['bus_route_id'] = train['bus_route_id'].astype(np.int64)\n",
    "test['bus_route_id'] = test['bus_route_id'].astype(np.int64)"
   ]
  },
  {
   "cell_type": "code",
   "execution_count": 41,
   "metadata": {
    "colab": {},
    "colab_type": "code",
    "id": "sV9dOwS-Csup"
   },
   "outputs": [],
   "source": [
    "bts['geton_time2'] = pd.to_datetime(bts['geton_time'])\n",
    "\n",
    "f = bts.groupby(['geton_date','geton_time2','geton_station_code','bus_route_id'])['user_count'].\\\n",
    "agg([('탑승객_수','sum')]).reset_index().\\\n",
    "sort_values(by=['geton_date','geton_station_code','bus_route_id','geton_time2'], ascending=True).reset_index()\n",
    "\n",
    "f['index'] = list(range(0,len(f)))"
   ]
  },
  {
   "cell_type": "code",
   "execution_count": 42,
   "metadata": {
    "colab": {},
    "colab_type": "code",
    "id": "IMS5CyGzCsr6"
   },
   "outputs": [],
   "source": [
    "# time = []\n",
    "\n",
    "# for i in range(0,len(f)-1):\n",
    "\n",
    "#     if ((f.iloc[i].geton_date == f.iloc[i+1].geton_date) &\\\n",
    "#         (f.iloc[i].geton_station_code == f.iloc[i+1].geton_station_code) &\\\n",
    "#         (f.iloc[i].bus_route_id == f.iloc[i+1].bus_route_id)):\n",
    "\n",
    "#         time.append(f.iloc[i+1].geton_time2 - f.iloc[i].geton_time2)\n",
    "\n",
    "#     else:\n",
    "#         time.append(0)\n",
    "\n",
    "# time.insert(0, '0')\n"
   ]
  },
  {
   "cell_type": "code",
   "execution_count": 43,
   "metadata": {
    "colab": {},
    "colab_type": "code",
    "id": "xLCB8wBCCsos"
   },
   "outputs": [],
   "source": [
    "# def get_sec(time_str):\n",
    "\n",
    "#     h, m, s = time_str.split(':')\n",
    "\n",
    "#     return int(h) * 3600 + int(m) * 60 + int(s)"
   ]
  },
  {
   "cell_type": "code",
   "execution_count": 44,
   "metadata": {
    "colab": {},
    "colab_type": "code",
    "id": "lz1GdH-5CslE"
   },
   "outputs": [],
   "source": [
    "# def bus_interval() :\n",
    "\n",
    "#     f['time'] = time\n",
    "#     f['time2'] = f['time'].astype(str).str[7:]\n",
    "\n",
    "\n",
    "#     interval = f.copy()\n",
    "#     interval['time2'] = interval['time2'].astype(str).replace('','00:00:00')\n",
    "#     interval['bus_route_id'] = interval['bus_route_id'].astype(object)\n",
    "\n",
    "#     time4 = []\n",
    "\n",
    "#     for i in interval['time2'] :\n",
    "\n",
    "#         time4.append(get_sec(i))\n",
    "\n",
    "#     interval['time4'] = time4\n",
    "#     interval['time4'] = (interval['time4'] / 60).astype(int)\n",
    "\n",
    "#     interval = interval[interval['time4'] > 3] # 간격이 3분보다 작은 것 제외 \n",
    "#     interval = interval[interval['time4'] < 180] # 간격이 3시간보다 큰 것 제외\n",
    "\n",
    "#     interval = interval.groupby('bus_route_id')['time4'].agg([('bus_interval', 'mean')]).reset_index()\n",
    "#     interval['bus_interval'] = interval['bus_interval'].astype(int)\n",
    "\n",
    "#     # 나중에 시간을 절약하기 위해 csv 파일로 저장\n",
    "#     interval.to_csv('bus_interval_final.csv', index = False)\n",
    "\n",
    "#     print('success.. !')"
   ]
  },
  {
   "cell_type": "code",
   "execution_count": 45,
   "metadata": {
    "colab": {
     "base_uri": "https://localhost:8080/",
     "height": 35
    },
    "colab_type": "code",
    "id": "0pIAtD6ZCsiD",
    "outputId": "dcba6516-35c0-48ba-e8f5-49b83493d6a2"
   },
   "outputs": [
    {
     "name": "stdout",
     "output_type": "stream",
     "text": [
      "success.. !\n"
     ]
    }
   ],
   "source": [
    "\n",
    "# bus_interval()\n"
   ]
  },
  {
   "cell_type": "code",
   "execution_count": 46,
   "metadata": {
    "colab": {},
    "colab_type": "code",
    "id": "_RgL-QSXCse0"
   },
   "outputs": [],
   "source": [
    "# 이 과정은 상당히 오래걸리는 관계로 따로 데이터셋을 만들어서 구성해놓았습니다.\n",
    "bus_interval = pd.read_csv(\"bus_interval_final.csv\")\n",
    "data['bus_route_id'] = data['bus_route_id'].astype(np.int64)\n",
    "data = pd.merge(data, bus_interval, how = 'left', on = 'bus_route_id')"
   ]
  },
  {
   "cell_type": "code",
   "execution_count": 47,
   "metadata": {
    "colab": {},
    "colab_type": "code",
    "id": "0M9cbgLhCscP"
   },
   "outputs": [],
   "source": [
    "# 'bus_interval'컬럼에서 na값을 가지는 행들을 분석해본 결과, 대부분 18~20시의 탑승 인원이 거의 없는 bus_route_id 와 station_code 였다. 따라서 탑승 인원이 별로 없을 것이라고 예상되는 버스는 배차 간격이 길 것이라고 판단하여 na값을 '9999' 로 채워주었다.\n",
    "data['bus_interval'] = data['bus_interval'].fillna(9999)"
   ]
  },
  {
   "cell_type": "code",
   "execution_count": 48,
   "metadata": {
    "colab": {
     "base_uri": "https://localhost:8080/",
     "height": 35
    },
    "colab_type": "code",
    "id": "fTxjp7dKCsY6",
    "outputId": "61791251-53a4-4496-8460-6ebdfef2988f"
   },
   "outputs": [
    {
     "data": {
      "text/plain": [
       "(643593, 103)"
      ]
     },
     "execution_count": 48,
     "metadata": {},
     "output_type": "execute_result"
    }
   ],
   "source": [
    "# Label encoding feature\n",
    "# bus_route_id, station_name, route_station_weekday(bus_route_id + weekday의 조합), route_station(bus_route_id + station_code 의 조합) 총 4개를 라벨인코딩 해줌\n",
    "\n",
    "labelencoder = LabelEncoder()\n",
    "df_encode = data[['bus_route_id','station_code', 'route_station_weekday', 'route_station']]\n",
    "df_encoded = df_encode.apply(labelencoder.fit_transform)\n",
    "\n",
    "data['bus_route_id2']=df_encoded['bus_route_id']\n",
    "data['station_code2']=df_encoded['station_code']\n",
    "data['route_station_weekday2']=df_encoded['route_station_weekday']\n",
    "data['route_station2']=df_encoded['route_station']\n",
    "\n",
    "data.shape"
   ]
  },
  {
   "cell_type": "code",
   "execution_count": 49,
   "metadata": {
    "colab": {},
    "colab_type": "code",
    "id": "UJtj4qCXCsU6"
   },
   "outputs": [],
   "source": [
    "# weather \n",
    "\n",
    "def weather() :\n",
    "\n",
    "    weather_data = pd.read_csv('weather.csv', encoding = 'utf-8')\n",
    "    weather_data['id'] = range(0,46)\n",
    "\n",
    "    a = pd.DataFrame(data.date.unique(), columns=['date']) ; a['id'] = range(0,46)\n",
    "    weather_data = pd.merge(a, weather_data)\n",
    "    weather_data = weather_data[['date','현재일기_10','체감온도_10','일강수_10']]\n",
    "    weather_data = weather_data.replace(' ', 0)\n",
    "    df = pd.merge(data, weather_data, on='date')\n",
    "    # label_encoder\n",
    "    labelencoder = LabelEncoder()\n",
    "    df_encode = df[['현재일기_10']]\n",
    "    df_encoded = df_encode.apply(labelencoder.fit_transform)\n",
    "    df['현재일기_10']=df_encoded['현재일기_10']\n",
    "    # object->float 변수변환\n",
    "    df['현재일기_10'] = df['현재일기_10'].astype(float)\n",
    "    df['체감온도_10'] = df['체감온도_10'].astype(float)\n",
    "    df['일강수_10'] = df['일강수_10'].astype(float)\n",
    "    return df"
   ]
  },
  {
   "cell_type": "code",
   "execution_count": 50,
   "metadata": {
    "colab": {
     "base_uri": "https://localhost:8080/",
     "height": 35
    },
    "colab_type": "code",
    "id": "JNStL5lj04DE",
    "outputId": "cfaa6137-4154-40c7-a3f2-a9cfa0d22dbd"
   },
   "outputs": [
    {
     "data": {
      "text/plain": [
       "(46, 4)"
      ]
     },
     "execution_count": 50,
     "metadata": {},
     "output_type": "execute_result"
    }
   ],
   "source": [
    "weather_data = pd.read_csv('weather.csv')\n",
    "weather_data.shape"
   ]
  },
  {
   "cell_type": "code",
   "execution_count": 51,
   "metadata": {
    "colab": {
     "base_uri": "https://localhost:8080/",
     "height": 35
    },
    "colab_type": "code",
    "id": "oP9A246C87q8",
    "outputId": "584e8ae5-e788-4fe4-e2b4-c205a549db52"
   },
   "outputs": [
    {
     "data": {
      "text/plain": [
       "(643593, 106)"
      ]
     },
     "execution_count": 51,
     "metadata": {},
     "output_type": "execute_result"
    }
   ],
   "source": [
    "data = weather()\n",
    "data.shape"
   ]
  },
  {
   "cell_type": "code",
   "execution_count": 52,
   "metadata": {
    "colab": {
     "base_uri": "https://localhost:8080/",
     "height": 35
    },
    "colab_type": "code",
    "id": "oMy7JinizSB9",
    "outputId": "27df9ae7-d204-48bf-89d0-e6c357b96e71"
   },
   "outputs": [
    {
     "data": {
      "text/plain": [
       "(643593, 113)"
      ]
     },
     "execution_count": 52,
     "metadata": {},
     "output_type": "execute_result"
    }
   ],
   "source": [
    "# weekday(data)\n",
    "data['date'] = pd.to_datetime(data['date'])\n",
    "data['weekday'] = data['date'].dt.weekday\n",
    "data = pd.get_dummies(data,columns=['weekday'])\n",
    "data['weekday'] = data['date'].dt.weekday\n",
    "data.shape"
   ]
  },
  {
   "cell_type": "code",
   "execution_count": 53,
   "metadata": {
    "colab": {
     "base_uri": "https://localhost:8080/",
     "height": 35
    },
    "colab_type": "code",
    "id": "crXJnvwszWOU",
    "outputId": "3a4f1a6c-ceec-4c2f-f28f-eaec7a91c6ff"
   },
   "outputs": [
    {
     "data": {
      "text/plain": [
       "(643593, 113)"
      ]
     },
     "execution_count": 53,
     "metadata": {},
     "output_type": "execute_result"
    }
   ],
   "source": [
    "# in-out\n",
    "\n",
    "data['in_out'].value_counts()\n",
    "data['in_out'] = data['in_out'].map({'시내':0,'시외':1})\n",
    "\n",
    "data.shape"
   ]
  },
  {
   "cell_type": "code",
   "execution_count": 54,
   "metadata": {
    "colab": {
     "base_uri": "https://localhost:8080/",
     "height": 35
    },
    "colab_type": "code",
    "id": "TbLxkP0AzYs1",
    "outputId": "52578c6e-1ae1-4a9e-a9b2-0c2933083c8d"
   },
   "outputs": [
    {
     "data": {
      "text/plain": [
       "(643593, 124)"
      ]
     },
     "execution_count": 54,
     "metadata": {},
     "output_type": "execute_result"
    }
   ],
   "source": [
    "#  \n",
    "# 좌표데이터를 이용 변수\n",
    "# 좌표데이터를 이용한 변수를 만들 때는 많은 시간이 소요됩니다.\n",
    "\n",
    "\n",
    "coords_jejusi = (33.500770, 126.522761) #제주시의 위도 경도\n",
    "data['dis_jejusi'] = [geopy.distance.vincenty((data['latitude'].iloc[i],data['longitude'].iloc[i]), coords_jejusi).km for i in range(len(data))]\n",
    "\n",
    "coords_jejusicheong1 = (33.49892, 126.53035) #제주시청(광양방면)의 위도 경도\n",
    "coords_jejuairport = (33.50661, 126.49345) #제주국제공항(구제주방면)의 위도 경도\n",
    "coords_hallahosp = (33.48963, 126.486) #한라병원의 위도 경도\n",
    "coords_rotary = (33.49143, 126.49678) # 제주도청신제주로터리의 위도 경도\n",
    "coords_jejucenterhigh = (33.48902, 126.5392) #제주중앙여자고등학교의 위도 경도\n",
    "coords_jejumarket = (33.51315, 126.52706) #동문시장의 위도 경도\n",
    "coords_jejusclass = (33.47626, 126.48141) #제주고등학교/중흥S클래스의 위도 경도\n",
    "coords_centerroad = (33.51073, 126.5239) #중앙로(국민은행)의 위도 경도\n",
    "coords_fiveway = (33.48667, 126.48092) # 노형오거리의 위도 경도\n",
    "coords_law = (33.49363, 126.53476) # 제주지방법원(광양방면)의 위도 경도\n",
    "\n",
    "data['dis_jejusicheong1'] = [geopy.distance.vincenty((data['latitude'].iloc[i],data['longitude'].iloc[i]), coords_jejusicheong1).km for i in range(len(data))]\n",
    "data['dis_jejuairport'] = [geopy.distance.vincenty((data['latitude'].iloc[i],data['longitude'].iloc[i]), coords_jejuairport).km for i in range(len(data))]\n",
    "data['dis_hallahosp'] = [geopy.distance.vincenty((data['latitude'].iloc[i],data['longitude'].iloc[i]), coords_hallahosp).km for i in range(len(data))]\n",
    "data['dis_rotary'] = [geopy.distance.vincenty((data['latitude'].iloc[i],data['longitude'].iloc[i]), coords_rotary).km for i in range(len(data))]\n",
    "data['dis_jejucenterhigh'] = [geopy.distance.vincenty((data['latitude'].iloc[i],data['longitude'].iloc[i]), coords_jejucenterhigh).km for i in range(len(data))]\n",
    "data['dis_jejumarket'] = [geopy.distance.vincenty((data['latitude'].iloc[i],data['longitude'].iloc[i]), coords_jejumarket).km for i in range(len(data))]\n",
    "data['dis_jejusclass'] = [geopy.distance.vincenty((data['latitude'].iloc[i],data['longitude'].iloc[i]), coords_jejusclass).km for i in range(len(data))]\n",
    "data['dis_centerroad'] = [geopy.distance.vincenty((data['latitude'].iloc[i],data['longitude'].iloc[i]), coords_centerroad).km for i in range(len(data))]\n",
    "data['dis_fiveway'] = [geopy.distance.vincenty((data['latitude'].iloc[i],data['longitude'].iloc[i]), coords_fiveway).km for i in range(len(data))]\n",
    "data['dis_law'] = [geopy.distance.vincenty((data['latitude'].iloc[i],data['longitude'].iloc[i]), coords_law).km for i in range(len(data))]\n",
    "\n",
    "data.shape"
   ]
  },
  {
   "cell_type": "code",
   "execution_count": 55,
   "metadata": {
    "colab": {
     "base_uri": "https://localhost:8080/",
     "height": 35
    },
    "colab_type": "code",
    "id": "Hmno6ePezhZk",
    "outputId": "c8ddd607-d69f-454b-e427-da03ca628f14"
   },
   "outputs": [
    {
     "data": {
      "text/plain": [
       "(643593, 126)"
      ]
     },
     "execution_count": 55,
     "metadata": {},
     "output_type": "execute_result"
    }
   ],
   "source": [
    "# 출근시간 총 승객 수 \n",
    "data['ride_sum'] = data['6~7_ride'] + data['7~8_ride'] + data['8~9_ride'] + data['9~10_ride'] + data['10~11_ride'] + data['11~12_ride'] \n",
    "data['takeoff_sum'] = data['6~7_takeoff'] + data['7~8_takeoff'] + data['8~9_takeoff'] + data['9~10_takeoff'] + data['10~11_takeoff'] + data['11~12_takeoff'] \n",
    "\n",
    "data.shape"
   ]
  },
  {
   "cell_type": "code",
   "execution_count": 56,
   "metadata": {
    "colab": {
     "base_uri": "https://localhost:8080/",
     "height": 35
    },
    "colab_type": "code",
    "id": "utdljdqHzlkc",
    "outputId": "9d6be6e3-3832-4480-f276-e5a2e6120c80"
   },
   "outputs": [
    {
     "data": {
      "text/plain": [
       "(643593, 131)"
      ]
     },
     "execution_count": 56,
     "metadata": {},
     "output_type": "execute_result"
    }
   ],
   "source": [
    "# 날짜 및 시간대 별 총 승객 수 \n",
    "f = data.groupby('date')['6~7_ride'].agg([('6~7_all_ride_number', 'sum')]).reset_index()\n",
    "data = pd.merge(data, f, how='left')\n",
    "\n",
    "f = data.groupby('date')['7~8_ride'].agg([('7~8_all_ride_number', 'sum')]).reset_index()\n",
    "data = pd.merge(data, f, how='left')\n",
    "\n",
    "f = data.groupby('date')['8~9_ride'].agg([('8~9_all_ride_number', 'sum')]).reset_index()\n",
    "data = pd.merge(data, f, how='left')\n",
    "\n",
    "f = data.groupby('date')['9~10_ride'].agg([('9~10_all_ride_number', 'sum')]).reset_index()\n",
    "data = pd.merge(data, f, how='left')\n",
    "\n",
    "f = data.groupby('date')['10~11_ride'].agg([('10~11_all_ride_number', 'sum')]).reset_index()\n",
    "data = pd.merge(data, f, how='left')\n",
    "\n",
    "data.shape"
   ]
  },
  {
   "cell_type": "code",
   "execution_count": 57,
   "metadata": {
    "colab": {},
    "colab_type": "code",
    "id": "fsl7ddpMzqg5"
   },
   "outputs": [],
   "source": [
    "# 주말, 주중 \n",
    "def h(x):\n",
    "    if x ==5:\n",
    "        return 1\n",
    "    elif x==6:\n",
    "        return 1\n",
    "    else:\n",
    "        return 0"
   ]
  },
  {
   "cell_type": "code",
   "execution_count": 58,
   "metadata": {
    "colab": {
     "base_uri": "https://localhost:8080/",
     "height": 35
    },
    "colab_type": "code",
    "id": "8g61Y6YEzrGp",
    "outputId": "9888155c-d46d-41da-f551-1d675facffd3"
   },
   "outputs": [
    {
     "data": {
      "text/plain": [
       "(643593, 132)"
      ]
     },
     "execution_count": 58,
     "metadata": {},
     "output_type": "execute_result"
    }
   ],
   "source": [
    "data['weekend'] = data['weekday'].apply(h)\n",
    "\n",
    "data.shape"
   ]
  },
  {
   "cell_type": "code",
   "execution_count": 59,
   "metadata": {
    "colab": {},
    "colab_type": "code",
    "id": "QhYWaimizrdL"
   },
   "outputs": [],
   "source": [
    "# 연휴 \n",
    "def g(x):\n",
    "    if x in ['2019-09-12','2019-09-13','2019-09-14','2019-10-03','2019-10-09']:\n",
    "        return 1\n",
    "    else:\n",
    "        return 0"
   ]
  },
  {
   "cell_type": "code",
   "execution_count": 60,
   "metadata": {
    "colab": {
     "base_uri": "https://localhost:8080/",
     "height": 35
    },
    "colab_type": "code",
    "id": "7MBNADVMzrzT",
    "outputId": "d26d66d4-1369-4a41-c5e0-9b8769388c80"
   },
   "outputs": [
    {
     "data": {
      "text/plain": [
       "(643593, 133)"
      ]
     },
     "execution_count": 60,
     "metadata": {},
     "output_type": "execute_result"
    }
   ],
   "source": [
    "data['holiday'] = data['date'].apply(g) \n",
    "\n",
    "data.shape"
   ]
  },
  {
   "cell_type": "code",
   "execution_count": 61,
   "metadata": {
    "colab": {},
    "colab_type": "code",
    "id": "Z8pfNJo1zsWl"
   },
   "outputs": [],
   "source": [
    "# 요일 별 평균 승객 수 \n",
    "\n",
    "def week_mean() :\n",
    "\n",
    "    df = data.reset_index(drop=True)\n",
    "    df.groupby('weekday')['18~20_ride'].mean()\n",
    "    df['weekdaymean']= 1\n",
    "\n",
    "    index0 = df.query('weekday==0').index\n",
    "    index1 = df.query('weekday==1').index\n",
    "    index2 = df.query('weekday==2').index\n",
    "    index3 = df.query('weekday==3').index\n",
    "    index4 = df.query('weekday==4').index\n",
    "    index5 = df.query('weekday==5').index\n",
    "    index6 = df.query('weekday==6').index\n",
    "\n",
    "    df.iloc[index0,-1] = 1.343710\n",
    "    df.iloc[index1,-1] = 1.375319\n",
    "    df.iloc[index2,-1] = 1.430856\n",
    "    df.iloc[index3,-1] = 1.256710\n",
    "    df.iloc[index4,-1] = 1.067439\n",
    "    df.iloc[index5,-1] = 1.062123\n",
    "    df.iloc[index6,-1] = 1.034282\n",
    "\n",
    "    return df"
   ]
  },
  {
   "cell_type": "code",
   "execution_count": 62,
   "metadata": {
    "colab": {
     "base_uri": "https://localhost:8080/",
     "height": 35
    },
    "colab_type": "code",
    "id": "gr1-2BqYzsmc",
    "outputId": "1a3c2cb7-6bc9-460f-be6a-6b20c3d17f1a"
   },
   "outputs": [
    {
     "data": {
      "text/plain": [
       "(643593, 134)"
      ]
     },
     "execution_count": 62,
     "metadata": {},
     "output_type": "execute_result"
    }
   ],
   "source": [
    "data = week_mean()\n",
    "\n",
    "data.shape"
   ]
  },
  {
   "cell_type": "code",
   "execution_count": 63,
   "metadata": {
    "colab": {
     "base_uri": "https://localhost:8080/",
     "height": 35
    },
    "colab_type": "code",
    "id": "TzemV5YQzuZA",
    "outputId": "74e61ab4-2413-4d27-8f27-7a275fd90686"
   },
   "outputs": [
    {
     "data": {
      "text/plain": [
       "(643593, 135)"
      ]
     },
     "execution_count": 63,
     "metadata": {},
     "output_type": "execute_result"
    }
   ],
   "source": [
    "# 시내 및 시외버스 별 평균 탑승 승객 \n",
    "data['in_out_mean'] = 1\n",
    "inindex = data.query('in_out == \"시내\"').index\n",
    "outindex = data.query('in_out == \"시외\"').index\n",
    "\n",
    "data.iloc[inindex,-1] = 1.228499\n",
    "data.iloc[outindex,-1] = 2.044345\n",
    "data['congestion'] = data['congestion'].astype('int64')\n",
    "\n",
    "data.shape"
   ]
  },
  {
   "cell_type": "code",
   "execution_count": 64,
   "metadata": {
    "colab": {},
    "colab_type": "code",
    "id": "0wtyuYG0zurT"
   },
   "outputs": [],
   "source": [
    "# 카테고리별 승객 수 \n",
    "def category_people() :\n",
    "    bts['bus_route_id'] = bts['bus_route_id'].astype(str)\n",
    "\n",
    "    f = bts.groupby(['bus_route_id','user_category'])['user_count'].agg([('승객수', 'sum')]).reset_index()\n",
    "\n",
    "    g = pd.pivot_table(f, values='승객수', index='bus_route_id', columns='user_category',fill_value=0).reset_index()\n",
    "    g.columns = ['bus_route_id', 'adult','kids','teen','elder','jang','jang2','ugong','ugong2']\n",
    "    g = g[['bus_route_id', 'adult','kids','teen','elder']]\n",
    "\n",
    "    # merge\n",
    "    df = pd.merge(data, g, how='left', on='bus_route_id')\n",
    "\n",
    "    # na preprocessing -> mean value\n",
    "    df['adult'] = df['adult'].fillna(2363.077778)\n",
    "    df['kids'] = df['kids'].fillna(60.426984)\n",
    "    df['teen'] = df['teen'].fillna(448.277778)\n",
    "    df['elder'] = df['elder'].fillna(751.309524)\n",
    "                 \n",
    "    return df"
   ]
  },
  {
   "cell_type": "code",
   "execution_count": 65,
   "metadata": {
    "colab": {},
    "colab_type": "code",
    "id": "GVdcoc3UzvoS"
   },
   "outputs": [],
   "source": [
    "data['bus_route_id'] = data['bus_route_id'].astype(str)"
   ]
  },
  {
   "cell_type": "code",
   "execution_count": 66,
   "metadata": {
    "colab": {
     "base_uri": "https://localhost:8080/",
     "height": 35
    },
    "colab_type": "code",
    "id": "yRDadY_lzv_-",
    "outputId": "69affab1-b209-4df4-ebac-6f0d1c71d8f0"
   },
   "outputs": [
    {
     "data": {
      "text/plain": [
       "(643593, 139)"
      ]
     },
     "execution_count": 66,
     "metadata": {},
     "output_type": "execute_result"
    }
   ],
   "source": [
    "data = category_people()\n",
    "\n",
    "data.shape"
   ]
  },
  {
   "cell_type": "code",
   "execution_count": 67,
   "metadata": {
    "colab": {},
    "colab_type": "code",
    "id": "97GdRUQjzweh"
   },
   "outputs": [],
   "source": [
    "# Category별 승객의 비율\n",
    "\n",
    "def category_people_ratio() :\n",
    "    \n",
    "    a = bts.groupby('bus_route_id')['user_count'].agg([('전체', 'sum')]).reset_index()\n",
    "    b = bts.groupby(['bus_route_id','user_category'])['user_count'].agg([('승객수', 'sum')]).reset_index()\n",
    "\n",
    "    c = pd.merge(b, a, on='bus_route_id')\n",
    "    c['비율'] = c['승객수']/c['전체']\n",
    "    c = pd.pivot_table(c, values='비율', index='bus_route_id', columns='user_category',fill_value=0).reset_index()\n",
    "    c.columns = ['bus_route_id', 'adult_prop','kids_prop','teen_prop','elder_prop','jang_prop','jang2_prop','ugong_prop','ugong2_prop']\n",
    "    f = c[['bus_route_id', 'adult_prop','kids_prop','teen_prop','elder_prop']]\n",
    "\n",
    "    df = pd.merge(data, f, how='left', on='bus_route_id')\n",
    "\n",
    "    # na preprocessing -> mean value\n",
    "    df['adult_prop'] = df['adult_prop'].fillna(0.549702)\n",
    "    df['kids_prop'] = df['kids_prop'].fillna(60.426984)\n",
    "    df['teen_prop'] = df['teen_prop'].fillna(0.019902)\n",
    "    df['elder_prop'] = df['elder_prop'].fillna(0.235848)\n",
    "\n",
    "    return df"
   ]
  },
  {
   "cell_type": "code",
   "execution_count": 68,
   "metadata": {
    "colab": {
     "base_uri": "https://localhost:8080/",
     "height": 35
    },
    "colab_type": "code",
    "id": "MDo0x9lHzx68",
    "outputId": "3fba8988-7e5f-4447-cb1b-fc4b88960097"
   },
   "outputs": [
    {
     "data": {
      "text/plain": [
       "(643593, 143)"
      ]
     },
     "execution_count": 68,
     "metadata": {},
     "output_type": "execute_result"
    }
   ],
   "source": [
    "data = category_people_ratio()\n",
    "\n",
    "data.shape"
   ]
  },
  {
   "cell_type": "code",
   "execution_count": 84,
   "metadata": {},
   "outputs": [
    {
     "name": "stdout",
     "output_type": "stream",
     "text": [
      "id\n",
      "date\n",
      "bus_route_id\n",
      "in_out\n",
      "station_code\n",
      "station_name\n",
      "latitude\n",
      "longitude\n",
      "6~7_ride\n",
      "7~8_ride\n",
      "8~9_ride\n",
      "9~10_ride\n",
      "10~11_ride\n",
      "11~12_ride\n",
      "6~7_takeoff\n",
      "7~8_takeoff\n",
      "8~9_takeoff\n",
      "9~10_takeoff\n",
      "10~11_takeoff\n",
      "11~12_takeoff\n",
      "18~20_ride\n",
      "route_station\n",
      "bus_route_id_weekday\n",
      "station_code_weekday\n",
      "route_station_weekday\n",
      "68a\n",
      "810a\n",
      "1012a\n",
      "68b\n",
      "810b\n",
      "1012b\n",
      "1820_rs_mean\n",
      "1820_rs_sum\n",
      "1820_r_mean\n",
      "1820_r_sum\n",
      "1820_s_mean\n",
      "1820_s_sum\n",
      "1820_w_mean\n",
      "1820_w_sum\n",
      "mean_bus_weekday_ride\n",
      "mean_station_weekday_ride\n",
      "mean_route_station_weekday_ride\n",
      "congestion\n",
      "location\n",
      "cue\n",
      "1012a_sum\n",
      "1012a_mean\n",
      "1012b_sum\n",
      "1012b_mean\n",
      "10~11_ride_sum\n",
      "10~11_ride_mean\n",
      "10~11_takeoff_sum\n",
      "10~11_takeoff_mean\n",
      "11~12_ride_sum\n",
      "11~12_ride_mean\n",
      "11~12_takeoff_sum\n",
      "11~12_takeoff_mean\n",
      "1820_r_mean_sum\n",
      "1820_r_mean_mean\n",
      "1820_r_sum_sum\n",
      "1820_r_sum_mean\n",
      "1820_rs_mean_sum\n",
      "1820_rs_mean_mean\n",
      "1820_rs_sum_sum\n",
      "1820_rs_sum_mean\n",
      "1820_s_mean_sum\n",
      "1820_s_mean_mean\n",
      "1820_s_sum_sum\n",
      "1820_s_sum_mean\n",
      "1820_w_mean_sum\n",
      "1820_w_mean_mean\n",
      "1820_w_sum_sum\n",
      "1820_w_sum_mean\n",
      "68a_sum\n",
      "68a_mean\n",
      "68b_sum\n",
      "68b_mean\n",
      "6~7_ride_sum\n",
      "6~7_ride_mean\n",
      "6~7_takeoff_sum\n",
      "6~7_takeoff_mean\n",
      "7~8_ride_sum\n",
      "7~8_ride_mean\n",
      "7~8_takeoff_sum\n",
      "7~8_takeoff_mean\n",
      "810a_sum\n",
      "810a_mean\n",
      "810b_sum\n",
      "810b_mean\n",
      "8~9_ride_sum\n",
      "8~9_ride_mean\n",
      "8~9_takeoff_sum\n",
      "8~9_takeoff_mean\n",
      "9~10_ride_sum\n",
      "9~10_ride_mean\n",
      "9~10_takeoff_sum\n",
      "9~10_takeoff_mean\n",
      "bus_interval\n",
      "bus_route_id2\n",
      "station_code2\n",
      "route_station_weekday2\n",
      "route_station2\n",
      "현재일기_10\n",
      "체감온도_10\n",
      "일강수_10\n",
      "weekday_0\n",
      "weekday_1\n",
      "weekday_2\n",
      "weekday_3\n",
      "weekday_4\n",
      "weekday_5\n",
      "weekday_6\n",
      "weekday\n",
      "dis_jejusi\n",
      "dis_jejusicheong1\n",
      "dis_jejuairport\n",
      "dis_hallahosp\n",
      "dis_rotary\n",
      "dis_jejucenterhigh\n",
      "dis_jejumarket\n",
      "dis_jejusclass\n",
      "dis_centerroad\n",
      "dis_fiveway\n",
      "dis_law\n",
      "ride_sum\n",
      "takeoff_sum\n",
      "6~7_all_ride_number\n",
      "7~8_all_ride_number\n",
      "8~9_all_ride_number\n",
      "9~10_all_ride_number\n",
      "10~11_all_ride_number\n",
      "weekend\n",
      "holiday\n",
      "weekdaymean\n",
      "in_out_mean\n",
      "adult\n",
      "kids\n",
      "teen\n",
      "elder\n",
      "adult_prop\n",
      "kids_prop\n",
      "teen_prop\n",
      "elder_prop\n"
     ]
    }
   ],
   "source": [
    "for col in data.columns:\n",
    "    print(col)"
   ]
  },
  {
   "cell_type": "code",
   "execution_count": 98,
   "metadata": {
    "colab": {},
    "colab_type": "code",
    "id": "MxyC1cXUzzKL"
   },
   "outputs": [],
   "source": [
    "# 각 동, 읍, 면별 직업군별 비율, 평균소득액, 평균소비액 \n",
    "# eju_finantial_life_data (외부데이터) 사용하여 피쳐 생성\n",
    "\n",
    "# train, test 데이터의 'latitude', 'longitude'열, jeju_financial_life_data의 'X_AXIS', 'Y_AXIS'열을 지오코딩 프로그램을 사용하여 주소로 변환하였다. 변환한 주소를 전처리 하여 동 기준으로 두 데이터를 합쳐주었다. \n",
    "# 그 뒤 파생변수를 생성하였다.\n",
    "# data_address.csv는 data의 주소가, life_address.csv는 jeju_finantial_life_data의 주소가 담겨있다.\n",
    "\n",
    "def jeoju_love() :\n",
    "    \n",
    "    loc_data = pd.read_csv(\"data_address.csv\", encoding='cp949')\n",
    "    loc_life = pd.read_csv(\"life_address.csv\", encoding='cp949')\n",
    "    \n",
    "    # location = coordi \n",
    "    loc_data = loc_data[['location','dong', 'si']]\n",
    "    loc_life = loc_life[['location','dong', 'si']]\n",
    "\n",
    "    df = pd.merge(data, loc_data, how='left', on='location')\n",
    "    \n",
    "    jeju_life = pd.read_csv(\"jeju_financial_life_data.csv\")\n",
    "    jeju_life['location'] = jeju_life['x_axis'].astype(str).str[:10] + ',' + jeju_life['y_axis'].astype(str).str[:10]\n",
    "    jeju_life2 = pd.merge(jeju_life, loc_life, on='location')\n",
    "\n",
    "    dong_f1 = jeju_life2.groupby(['dong'])[['job_majorc', 'job_smallc', 'job_public', 'job_profession', 'job_self','vehicle_own_rat', 'avg_income', 'med_income', 'avg_spend']].mean().reset_index()\n",
    "    dong_f1.columns=['dong','mean_job_majorc', 'mean_job_smallc', 'mean_job_public', 'mean_job_profession', 'mean_job_self','mean_vehicle_own_rat', 'mean_avg_income', 'mean_med_income', 'mean_avg_spend']\n",
    "\n",
    "    dong_f2 = jeju_life2.groupby(['dong'])[['job_majorc', 'job_smallc', 'job_public', 'job_profession', 'job_self','vehicle_own_rat', 'avg_income', 'med_income', 'avg_spend']].sum().reset_index()\n",
    "    dong_f2.columns=['dong','sum_job_majorc', 'sum_job_smallc', 'sum_job_public', 'sum_job_profession', 'sum_job_self','sum_vehicle_own_rat', 'sum_avg_income', 'sum_med_income', 'sum_avg_spend']\n",
    "\n",
    "    dong_f3 = (jeju_life2.groupby(['dong'])['job_majorc', 'job_smallc', 'job_public', 'job_profession', 'job_self','vehicle_own_rat', 'avg_income', 'med_income', 'avg_spend'].sum()/jeju_life2.groupby(['dong'])['job_majorc', 'job_smallc', 'job_public', 'job_profession', 'job_self','vehicle_own_rat', 'avg_income', 'med_income', 'avg_spend'].sum().sum()).reset_index()\n",
    "    dong_f3.columns = ['dong','rate_job_majorc', 'rate_job_smallc', 'rate_job_public', 'rate_job_profession', 'rate_job_self','rate_vehicle_own_rat', 'rate_avg_income', 'rate_med_income', 'rate_avg_spend']\n",
    "\n",
    "    \n",
    "    m_1 = pd.merge(dong_f1, dong_f2, how='left', on='dong')\n",
    "    m_2 = pd.merge(m_1, dong_f3, how='left', on='dong')\n",
    "    df = pd.merge(df, m_2, how='left', on='dong')\n",
    "\n",
    "    #  # na preprocessing -> mean value\n",
    "    df['mean_job_majorc'] = df['mean_job_majorc'].fillna(0.024219)\n",
    "    df['mean_job_smallc'] = df['mean_job_smallc'].fillna(0.145757)\n",
    "    df['mean_job_public'] = df['mean_job_public'].fillna(0.032768)\n",
    "    df['mean_job_profession'] = df['mean_job_profession'].fillna(0.014855)\n",
    "    df['mean_job_self'] = df['mean_job_self'].fillna(0.222090)\n",
    "    df['mean_vehicle_own_rat'] = df['mean_vehicle_own_rat'].fillna(0.041161)\n",
    "    df['mean_avg_income'] = df['mean_avg_income'].fillna(34221420)\n",
    "    df['mean_med_income'] = df['mean_med_income'].fillna(30645290)\n",
    "    df['mean_avg_spend'] = df['mean_avg_spend'].fillna(4224923)\n",
    "\n",
    "    df['sum_job_majorc'] = df['sum_job_majorc'].fillna(3.717861e+00)\n",
    "    df['sum_job_smallc'] = df['sum_job_smallc'].fillna(2.078142e+01)\n",
    "    df['sum_job_public'] = df['sum_job_public'].fillna(4.747755e+00)\n",
    "    df['sum_job_profession'] = df['sum_job_profession'].fillna(2.169554e+00)\n",
    "    df['sum_job_self'] = df['sum_job_self'].fillna(3.044199e+01)\n",
    "    df['sum_vehicle_own_rat'] = df['sum_vehicle_own_rat'].fillna(5.609080e+00)\n",
    "    df['sum_avg_income'] = df['sum_avg_income'].fillna(4.998226e+09)\n",
    "    df['sum_med_income'] = df['sum_med_income'].fillna(4.455924e+09)\n",
    "    df['sum_avg_spend'] = df['sum_avg_spend'].fillna(6.147678e+08)\n",
    "\n",
    "    df['rate_job_majorc'] = df['rate_job_majorc'].fillna(1.388889e-02)\n",
    "    df['rate_job_smallc'] = df['rate_job_smallc'].fillna(1.388889e-02)\n",
    "    df['rate_job_public'] = df['rate_job_public'].fillna(1.388889e-02)\n",
    "    df['rate_job_profession'] = df['rate_job_profession'].fillna(1.388889e-02)\n",
    "    df['rate_job_self'] = df['rate_job_self'].fillna(1.388889e-02)\n",
    "    df['rate_vehicle_own_rat'] = df['rate_vehicle_own_rat'].fillna(1.388889e-02)\n",
    "    df['rate_avg_income'] = df['rate_avg_income'].fillna(1.388889e-02)\n",
    "    df['rate_med_income'] = df['rate_med_income'].fillna(1.388889e-02)\n",
    "    df['rate_avg_spend'] = df['rate_avg_spend'].fillna(1.388889e-02)\n",
    "\n",
    "    return df"
   ]
  },
  {
   "cell_type": "code",
   "execution_count": 99,
   "metadata": {
    "colab": {
     "base_uri": "https://localhost:8080/",
     "height": 352
    },
    "colab_type": "code",
    "id": "_tVfQGvL0_Ah",
    "outputId": "655796a7-1461-442e-d9c6-a3c03fe47ed9"
   },
   "outputs": [
    {
     "data": {
      "text/plain": [
       "(643593, 172)"
      ]
     },
     "execution_count": 99,
     "metadata": {},
     "output_type": "execute_result"
    }
   ],
   "source": [
    "data = jeoju_love()\n",
    "\n",
    "data.shape"
   ]
  },
  {
   "cell_type": "code",
   "execution_count": 101,
   "metadata": {
    "colab": {},
    "colab_type": "code",
    "id": "q1Rf5bMwz0cW"
   },
   "outputs": [],
   "source": [
    "# 수요가 많을 것으로 예상되는 정류장\n",
    "g = data[data['station_name'].str.contains('고등학교')]\n",
    "highschool = list(g['station_name'].unique())\n",
    "\n",
    "g = data[data['station_name'].str.contains('대학교')]\n",
    "university = list(g['station_name'].unique())"
   ]
  },
  {
   "cell_type": "code",
   "execution_count": 102,
   "metadata": {
    "colab": {},
    "colab_type": "code",
    "id": "qa7hJbmjz0xs"
   },
   "outputs": [],
   "source": [
    "def f(x):\n",
    "    if x in highschool:\n",
    "        return 1\n",
    "    elif x in university:\n",
    "        return 1\n",
    "    else:\n",
    "        return 0"
   ]
  },
  {
   "cell_type": "code",
   "execution_count": 103,
   "metadata": {
    "colab": {},
    "colab_type": "code",
    "id": "_iGpTUnNz1LM"
   },
   "outputs": [],
   "source": [
    "data['school'] = data['station_name'].apply(f)"
   ]
  },
  {
   "cell_type": "code",
   "execution_count": 104,
   "metadata": {
    "colab": {},
    "colab_type": "code",
    "id": "4l3Ac460z1iM"
   },
   "outputs": [],
   "source": [
    "g = data[data['station_name'].str.contains('환승')]\n",
    "transfer = list(g['station_name'].unique())\n",
    "\n",
    "g = data[data['station_name'].str.contains('공항')]\n",
    "airport = list(g['station_name'].unique())\n",
    "\n",
    "g = data[data['station_name'].str.contains('터미널')]\n",
    "terminal = list(g['station_name'].unique())"
   ]
  },
  {
   "cell_type": "code",
   "execution_count": 105,
   "metadata": {
    "colab": {},
    "colab_type": "code",
    "id": "RaxO92hkz127"
   },
   "outputs": [],
   "source": [
    "def f(x):\n",
    "    if x in transfer:\n",
    "        return 1\n",
    "    elif x in airport:\n",
    "        return 1\n",
    "    elif x in terminal:\n",
    "        return 1\n",
    "    else:\n",
    "        return 0"
   ]
  },
  {
   "cell_type": "code",
   "execution_count": 106,
   "metadata": {
    "colab": {},
    "colab_type": "code",
    "id": "jo2497Taz26b"
   },
   "outputs": [
    {
     "data": {
      "text/plain": [
       "(643593, 174)"
      ]
     },
     "execution_count": 106,
     "metadata": {},
     "output_type": "execute_result"
    }
   ],
   "source": [
    "data['transfer'] = data['station_name'].apply(f) \n",
    "\n",
    "data.shape"
   ]
  },
  {
   "cell_type": "code",
   "execution_count": 107,
   "metadata": {
    "colab": {},
    "colab_type": "code",
    "id": "QGg3ELiJz3Lk"
   },
   "outputs": [
    {
     "data": {
      "text/plain": [
       "(643593, 175)"
      ]
     },
     "execution_count": 107,
     "metadata": {},
     "output_type": "execute_result"
    }
   ],
   "source": [
    "# 동- 라벨 인코딩 \n",
    "labelencoder = LabelEncoder()\n",
    "df_encode = data[['dong']]\n",
    "df_encoded = df_encode.apply(labelencoder.fit_transform)\n",
    "\n",
    "data['dong2']=df_encoded['dong']\n",
    "\n",
    "data.shape"
   ]
  },
  {
   "cell_type": "code",
   "execution_count": 108,
   "metadata": {
    "colab": {},
    "colab_type": "code",
    "id": "8K7NaII8z3-0"
   },
   "outputs": [],
   "source": [
    "# 측정소와 정류장 사이 거리 계산 \n",
    "def dist() :\n",
    "    jeju=(33.51411, 126.52969) # 제주 측정소 근처\n",
    "    gosan=(33.29382, 126.16283) #고산 측정소 근처\n",
    "    seongsan=(33.38677, 126.8802) #성산 측정소 근처\n",
    "    po=(33.24616, 126.5653) #서귀포 측정소 근처\n",
    "\n",
    "    t1 = [geopy.distance.vincenty( (i,j), jeju).km for i,j in list( zip( data['latitude'],data['longitude'] )) ]\n",
    "    t2 = [geopy.distance.vincenty( (i,j), gosan).km for i,j in list( zip( data['latitude'],data['longitude'] )) ]\n",
    "    t3 = [geopy.distance.vincenty( (i,j), seongsan).km for i,j in list( zip( data['latitude'],data['longitude'] )) ]\n",
    "    t4 = [geopy.distance.vincenty( (i,j), po).km for i,j in list( zip( data['latitude'],data['longitude'] )) ]\n",
    "\n",
    "    data['dis_jeju'] = t1\n",
    "    data['dis_gosan']=t2\n",
    "    data['dis_seongsan']=t3\n",
    "    data['dis_po']=t4\n",
    "\n",
    "    total = pd.DataFrame(list(zip( t1,t2,t3,t4)),columns=['jeju','gosan','seongsan','po'] )\n",
    "    data['dist_name'] = total.apply(lambda x: x.argmin(), axis=1)\n",
    "    \n",
    "    return data"
   ]
  },
  {
   "cell_type": "code",
   "execution_count": 109,
   "metadata": {
    "colab": {},
    "colab_type": "code",
    "id": "WQp1DK8Hz4PM"
   },
   "outputs": [
    {
     "data": {
      "text/plain": [
       "(643593, 180)"
      ]
     },
     "execution_count": 109,
     "metadata": {},
     "output_type": "execute_result"
    }
   ],
   "source": [
    "data = dist()\n",
    "\n",
    "data.shape "
   ]
  },
  {
   "cell_type": "code",
   "execution_count": 133,
   "metadata": {},
   "outputs": [
    {
     "data": {
      "text/html": [
       "<div>\n",
       "<style scoped>\n",
       "    .dataframe tbody tr th:only-of-type {\n",
       "        vertical-align: middle;\n",
       "    }\n",
       "\n",
       "    .dataframe tbody tr th {\n",
       "        vertical-align: top;\n",
       "    }\n",
       "\n",
       "    .dataframe thead th {\n",
       "        text-align: right;\n",
       "    }\n",
       "</style>\n",
       "<table border=\"1\" class=\"dataframe\">\n",
       "  <thead>\n",
       "    <tr style=\"text-align: right;\">\n",
       "      <th></th>\n",
       "      <th>id</th>\n",
       "      <th>date</th>\n",
       "      <th>bus_route_id</th>\n",
       "      <th>in_out</th>\n",
       "      <th>station_code</th>\n",
       "      <th>station_name</th>\n",
       "      <th>latitude</th>\n",
       "      <th>longitude</th>\n",
       "      <th>6~7_ride</th>\n",
       "      <th>7~8_ride</th>\n",
       "      <th>8~9_ride</th>\n",
       "      <th>9~10_ride</th>\n",
       "      <th>10~11_ride</th>\n",
       "      <th>11~12_ride</th>\n",
       "      <th>6~7_takeoff</th>\n",
       "      <th>7~8_takeoff</th>\n",
       "      <th>8~9_takeoff</th>\n",
       "      <th>9~10_takeoff</th>\n",
       "      <th>10~11_takeoff</th>\n",
       "      <th>11~12_takeoff</th>\n",
       "      <th>18~20_ride</th>\n",
       "      <th>route_station</th>\n",
       "      <th>bus_route_id_weekday</th>\n",
       "      <th>station_code_weekday</th>\n",
       "      <th>route_station_weekday</th>\n",
       "      <th>68a</th>\n",
       "      <th>810a</th>\n",
       "      <th>1012a</th>\n",
       "      <th>68b</th>\n",
       "      <th>810b</th>\n",
       "      <th>1012b</th>\n",
       "      <th>1820_rs_mean</th>\n",
       "      <th>1820_rs_sum</th>\n",
       "      <th>1820_r_mean</th>\n",
       "      <th>1820_r_sum</th>\n",
       "      <th>1820_s_mean</th>\n",
       "      <th>1820_s_sum</th>\n",
       "      <th>1820_w_mean</th>\n",
       "      <th>1820_w_sum</th>\n",
       "      <th>mean_bus_weekday_ride</th>\n",
       "      <th>mean_station_weekday_ride</th>\n",
       "      <th>mean_route_station_weekday_ride</th>\n",
       "      <th>congestion</th>\n",
       "      <th>location</th>\n",
       "      <th>cue</th>\n",
       "      <th>1012a_sum</th>\n",
       "      <th>1012a_mean</th>\n",
       "      <th>1012b_sum</th>\n",
       "      <th>1012b_mean</th>\n",
       "      <th>10~11_ride_sum</th>\n",
       "      <th>10~11_ride_mean</th>\n",
       "      <th>10~11_takeoff_sum</th>\n",
       "      <th>10~11_takeoff_mean</th>\n",
       "      <th>11~12_ride_sum</th>\n",
       "      <th>11~12_ride_mean</th>\n",
       "      <th>11~12_takeoff_sum</th>\n",
       "      <th>11~12_takeoff_mean</th>\n",
       "      <th>1820_r_mean_sum</th>\n",
       "      <th>1820_r_mean_mean</th>\n",
       "      <th>1820_r_sum_sum</th>\n",
       "      <th>1820_r_sum_mean</th>\n",
       "      <th>1820_rs_mean_sum</th>\n",
       "      <th>1820_rs_mean_mean</th>\n",
       "      <th>1820_rs_sum_sum</th>\n",
       "      <th>1820_rs_sum_mean</th>\n",
       "      <th>...</th>\n",
       "      <th>dis_jejuairport</th>\n",
       "      <th>dis_hallahosp</th>\n",
       "      <th>dis_rotary</th>\n",
       "      <th>dis_jejucenterhigh</th>\n",
       "      <th>dis_jejumarket</th>\n",
       "      <th>dis_jejusclass</th>\n",
       "      <th>dis_centerroad</th>\n",
       "      <th>dis_fiveway</th>\n",
       "      <th>dis_law</th>\n",
       "      <th>ride_sum</th>\n",
       "      <th>takeoff_sum</th>\n",
       "      <th>6~7_all_ride_number</th>\n",
       "      <th>7~8_all_ride_number</th>\n",
       "      <th>8~9_all_ride_number</th>\n",
       "      <th>9~10_all_ride_number</th>\n",
       "      <th>10~11_all_ride_number</th>\n",
       "      <th>weekend</th>\n",
       "      <th>holiday</th>\n",
       "      <th>weekdaymean</th>\n",
       "      <th>in_out_mean</th>\n",
       "      <th>adult</th>\n",
       "      <th>kids</th>\n",
       "      <th>teen</th>\n",
       "      <th>elder</th>\n",
       "      <th>adult_prop</th>\n",
       "      <th>kids_prop</th>\n",
       "      <th>teen_prop</th>\n",
       "      <th>elder_prop</th>\n",
       "      <th>dong</th>\n",
       "      <th>si</th>\n",
       "      <th>mean_job_majorc</th>\n",
       "      <th>mean_job_smallc</th>\n",
       "      <th>mean_job_public</th>\n",
       "      <th>mean_job_profession</th>\n",
       "      <th>mean_job_self</th>\n",
       "      <th>mean_vehicle_own_rat</th>\n",
       "      <th>mean_avg_income</th>\n",
       "      <th>mean_med_income</th>\n",
       "      <th>mean_avg_spend</th>\n",
       "      <th>sum_job_majorc</th>\n",
       "      <th>sum_job_smallc</th>\n",
       "      <th>sum_job_public</th>\n",
       "      <th>sum_job_profession</th>\n",
       "      <th>sum_job_self</th>\n",
       "      <th>sum_vehicle_own_rat</th>\n",
       "      <th>sum_avg_income</th>\n",
       "      <th>sum_med_income</th>\n",
       "      <th>sum_avg_spend</th>\n",
       "      <th>rate_job_majorc</th>\n",
       "      <th>rate_job_smallc</th>\n",
       "      <th>rate_job_public</th>\n",
       "      <th>rate_job_profession</th>\n",
       "      <th>rate_job_self</th>\n",
       "      <th>rate_vehicle_own_rat</th>\n",
       "      <th>rate_avg_income</th>\n",
       "      <th>rate_med_income</th>\n",
       "      <th>rate_avg_spend</th>\n",
       "      <th>school</th>\n",
       "      <th>transfer</th>\n",
       "      <th>dong2</th>\n",
       "      <th>dis_jeju</th>\n",
       "      <th>dis_gosan</th>\n",
       "      <th>dis_seongsan</th>\n",
       "      <th>dis_po</th>\n",
       "      <th>dist_name</th>\n",
       "    </tr>\n",
       "  </thead>\n",
       "  <tbody>\n",
       "    <tr>\n",
       "      <th>0</th>\n",
       "      <td>0</td>\n",
       "      <td>2019-09-01</td>\n",
       "      <td>4270000</td>\n",
       "      <td>1</td>\n",
       "      <td>344</td>\n",
       "      <td>제주썬호텔</td>\n",
       "      <td>33.48990</td>\n",
       "      <td>126.49373</td>\n",
       "      <td>0.0</td>\n",
       "      <td>1.0</td>\n",
       "      <td>2.0</td>\n",
       "      <td>5.0</td>\n",
       "      <td>2.0</td>\n",
       "      <td>6.0</td>\n",
       "      <td>0.0</td>\n",
       "      <td>0.0</td>\n",
       "      <td>0.0</td>\n",
       "      <td>0.0</td>\n",
       "      <td>0.0</td>\n",
       "      <td>0.0</td>\n",
       "      <td>0.0</td>\n",
       "      <td>4270000,344</td>\n",
       "      <td>4270000,6</td>\n",
       "      <td>344,6</td>\n",
       "      <td>4270000,344,6</td>\n",
       "      <td>1.0</td>\n",
       "      <td>7.0</td>\n",
       "      <td>8.0</td>\n",
       "      <td>0.0</td>\n",
       "      <td>0.0</td>\n",
       "      <td>0.0</td>\n",
       "      <td>1.466667</td>\n",
       "      <td>44.0</td>\n",
       "      <td>3.104381</td>\n",
       "      <td>2409.0</td>\n",
       "      <td>1.466667</td>\n",
       "      <td>44.0</td>\n",
       "      <td>1.034282</td>\n",
       "      <td>54306.0</td>\n",
       "      <td>3.132812</td>\n",
       "      <td>0.200000</td>\n",
       "      <td>0.2</td>\n",
       "      <td>5</td>\n",
       "      <td>33.4899,126.49373</td>\n",
       "      <td>0</td>\n",
       "      <td>244.0</td>\n",
       "      <td>5.304348</td>\n",
       "      <td>12.0</td>\n",
       "      <td>0.260870</td>\n",
       "      <td>136.0</td>\n",
       "      <td>2.956522</td>\n",
       "      <td>5.0</td>\n",
       "      <td>0.108696</td>\n",
       "      <td>108.0</td>\n",
       "      <td>2.347826</td>\n",
       "      <td>7.0</td>\n",
       "      <td>0.152174</td>\n",
       "      <td>142.801546</td>\n",
       "      <td>3.104381</td>\n",
       "      <td>110814.0</td>\n",
       "      <td>2409.0</td>\n",
       "      <td>67.466667</td>\n",
       "      <td>1.466667</td>\n",
       "      <td>2024.0</td>\n",
       "      <td>44.0</td>\n",
       "      <td>...</td>\n",
       "      <td>1.853545</td>\n",
       "      <td>0.719000</td>\n",
       "      <td>0.330360</td>\n",
       "      <td>4.226827</td>\n",
       "      <td>4.030090</td>\n",
       "      <td>1.897319</td>\n",
       "      <td>3.632769</td>\n",
       "      <td>1.243233</td>\n",
       "      <td>3.835351</td>\n",
       "      <td>16.0</td>\n",
       "      <td>0.0</td>\n",
       "      <td>2942.0</td>\n",
       "      <td>4518.0</td>\n",
       "      <td>5682.0</td>\n",
       "      <td>6275.0</td>\n",
       "      <td>6774.0</td>\n",
       "      <td>1</td>\n",
       "      <td>0</td>\n",
       "      <td>1.034282</td>\n",
       "      <td>1.0</td>\n",
       "      <td>8158.0</td>\n",
       "      <td>72.0</td>\n",
       "      <td>38.0</td>\n",
       "      <td>0.0</td>\n",
       "      <td>0.986696</td>\n",
       "      <td>0.008708</td>\n",
       "      <td>0.004596</td>\n",
       "      <td>0.0</td>\n",
       "      <td>NaN</td>\n",
       "      <td>NaN</td>\n",
       "      <td>0.024219</td>\n",
       "      <td>0.145757</td>\n",
       "      <td>0.032768</td>\n",
       "      <td>0.014855</td>\n",
       "      <td>0.22209</td>\n",
       "      <td>0.041161</td>\n",
       "      <td>34221420.0</td>\n",
       "      <td>30645290.0</td>\n",
       "      <td>4224923.0</td>\n",
       "      <td>3.717861</td>\n",
       "      <td>20.78142</td>\n",
       "      <td>4.747755</td>\n",
       "      <td>2.169554</td>\n",
       "      <td>30.44199</td>\n",
       "      <td>5.60908</td>\n",
       "      <td>4.998226e+09</td>\n",
       "      <td>4.455924e+09</td>\n",
       "      <td>614767800.0</td>\n",
       "      <td>0.013889</td>\n",
       "      <td>0.013889</td>\n",
       "      <td>0.013889</td>\n",
       "      <td>0.013889</td>\n",
       "      <td>0.013889</td>\n",
       "      <td>0.013889</td>\n",
       "      <td>0.013889</td>\n",
       "      <td>0.013889</td>\n",
       "      <td>0.013889</td>\n",
       "      <td>0</td>\n",
       "      <td>0</td>\n",
       "      <td>0</td>\n",
       "      <td>4.286659</td>\n",
       "      <td>37.692766</td>\n",
       "      <td>37.713630</td>\n",
       "      <td>27.841879</td>\n",
       "      <td>0</td>\n",
       "    </tr>\n",
       "    <tr>\n",
       "      <th>1</th>\n",
       "      <td>1</td>\n",
       "      <td>2019-09-01</td>\n",
       "      <td>4270000</td>\n",
       "      <td>1</td>\n",
       "      <td>357</td>\n",
       "      <td>한라병원</td>\n",
       "      <td>33.48944</td>\n",
       "      <td>126.48508</td>\n",
       "      <td>1.0</td>\n",
       "      <td>4.0</td>\n",
       "      <td>4.0</td>\n",
       "      <td>2.0</td>\n",
       "      <td>5.0</td>\n",
       "      <td>6.0</td>\n",
       "      <td>0.0</td>\n",
       "      <td>0.0</td>\n",
       "      <td>0.0</td>\n",
       "      <td>0.0</td>\n",
       "      <td>0.0</td>\n",
       "      <td>0.0</td>\n",
       "      <td>5.0</td>\n",
       "      <td>4270000,357</td>\n",
       "      <td>4270000,6</td>\n",
       "      <td>357,6</td>\n",
       "      <td>4270000,357,6</td>\n",
       "      <td>5.0</td>\n",
       "      <td>6.0</td>\n",
       "      <td>11.0</td>\n",
       "      <td>0.0</td>\n",
       "      <td>0.0</td>\n",
       "      <td>0.0</td>\n",
       "      <td>5.366667</td>\n",
       "      <td>161.0</td>\n",
       "      <td>3.104381</td>\n",
       "      <td>2409.0</td>\n",
       "      <td>4.178218</td>\n",
       "      <td>6330.0</td>\n",
       "      <td>1.034282</td>\n",
       "      <td>54306.0</td>\n",
       "      <td>3.132812</td>\n",
       "      <td>3.154867</td>\n",
       "      <td>2.2</td>\n",
       "      <td>5</td>\n",
       "      <td>33.48944,126.48508</td>\n",
       "      <td>0</td>\n",
       "      <td>534.0</td>\n",
       "      <td>11.608696</td>\n",
       "      <td>17.0</td>\n",
       "      <td>0.369565</td>\n",
       "      <td>280.0</td>\n",
       "      <td>6.086957</td>\n",
       "      <td>6.0</td>\n",
       "      <td>0.130435</td>\n",
       "      <td>254.0</td>\n",
       "      <td>5.521739</td>\n",
       "      <td>11.0</td>\n",
       "      <td>0.239130</td>\n",
       "      <td>142.801546</td>\n",
       "      <td>3.104381</td>\n",
       "      <td>110814.0</td>\n",
       "      <td>2409.0</td>\n",
       "      <td>246.866667</td>\n",
       "      <td>5.366667</td>\n",
       "      <td>7406.0</td>\n",
       "      <td>161.0</td>\n",
       "      <td>...</td>\n",
       "      <td>2.057088</td>\n",
       "      <td>0.088058</td>\n",
       "      <td>1.109489</td>\n",
       "      <td>5.029806</td>\n",
       "      <td>4.704476</td>\n",
       "      <td>1.501101</td>\n",
       "      <td>4.311404</td>\n",
       "      <td>0.493820</td>\n",
       "      <td>4.640172</td>\n",
       "      <td>22.0</td>\n",
       "      <td>0.0</td>\n",
       "      <td>2942.0</td>\n",
       "      <td>4518.0</td>\n",
       "      <td>5682.0</td>\n",
       "      <td>6275.0</td>\n",
       "      <td>6774.0</td>\n",
       "      <td>1</td>\n",
       "      <td>0</td>\n",
       "      <td>1.034282</td>\n",
       "      <td>1.0</td>\n",
       "      <td>8158.0</td>\n",
       "      <td>72.0</td>\n",
       "      <td>38.0</td>\n",
       "      <td>0.0</td>\n",
       "      <td>0.986696</td>\n",
       "      <td>0.008708</td>\n",
       "      <td>0.004596</td>\n",
       "      <td>0.0</td>\n",
       "      <td>NaN</td>\n",
       "      <td>NaN</td>\n",
       "      <td>0.024219</td>\n",
       "      <td>0.145757</td>\n",
       "      <td>0.032768</td>\n",
       "      <td>0.014855</td>\n",
       "      <td>0.22209</td>\n",
       "      <td>0.041161</td>\n",
       "      <td>34221420.0</td>\n",
       "      <td>30645290.0</td>\n",
       "      <td>4224923.0</td>\n",
       "      <td>3.717861</td>\n",
       "      <td>20.78142</td>\n",
       "      <td>4.747755</td>\n",
       "      <td>2.169554</td>\n",
       "      <td>30.44199</td>\n",
       "      <td>5.60908</td>\n",
       "      <td>4.998226e+09</td>\n",
       "      <td>4.455924e+09</td>\n",
       "      <td>614767800.0</td>\n",
       "      <td>0.013889</td>\n",
       "      <td>0.013889</td>\n",
       "      <td>0.013889</td>\n",
       "      <td>0.013889</td>\n",
       "      <td>0.013889</td>\n",
       "      <td>0.013889</td>\n",
       "      <td>0.013889</td>\n",
       "      <td>0.013889</td>\n",
       "      <td>0.013889</td>\n",
       "      <td>0</td>\n",
       "      <td>0</td>\n",
       "      <td>0</td>\n",
       "      <td>4.966848</td>\n",
       "      <td>37.008492</td>\n",
       "      <td>38.465822</td>\n",
       "      <td>27.996179</td>\n",
       "      <td>0</td>\n",
       "    </tr>\n",
       "    <tr>\n",
       "      <th>2</th>\n",
       "      <td>2</td>\n",
       "      <td>2019-09-01</td>\n",
       "      <td>4270000</td>\n",
       "      <td>1</td>\n",
       "      <td>432</td>\n",
       "      <td>정존마을</td>\n",
       "      <td>33.48181</td>\n",
       "      <td>126.47352</td>\n",
       "      <td>1.0</td>\n",
       "      <td>1.0</td>\n",
       "      <td>0.0</td>\n",
       "      <td>2.0</td>\n",
       "      <td>0.0</td>\n",
       "      <td>0.0</td>\n",
       "      <td>0.0</td>\n",
       "      <td>0.0</td>\n",
       "      <td>0.0</td>\n",
       "      <td>0.0</td>\n",
       "      <td>0.0</td>\n",
       "      <td>0.0</td>\n",
       "      <td>2.0</td>\n",
       "      <td>4270000,432</td>\n",
       "      <td>4270000,6</td>\n",
       "      <td>432,6</td>\n",
       "      <td>4270000,432,6</td>\n",
       "      <td>2.0</td>\n",
       "      <td>2.0</td>\n",
       "      <td>0.0</td>\n",
       "      <td>0.0</td>\n",
       "      <td>0.0</td>\n",
       "      <td>0.0</td>\n",
       "      <td>1.600000</td>\n",
       "      <td>48.0</td>\n",
       "      <td>3.104381</td>\n",
       "      <td>2409.0</td>\n",
       "      <td>2.169559</td>\n",
       "      <td>1625.0</td>\n",
       "      <td>1.034282</td>\n",
       "      <td>54306.0</td>\n",
       "      <td>3.132812</td>\n",
       "      <td>1.163462</td>\n",
       "      <td>0.8</td>\n",
       "      <td>5</td>\n",
       "      <td>33.48181,126.47352</td>\n",
       "      <td>0</td>\n",
       "      <td>106.0</td>\n",
       "      <td>2.304348</td>\n",
       "      <td>7.0</td>\n",
       "      <td>0.152174</td>\n",
       "      <td>43.0</td>\n",
       "      <td>0.934783</td>\n",
       "      <td>2.0</td>\n",
       "      <td>0.043478</td>\n",
       "      <td>63.0</td>\n",
       "      <td>1.369565</td>\n",
       "      <td>5.0</td>\n",
       "      <td>0.108696</td>\n",
       "      <td>142.801546</td>\n",
       "      <td>3.104381</td>\n",
       "      <td>110814.0</td>\n",
       "      <td>2409.0</td>\n",
       "      <td>73.600000</td>\n",
       "      <td>1.600000</td>\n",
       "      <td>2208.0</td>\n",
       "      <td>48.0</td>\n",
       "      <td>...</td>\n",
       "      <td>3.316057</td>\n",
       "      <td>1.448297</td>\n",
       "      <td>2.410695</td>\n",
       "      <td>6.156335</td>\n",
       "      <td>6.069228</td>\n",
       "      <td>0.957447</td>\n",
       "      <td>5.675079</td>\n",
       "      <td>0.873821</td>\n",
       "      <td>5.840420</td>\n",
       "      <td>4.0</td>\n",
       "      <td>0.0</td>\n",
       "      <td>2942.0</td>\n",
       "      <td>4518.0</td>\n",
       "      <td>5682.0</td>\n",
       "      <td>6275.0</td>\n",
       "      <td>6774.0</td>\n",
       "      <td>1</td>\n",
       "      <td>0</td>\n",
       "      <td>1.034282</td>\n",
       "      <td>1.0</td>\n",
       "      <td>8158.0</td>\n",
       "      <td>72.0</td>\n",
       "      <td>38.0</td>\n",
       "      <td>0.0</td>\n",
       "      <td>0.986696</td>\n",
       "      <td>0.008708</td>\n",
       "      <td>0.004596</td>\n",
       "      <td>0.0</td>\n",
       "      <td>NaN</td>\n",
       "      <td>NaN</td>\n",
       "      <td>0.024219</td>\n",
       "      <td>0.145757</td>\n",
       "      <td>0.032768</td>\n",
       "      <td>0.014855</td>\n",
       "      <td>0.22209</td>\n",
       "      <td>0.041161</td>\n",
       "      <td>34221420.0</td>\n",
       "      <td>30645290.0</td>\n",
       "      <td>4224923.0</td>\n",
       "      <td>3.717861</td>\n",
       "      <td>20.78142</td>\n",
       "      <td>4.747755</td>\n",
       "      <td>2.169554</td>\n",
       "      <td>30.44199</td>\n",
       "      <td>5.60908</td>\n",
       "      <td>4.998226e+09</td>\n",
       "      <td>4.455924e+09</td>\n",
       "      <td>614767800.0</td>\n",
       "      <td>0.013889</td>\n",
       "      <td>0.013889</td>\n",
       "      <td>0.013889</td>\n",
       "      <td>0.013889</td>\n",
       "      <td>0.013889</td>\n",
       "      <td>0.013889</td>\n",
       "      <td>0.013889</td>\n",
       "      <td>0.013889</td>\n",
       "      <td>0.013889</td>\n",
       "      <td>0</td>\n",
       "      <td>0</td>\n",
       "      <td>0</td>\n",
       "      <td>6.330746</td>\n",
       "      <td>35.642126</td>\n",
       "      <td>39.259820</td>\n",
       "      <td>27.496551</td>\n",
       "      <td>0</td>\n",
       "    </tr>\n",
       "    <tr>\n",
       "      <th>3</th>\n",
       "      <td>3</td>\n",
       "      <td>2019-09-01</td>\n",
       "      <td>4270000</td>\n",
       "      <td>0</td>\n",
       "      <td>1579</td>\n",
       "      <td>제주국제공항(600번)</td>\n",
       "      <td>33.50577</td>\n",
       "      <td>126.49252</td>\n",
       "      <td>0.0</td>\n",
       "      <td>17.0</td>\n",
       "      <td>6.0</td>\n",
       "      <td>26.0</td>\n",
       "      <td>14.0</td>\n",
       "      <td>16.0</td>\n",
       "      <td>0.0</td>\n",
       "      <td>0.0</td>\n",
       "      <td>0.0</td>\n",
       "      <td>0.0</td>\n",
       "      <td>0.0</td>\n",
       "      <td>0.0</td>\n",
       "      <td>53.0</td>\n",
       "      <td>4270000,1579</td>\n",
       "      <td>4270000,6</td>\n",
       "      <td>1579,6</td>\n",
       "      <td>4270000,1579,6</td>\n",
       "      <td>17.0</td>\n",
       "      <td>32.0</td>\n",
       "      <td>30.0</td>\n",
       "      <td>0.0</td>\n",
       "      <td>0.0</td>\n",
       "      <td>0.0</td>\n",
       "      <td>53.766667</td>\n",
       "      <td>1613.0</td>\n",
       "      <td>3.104381</td>\n",
       "      <td>2409.0</td>\n",
       "      <td>52.032258</td>\n",
       "      <td>1613.0</td>\n",
       "      <td>1.034282</td>\n",
       "      <td>54306.0</td>\n",
       "      <td>3.132812</td>\n",
       "      <td>56.000000</td>\n",
       "      <td>56.0</td>\n",
       "      <td>5</td>\n",
       "      <td>33.50577,126.49252</td>\n",
       "      <td>0</td>\n",
       "      <td>1687.0</td>\n",
       "      <td>36.673913</td>\n",
       "      <td>4.0</td>\n",
       "      <td>0.086957</td>\n",
       "      <td>822.0</td>\n",
       "      <td>17.869565</td>\n",
       "      <td>1.0</td>\n",
       "      <td>0.021739</td>\n",
       "      <td>865.0</td>\n",
       "      <td>18.804348</td>\n",
       "      <td>3.0</td>\n",
       "      <td>0.065217</td>\n",
       "      <td>142.801546</td>\n",
       "      <td>3.104381</td>\n",
       "      <td>110814.0</td>\n",
       "      <td>2409.0</td>\n",
       "      <td>2473.266667</td>\n",
       "      <td>53.766667</td>\n",
       "      <td>74198.0</td>\n",
       "      <td>1613.0</td>\n",
       "      <td>...</td>\n",
       "      <td>0.127071</td>\n",
       "      <td>1.889890</td>\n",
       "      <td>1.639020</td>\n",
       "      <td>4.718848</td>\n",
       "      <td>3.311940</td>\n",
       "      <td>3.432034</td>\n",
       "      <td>2.967079</td>\n",
       "      <td>2.376926</td>\n",
       "      <td>4.149595</td>\n",
       "      <td>79.0</td>\n",
       "      <td>0.0</td>\n",
       "      <td>2942.0</td>\n",
       "      <td>4518.0</td>\n",
       "      <td>5682.0</td>\n",
       "      <td>6275.0</td>\n",
       "      <td>6774.0</td>\n",
       "      <td>1</td>\n",
       "      <td>0</td>\n",
       "      <td>1.034282</td>\n",
       "      <td>1.0</td>\n",
       "      <td>8158.0</td>\n",
       "      <td>72.0</td>\n",
       "      <td>38.0</td>\n",
       "      <td>0.0</td>\n",
       "      <td>0.986696</td>\n",
       "      <td>0.008708</td>\n",
       "      <td>0.004596</td>\n",
       "      <td>0.0</td>\n",
       "      <td>NaN</td>\n",
       "      <td>NaN</td>\n",
       "      <td>0.024219</td>\n",
       "      <td>0.145757</td>\n",
       "      <td>0.032768</td>\n",
       "      <td>0.014855</td>\n",
       "      <td>0.22209</td>\n",
       "      <td>0.041161</td>\n",
       "      <td>34221420.0</td>\n",
       "      <td>30645290.0</td>\n",
       "      <td>4224923.0</td>\n",
       "      <td>3.717861</td>\n",
       "      <td>20.78142</td>\n",
       "      <td>4.747755</td>\n",
       "      <td>2.169554</td>\n",
       "      <td>30.44199</td>\n",
       "      <td>5.60908</td>\n",
       "      <td>4.998226e+09</td>\n",
       "      <td>4.455924e+09</td>\n",
       "      <td>614767800.0</td>\n",
       "      <td>0.013889</td>\n",
       "      <td>0.013889</td>\n",
       "      <td>0.013889</td>\n",
       "      <td>0.013889</td>\n",
       "      <td>0.013889</td>\n",
       "      <td>0.013889</td>\n",
       "      <td>0.013889</td>\n",
       "      <td>0.013889</td>\n",
       "      <td>0.013889</td>\n",
       "      <td>0</td>\n",
       "      <td>1</td>\n",
       "      <td>0</td>\n",
       "      <td>3.575272</td>\n",
       "      <td>38.643401</td>\n",
       "      <td>38.386802</td>\n",
       "      <td>29.579404</td>\n",
       "      <td>0</td>\n",
       "    </tr>\n",
       "    <tr>\n",
       "      <th>4</th>\n",
       "      <td>4</td>\n",
       "      <td>2019-09-01</td>\n",
       "      <td>4270000</td>\n",
       "      <td>0</td>\n",
       "      <td>1646</td>\n",
       "      <td>중문관광단지입구</td>\n",
       "      <td>33.25579</td>\n",
       "      <td>126.41260</td>\n",
       "      <td>0.0</td>\n",
       "      <td>0.0</td>\n",
       "      <td>0.0</td>\n",
       "      <td>0.0</td>\n",
       "      <td>0.0</td>\n",
       "      <td>0.0</td>\n",
       "      <td>0.0</td>\n",
       "      <td>0.0</td>\n",
       "      <td>0.0</td>\n",
       "      <td>1.0</td>\n",
       "      <td>0.0</td>\n",
       "      <td>0.0</td>\n",
       "      <td>0.0</td>\n",
       "      <td>4270000,1646</td>\n",
       "      <td>4270000,6</td>\n",
       "      <td>1646,6</td>\n",
       "      <td>4270000,1646,6</td>\n",
       "      <td>0.0</td>\n",
       "      <td>0.0</td>\n",
       "      <td>0.0</td>\n",
       "      <td>0.0</td>\n",
       "      <td>1.0</td>\n",
       "      <td>0.0</td>\n",
       "      <td>0.153846</td>\n",
       "      <td>4.0</td>\n",
       "      <td>3.104381</td>\n",
       "      <td>2409.0</td>\n",
       "      <td>0.732794</td>\n",
       "      <td>181.0</td>\n",
       "      <td>1.034282</td>\n",
       "      <td>54306.0</td>\n",
       "      <td>3.132812</td>\n",
       "      <td>1.108108</td>\n",
       "      <td>0.4</td>\n",
       "      <td>5</td>\n",
       "      <td>33.255790000000005,126.4126</td>\n",
       "      <td>0</td>\n",
       "      <td>22.0</td>\n",
       "      <td>0.564103</td>\n",
       "      <td>64.0</td>\n",
       "      <td>1.641026</td>\n",
       "      <td>10.0</td>\n",
       "      <td>0.256410</td>\n",
       "      <td>18.0</td>\n",
       "      <td>0.461538</td>\n",
       "      <td>12.0</td>\n",
       "      <td>0.307692</td>\n",
       "      <td>46.0</td>\n",
       "      <td>1.179487</td>\n",
       "      <td>121.070876</td>\n",
       "      <td>3.104381</td>\n",
       "      <td>93951.0</td>\n",
       "      <td>2409.0</td>\n",
       "      <td>6.000000</td>\n",
       "      <td>0.153846</td>\n",
       "      <td>156.0</td>\n",
       "      <td>4.0</td>\n",
       "      <td>...</td>\n",
       "      <td>28.818039</td>\n",
       "      <td>26.819826</td>\n",
       "      <td>27.283840</td>\n",
       "      <td>28.424280</td>\n",
       "      <td>30.466215</td>\n",
       "      <td>25.277182</td>\n",
       "      <td>30.112554</td>\n",
       "      <td>26.384623</td>\n",
       "      <td>28.724248</td>\n",
       "      <td>0.0</td>\n",
       "      <td>1.0</td>\n",
       "      <td>2942.0</td>\n",
       "      <td>4518.0</td>\n",
       "      <td>5682.0</td>\n",
       "      <td>6275.0</td>\n",
       "      <td>6774.0</td>\n",
       "      <td>1</td>\n",
       "      <td>0</td>\n",
       "      <td>1.034282</td>\n",
       "      <td>1.0</td>\n",
       "      <td>8158.0</td>\n",
       "      <td>72.0</td>\n",
       "      <td>38.0</td>\n",
       "      <td>0.0</td>\n",
       "      <td>0.986696</td>\n",
       "      <td>0.008708</td>\n",
       "      <td>0.004596</td>\n",
       "      <td>0.0</td>\n",
       "      <td>NaN</td>\n",
       "      <td>NaN</td>\n",
       "      <td>0.024219</td>\n",
       "      <td>0.145757</td>\n",
       "      <td>0.032768</td>\n",
       "      <td>0.014855</td>\n",
       "      <td>0.22209</td>\n",
       "      <td>0.041161</td>\n",
       "      <td>34221420.0</td>\n",
       "      <td>30645290.0</td>\n",
       "      <td>4224923.0</td>\n",
       "      <td>3.717861</td>\n",
       "      <td>20.78142</td>\n",
       "      <td>4.747755</td>\n",
       "      <td>2.169554</td>\n",
       "      <td>30.44199</td>\n",
       "      <td>5.60908</td>\n",
       "      <td>4.998226e+09</td>\n",
       "      <td>4.455924e+09</td>\n",
       "      <td>614767800.0</td>\n",
       "      <td>0.013889</td>\n",
       "      <td>0.013889</td>\n",
       "      <td>0.013889</td>\n",
       "      <td>0.013889</td>\n",
       "      <td>0.013889</td>\n",
       "      <td>0.013889</td>\n",
       "      <td>0.013889</td>\n",
       "      <td>0.013889</td>\n",
       "      <td>0.013889</td>\n",
       "      <td>0</td>\n",
       "      <td>0</td>\n",
       "      <td>0</td>\n",
       "      <td>30.652098</td>\n",
       "      <td>23.648361</td>\n",
       "      <td>45.899140</td>\n",
       "      <td>14.269792</td>\n",
       "      <td>3</td>\n",
       "    </tr>\n",
       "  </tbody>\n",
       "</table>\n",
       "<p>5 rows × 180 columns</p>\n",
       "</div>"
      ],
      "text/plain": [
       "   id       date bus_route_id  in_out station_code  station_name  latitude  \\\n",
       "0   0 2019-09-01      4270000       1          344         제주썬호텔  33.48990   \n",
       "1   1 2019-09-01      4270000       1          357          한라병원  33.48944   \n",
       "2   2 2019-09-01      4270000       1          432          정존마을  33.48181   \n",
       "3   3 2019-09-01      4270000       0         1579  제주국제공항(600번)  33.50577   \n",
       "4   4 2019-09-01      4270000       0         1646      중문관광단지입구  33.25579   \n",
       "\n",
       "   longitude  6~7_ride  7~8_ride  8~9_ride  9~10_ride  10~11_ride  11~12_ride  \\\n",
       "0  126.49373       0.0       1.0       2.0        5.0         2.0         6.0   \n",
       "1  126.48508       1.0       4.0       4.0        2.0         5.0         6.0   \n",
       "2  126.47352       1.0       1.0       0.0        2.0         0.0         0.0   \n",
       "3  126.49252       0.0      17.0       6.0       26.0        14.0        16.0   \n",
       "4  126.41260       0.0       0.0       0.0        0.0         0.0         0.0   \n",
       "\n",
       "   6~7_takeoff  7~8_takeoff  8~9_takeoff  9~10_takeoff  10~11_takeoff  \\\n",
       "0          0.0          0.0          0.0           0.0            0.0   \n",
       "1          0.0          0.0          0.0           0.0            0.0   \n",
       "2          0.0          0.0          0.0           0.0            0.0   \n",
       "3          0.0          0.0          0.0           0.0            0.0   \n",
       "4          0.0          0.0          0.0           1.0            0.0   \n",
       "\n",
       "   11~12_takeoff  18~20_ride route_station bus_route_id_weekday  \\\n",
       "0            0.0         0.0   4270000,344            4270000,6   \n",
       "1            0.0         5.0   4270000,357            4270000,6   \n",
       "2            0.0         2.0   4270000,432            4270000,6   \n",
       "3            0.0        53.0  4270000,1579            4270000,6   \n",
       "4            0.0         0.0  4270000,1646            4270000,6   \n",
       "\n",
       "  station_code_weekday route_station_weekday   68a  810a  1012a  68b  810b  \\\n",
       "0                344,6         4270000,344,6   1.0   7.0    8.0  0.0   0.0   \n",
       "1                357,6         4270000,357,6   5.0   6.0   11.0  0.0   0.0   \n",
       "2                432,6         4270000,432,6   2.0   2.0    0.0  0.0   0.0   \n",
       "3               1579,6        4270000,1579,6  17.0  32.0   30.0  0.0   0.0   \n",
       "4               1646,6        4270000,1646,6   0.0   0.0    0.0  0.0   1.0   \n",
       "\n",
       "   1012b  1820_rs_mean  1820_rs_sum  1820_r_mean  1820_r_sum  1820_s_mean  \\\n",
       "0    0.0      1.466667         44.0     3.104381      2409.0     1.466667   \n",
       "1    0.0      5.366667        161.0     3.104381      2409.0     4.178218   \n",
       "2    0.0      1.600000         48.0     3.104381      2409.0     2.169559   \n",
       "3    0.0     53.766667       1613.0     3.104381      2409.0    52.032258   \n",
       "4    0.0      0.153846          4.0     3.104381      2409.0     0.732794   \n",
       "\n",
       "   1820_s_sum  1820_w_mean  1820_w_sum  mean_bus_weekday_ride  \\\n",
       "0        44.0     1.034282     54306.0               3.132812   \n",
       "1      6330.0     1.034282     54306.0               3.132812   \n",
       "2      1625.0     1.034282     54306.0               3.132812   \n",
       "3      1613.0     1.034282     54306.0               3.132812   \n",
       "4       181.0     1.034282     54306.0               3.132812   \n",
       "\n",
       "   mean_station_weekday_ride  mean_route_station_weekday_ride  congestion  \\\n",
       "0                   0.200000                              0.2           5   \n",
       "1                   3.154867                              2.2           5   \n",
       "2                   1.163462                              0.8           5   \n",
       "3                  56.000000                             56.0           5   \n",
       "4                   1.108108                              0.4           5   \n",
       "\n",
       "                      location  cue  1012a_sum  1012a_mean  1012b_sum  \\\n",
       "0            33.4899,126.49373    0      244.0    5.304348       12.0   \n",
       "1           33.48944,126.48508    0      534.0   11.608696       17.0   \n",
       "2           33.48181,126.47352    0      106.0    2.304348        7.0   \n",
       "3           33.50577,126.49252    0     1687.0   36.673913        4.0   \n",
       "4  33.255790000000005,126.4126    0       22.0    0.564103       64.0   \n",
       "\n",
       "   1012b_mean  10~11_ride_sum  10~11_ride_mean  10~11_takeoff_sum  \\\n",
       "0    0.260870           136.0         2.956522                5.0   \n",
       "1    0.369565           280.0         6.086957                6.0   \n",
       "2    0.152174            43.0         0.934783                2.0   \n",
       "3    0.086957           822.0        17.869565                1.0   \n",
       "4    1.641026            10.0         0.256410               18.0   \n",
       "\n",
       "   10~11_takeoff_mean  11~12_ride_sum  11~12_ride_mean  11~12_takeoff_sum  \\\n",
       "0            0.108696           108.0         2.347826                7.0   \n",
       "1            0.130435           254.0         5.521739               11.0   \n",
       "2            0.043478            63.0         1.369565                5.0   \n",
       "3            0.021739           865.0        18.804348                3.0   \n",
       "4            0.461538            12.0         0.307692               46.0   \n",
       "\n",
       "   11~12_takeoff_mean  1820_r_mean_sum  1820_r_mean_mean  1820_r_sum_sum  \\\n",
       "0            0.152174       142.801546          3.104381        110814.0   \n",
       "1            0.239130       142.801546          3.104381        110814.0   \n",
       "2            0.108696       142.801546          3.104381        110814.0   \n",
       "3            0.065217       142.801546          3.104381        110814.0   \n",
       "4            1.179487       121.070876          3.104381         93951.0   \n",
       "\n",
       "   1820_r_sum_mean  1820_rs_mean_sum  1820_rs_mean_mean  1820_rs_sum_sum  \\\n",
       "0           2409.0         67.466667           1.466667           2024.0   \n",
       "1           2409.0        246.866667           5.366667           7406.0   \n",
       "2           2409.0         73.600000           1.600000           2208.0   \n",
       "3           2409.0       2473.266667          53.766667          74198.0   \n",
       "4           2409.0          6.000000           0.153846            156.0   \n",
       "\n",
       "   1820_rs_sum_mean  ...  dis_jejuairport  dis_hallahosp  dis_rotary  \\\n",
       "0              44.0  ...         1.853545       0.719000    0.330360   \n",
       "1             161.0  ...         2.057088       0.088058    1.109489   \n",
       "2              48.0  ...         3.316057       1.448297    2.410695   \n",
       "3            1613.0  ...         0.127071       1.889890    1.639020   \n",
       "4               4.0  ...        28.818039      26.819826   27.283840   \n",
       "\n",
       "   dis_jejucenterhigh  dis_jejumarket  dis_jejusclass  dis_centerroad  \\\n",
       "0            4.226827        4.030090        1.897319        3.632769   \n",
       "1            5.029806        4.704476        1.501101        4.311404   \n",
       "2            6.156335        6.069228        0.957447        5.675079   \n",
       "3            4.718848        3.311940        3.432034        2.967079   \n",
       "4           28.424280       30.466215       25.277182       30.112554   \n",
       "\n",
       "   dis_fiveway    dis_law  ride_sum  takeoff_sum  6~7_all_ride_number  \\\n",
       "0     1.243233   3.835351      16.0          0.0               2942.0   \n",
       "1     0.493820   4.640172      22.0          0.0               2942.0   \n",
       "2     0.873821   5.840420       4.0          0.0               2942.0   \n",
       "3     2.376926   4.149595      79.0          0.0               2942.0   \n",
       "4    26.384623  28.724248       0.0          1.0               2942.0   \n",
       "\n",
       "   7~8_all_ride_number  8~9_all_ride_number  9~10_all_ride_number  \\\n",
       "0               4518.0               5682.0                6275.0   \n",
       "1               4518.0               5682.0                6275.0   \n",
       "2               4518.0               5682.0                6275.0   \n",
       "3               4518.0               5682.0                6275.0   \n",
       "4               4518.0               5682.0                6275.0   \n",
       "\n",
       "   10~11_all_ride_number  weekend  holiday  weekdaymean  in_out_mean   adult  \\\n",
       "0                 6774.0        1        0     1.034282          1.0  8158.0   \n",
       "1                 6774.0        1        0     1.034282          1.0  8158.0   \n",
       "2                 6774.0        1        0     1.034282          1.0  8158.0   \n",
       "3                 6774.0        1        0     1.034282          1.0  8158.0   \n",
       "4                 6774.0        1        0     1.034282          1.0  8158.0   \n",
       "\n",
       "   kids  teen  elder  adult_prop  kids_prop  teen_prop  elder_prop  dong   si  \\\n",
       "0  72.0  38.0    0.0    0.986696   0.008708   0.004596         0.0   NaN  NaN   \n",
       "1  72.0  38.0    0.0    0.986696   0.008708   0.004596         0.0   NaN  NaN   \n",
       "2  72.0  38.0    0.0    0.986696   0.008708   0.004596         0.0   NaN  NaN   \n",
       "3  72.0  38.0    0.0    0.986696   0.008708   0.004596         0.0   NaN  NaN   \n",
       "4  72.0  38.0    0.0    0.986696   0.008708   0.004596         0.0   NaN  NaN   \n",
       "\n",
       "   mean_job_majorc  mean_job_smallc  mean_job_public  mean_job_profession  \\\n",
       "0         0.024219         0.145757         0.032768             0.014855   \n",
       "1         0.024219         0.145757         0.032768             0.014855   \n",
       "2         0.024219         0.145757         0.032768             0.014855   \n",
       "3         0.024219         0.145757         0.032768             0.014855   \n",
       "4         0.024219         0.145757         0.032768             0.014855   \n",
       "\n",
       "   mean_job_self  mean_vehicle_own_rat  mean_avg_income  mean_med_income  \\\n",
       "0        0.22209              0.041161       34221420.0       30645290.0   \n",
       "1        0.22209              0.041161       34221420.0       30645290.0   \n",
       "2        0.22209              0.041161       34221420.0       30645290.0   \n",
       "3        0.22209              0.041161       34221420.0       30645290.0   \n",
       "4        0.22209              0.041161       34221420.0       30645290.0   \n",
       "\n",
       "   mean_avg_spend  sum_job_majorc  sum_job_smallc  sum_job_public  \\\n",
       "0       4224923.0        3.717861        20.78142        4.747755   \n",
       "1       4224923.0        3.717861        20.78142        4.747755   \n",
       "2       4224923.0        3.717861        20.78142        4.747755   \n",
       "3       4224923.0        3.717861        20.78142        4.747755   \n",
       "4       4224923.0        3.717861        20.78142        4.747755   \n",
       "\n",
       "   sum_job_profession  sum_job_self  sum_vehicle_own_rat  sum_avg_income  \\\n",
       "0            2.169554      30.44199              5.60908    4.998226e+09   \n",
       "1            2.169554      30.44199              5.60908    4.998226e+09   \n",
       "2            2.169554      30.44199              5.60908    4.998226e+09   \n",
       "3            2.169554      30.44199              5.60908    4.998226e+09   \n",
       "4            2.169554      30.44199              5.60908    4.998226e+09   \n",
       "\n",
       "   sum_med_income  sum_avg_spend  rate_job_majorc  rate_job_smallc  \\\n",
       "0    4.455924e+09    614767800.0         0.013889         0.013889   \n",
       "1    4.455924e+09    614767800.0         0.013889         0.013889   \n",
       "2    4.455924e+09    614767800.0         0.013889         0.013889   \n",
       "3    4.455924e+09    614767800.0         0.013889         0.013889   \n",
       "4    4.455924e+09    614767800.0         0.013889         0.013889   \n",
       "\n",
       "   rate_job_public  rate_job_profession  rate_job_self  rate_vehicle_own_rat  \\\n",
       "0         0.013889             0.013889       0.013889              0.013889   \n",
       "1         0.013889             0.013889       0.013889              0.013889   \n",
       "2         0.013889             0.013889       0.013889              0.013889   \n",
       "3         0.013889             0.013889       0.013889              0.013889   \n",
       "4         0.013889             0.013889       0.013889              0.013889   \n",
       "\n",
       "   rate_avg_income  rate_med_income  rate_avg_spend  school  transfer  dong2  \\\n",
       "0         0.013889         0.013889        0.013889       0         0      0   \n",
       "1         0.013889         0.013889        0.013889       0         0      0   \n",
       "2         0.013889         0.013889        0.013889       0         0      0   \n",
       "3         0.013889         0.013889        0.013889       0         1      0   \n",
       "4         0.013889         0.013889        0.013889       0         0      0   \n",
       "\n",
       "    dis_jeju  dis_gosan  dis_seongsan     dis_po  dist_name  \n",
       "0   4.286659  37.692766     37.713630  27.841879          0  \n",
       "1   4.966848  37.008492     38.465822  27.996179          0  \n",
       "2   6.330746  35.642126     39.259820  27.496551          0  \n",
       "3   3.575272  38.643401     38.386802  29.579404          0  \n",
       "4  30.652098  23.648361     45.899140  14.269792          3  \n",
       "\n",
       "[5 rows x 180 columns]"
      ]
     },
     "execution_count": 133,
     "metadata": {},
     "output_type": "execute_result"
    }
   ],
   "source": [
    "data.head()"
   ]
  },
  {
   "cell_type": "code",
   "execution_count": 131,
   "metadata": {
    "colab": {},
    "colab_type": "code",
    "id": "hJDsRg_yz455"
   },
   "outputs": [
    {
     "data": {
      "text/plain": [
       "(184, 4)"
      ]
     },
     "execution_count": 131,
     "metadata": {},
     "output_type": "execute_result"
    }
   ],
   "source": [
    "# 날씨 관련 변수 \n",
    "\n",
    "rain3 = pd.read_csv(\"rain3.csv\")\n",
    "\n",
    "# train, test의 변수명과 통일시키고, NaN의 값은 0.0000으로 변경\n",
    "rain3 = rain3.rename(columns={\"일시\":\"date\",\"지점\":\"dist_name\"})\n",
    "rain3 = rain3.fillna(0.00000)\n",
    "rain3['date'] = pd.to_datetime(rain3['date'])\n",
    "\n",
    "rain3.shape"
   ]
  },
  {
   "cell_type": "code",
   "execution_count": 135,
   "metadata": {},
   "outputs": [
    {
     "data": {
      "text/html": [
       "<div>\n",
       "<style scoped>\n",
       "    .dataframe tbody tr th:only-of-type {\n",
       "        vertical-align: middle;\n",
       "    }\n",
       "\n",
       "    .dataframe tbody tr th {\n",
       "        vertical-align: top;\n",
       "    }\n",
       "\n",
       "    .dataframe thead th {\n",
       "        text-align: right;\n",
       "    }\n",
       "</style>\n",
       "<table border=\"1\" class=\"dataframe\">\n",
       "  <thead>\n",
       "    <tr style=\"text-align: right;\">\n",
       "      <th></th>\n",
       "      <th>dist_name</th>\n",
       "      <th>date</th>\n",
       "      <th>기온(°C)</th>\n",
       "      <th>강수량(mm)</th>\n",
       "    </tr>\n",
       "  </thead>\n",
       "  <tbody>\n",
       "    <tr>\n",
       "      <th>0</th>\n",
       "      <td>1</td>\n",
       "      <td>2019-09-01</td>\n",
       "      <td>22.018182</td>\n",
       "      <td>0.800000</td>\n",
       "    </tr>\n",
       "    <tr>\n",
       "      <th>1</th>\n",
       "      <td>1</td>\n",
       "      <td>2019-09-02</td>\n",
       "      <td>26.145455</td>\n",
       "      <td>0.700000</td>\n",
       "    </tr>\n",
       "    <tr>\n",
       "      <th>2</th>\n",
       "      <td>1</td>\n",
       "      <td>2019-09-03</td>\n",
       "      <td>25.254545</td>\n",
       "      <td>3.866667</td>\n",
       "    </tr>\n",
       "    <tr>\n",
       "      <th>3</th>\n",
       "      <td>1</td>\n",
       "      <td>2019-09-04</td>\n",
       "      <td>24.463636</td>\n",
       "      <td>0.266667</td>\n",
       "    </tr>\n",
       "    <tr>\n",
       "      <th>4</th>\n",
       "      <td>1</td>\n",
       "      <td>2019-09-05</td>\n",
       "      <td>27.136364</td>\n",
       "      <td>0.000000</td>\n",
       "    </tr>\n",
       "  </tbody>\n",
       "</table>\n",
       "</div>"
      ],
      "text/plain": [
       "   dist_name       date     기온(°C)   강수량(mm)\n",
       "0          1 2019-09-01  22.018182  0.800000\n",
       "1          1 2019-09-02  26.145455  0.700000\n",
       "2          1 2019-09-03  25.254545  3.866667\n",
       "3          1 2019-09-04  24.463636  0.266667\n",
       "4          1 2019-09-05  27.136364  0.000000"
      ]
     },
     "execution_count": 135,
     "metadata": {},
     "output_type": "execute_result"
    }
   ],
   "source": [
    "rain3['dist_name'].value_counts()\n",
    "rain3['dist_name'] = rain3['dist_name'].map({'jeju':0,'gosan':1, 'seongsan': 2, 'po': 3})\n",
    "\n",
    "rain3.head()"
   ]
  },
  {
   "cell_type": "code",
   "execution_count": 136,
   "metadata": {
    "colab": {},
    "colab_type": "code",
    "id": "Ield0YBGz6EA"
   },
   "outputs": [
    {
     "data": {
      "text/plain": [
       "(643593, 184)"
      ]
     },
     "execution_count": 136,
     "metadata": {},
     "output_type": "execute_result"
    }
   ],
   "source": [
    "data = pd.merge(data, rain3, how='left',on=['dist_name','date'])\n",
    "data = pd.get_dummies(data,columns=['dist_name'])\n",
    "data = pd.get_dummies(data,columns=['si'])\n",
    "\n",
    "data.shape"
   ]
  },
  {
   "cell_type": "code",
   "execution_count": 0,
   "metadata": {
    "colab": {},
    "colab_type": "code",
    "id": "zwO4HlKlz6iH"
   },
   "outputs": [],
   "source": [
    "# rainy_day\n",
    "# 비 오는날=1, 비 안오는 날=0"
   ]
  },
  {
   "cell_type": "code",
   "execution_count": 137,
   "metadata": {
    "colab": {},
    "colab_type": "code",
    "id": "APiC_uMQz7BQ"
   },
   "outputs": [],
   "source": [
    "def f(x):\n",
    "    if x == 0:\n",
    "        return 0\n",
    "    else:\n",
    "        return 1"
   ]
  },
  {
   "cell_type": "code",
   "execution_count": 138,
   "metadata": {
    "colab": {},
    "colab_type": "code",
    "id": "HUwX8zdtz74E"
   },
   "outputs": [
    {
     "data": {
      "text/plain": [
       "(643593, 185)"
      ]
     },
     "execution_count": 138,
     "metadata": {},
     "output_type": "execute_result"
    }
   ],
   "source": [
    "data['rainy_day'] = data['강수량(mm)'].apply(f)\n",
    "\n",
    "data.shape"
   ]
  },
  {
   "cell_type": "code",
   "execution_count": 139,
   "metadata": {
    "colab": {},
    "colab_type": "code",
    "id": "C7F5kH-Fz9C0"
   },
   "outputs": [
    {
     "data": {
      "text/plain": [
       "(643593, 189)"
      ]
     },
     "execution_count": 139,
     "metadata": {},
     "output_type": "execute_result"
    }
   ],
   "source": [
    "# 승 하차 시간대 통합 변수 (t ~ t+3)\n",
    "# t~t+1, t+1~t+2, t+2~t+3 시간대 승하차인원을 합하여 t~t+3 시간대 승하차인원 변수를 만듬\n",
    "\n",
    "data['69a'] = data['6~7_ride']+data['7~8_ride']+data['8~9_ride']\n",
    "data['912a']=data['9~10_ride']+data['10~11_ride']+data['11~12_ride']\n",
    "\n",
    "data['69b'] = data['6~7_takeoff']+data['7~8_takeoff']+data['8~9_takeoff']\n",
    "data['912b'] = data['9~10_takeoff']+data['10~11_takeoff']+data['11~12_takeoff']\n",
    "\n",
    "data.shape"
   ]
  },
  {
   "cell_type": "code",
   "execution_count": 167,
   "metadata": {},
   "outputs": [],
   "source": [
    "df_airport = pd.read_csv('df_airport.csv')"
   ]
  },
  {
   "cell_type": "code",
   "execution_count": 168,
   "metadata": {},
   "outputs": [
    {
     "data": {
      "text/html": [
       "<div>\n",
       "<style scoped>\n",
       "    .dataframe tbody tr th:only-of-type {\n",
       "        vertical-align: middle;\n",
       "    }\n",
       "\n",
       "    .dataframe tbody tr th {\n",
       "        vertical-align: top;\n",
       "    }\n",
       "\n",
       "    .dataframe thead th {\n",
       "        text-align: right;\n",
       "    }\n",
       "</style>\n",
       "<table border=\"1\" class=\"dataframe\">\n",
       "  <thead>\n",
       "    <tr style=\"text-align: right;\">\n",
       "      <th></th>\n",
       "      <th>date</th>\n",
       "      <th>domestic_tourists</th>\n",
       "      <th>international_tourists</th>\n",
       "    </tr>\n",
       "  </thead>\n",
       "  <tbody>\n",
       "    <tr>\n",
       "      <th>0</th>\n",
       "      <td>2019-08-29</td>\n",
       "      <td>67712</td>\n",
       "      <td>6552</td>\n",
       "    </tr>\n",
       "    <tr>\n",
       "      <th>1</th>\n",
       "      <td>2019-08-30</td>\n",
       "      <td>73118</td>\n",
       "      <td>6904</td>\n",
       "    </tr>\n",
       "    <tr>\n",
       "      <th>2</th>\n",
       "      <td>2019-08-31</td>\n",
       "      <td>64752</td>\n",
       "      <td>6796</td>\n",
       "    </tr>\n",
       "    <tr>\n",
       "      <th>3</th>\n",
       "      <td>2019-09-01</td>\n",
       "      <td>64752</td>\n",
       "      <td>6524</td>\n",
       "    </tr>\n",
       "    <tr>\n",
       "      <th>4</th>\n",
       "      <td>2019-09-02</td>\n",
       "      <td>64752</td>\n",
       "      <td>6604</td>\n",
       "    </tr>\n",
       "  </tbody>\n",
       "</table>\n",
       "</div>"
      ],
      "text/plain": [
       "         date  domestic_tourists  international_tourists\n",
       "0  2019-08-29              67712                    6552\n",
       "1  2019-08-30              73118                    6904\n",
       "2  2019-08-31              64752                    6796\n",
       "3  2019-09-01              64752                    6524\n",
       "4  2019-09-02              64752                    6604"
      ]
     },
     "execution_count": 168,
     "metadata": {},
     "output_type": "execute_result"
    }
   ],
   "source": [
    "df_airport.head()"
   ]
  },
  {
   "cell_type": "code",
   "execution_count": 169,
   "metadata": {},
   "outputs": [
    {
     "name": "stdout",
     "output_type": "stream",
     "text": [
      "<class 'pandas._libs.tslibs.timestamps.Timestamp'>\n",
      "<class 'str'>\n"
     ]
    }
   ],
   "source": [
    "print(type(data['date'][3]))\n",
    "print(type(df_airport['date'][3]))"
   ]
  },
  {
   "cell_type": "code",
   "execution_count": 170,
   "metadata": {},
   "outputs": [
    {
     "name": "stdout",
     "output_type": "stream",
     "text": [
      "<class 'pandas._libs.tslibs.timestamps.Timestamp'>\n"
     ]
    }
   ],
   "source": [
    "df_airport['date'] = pd.to_datetime(df_airport['date'])\n",
    "print(type(df_airport['date'][3]))"
   ]
  },
  {
   "cell_type": "code",
   "execution_count": 171,
   "metadata": {},
   "outputs": [
    {
     "name": "stdout",
     "output_type": "stream",
     "text": [
      "<class 'pandas._libs.tslibs.timestamps.Timestamp'>\n",
      "<class 'pandas._libs.tslibs.timestamps.Timestamp'>\n"
     ]
    }
   ],
   "source": [
    "print(type(data['date'][3]))\n",
    "print(type(df_airport['date'][3]))"
   ]
  },
  {
   "cell_type": "code",
   "execution_count": 173,
   "metadata": {},
   "outputs": [
    {
     "name": "stdout",
     "output_type": "stream",
     "text": [
      "date\n",
      "domestic_tourists\n",
      "international_tourists\n"
     ]
    }
   ],
   "source": [
    "for col in df_airport.columns:\n",
    "    print(col)"
   ]
  },
  {
   "cell_type": "code",
   "execution_count": 174,
   "metadata": {},
   "outputs": [
    {
     "name": "stdout",
     "output_type": "stream",
     "text": [
      "id\n",
      "date\n",
      "bus_route_id\n",
      "in_out\n",
      "station_code\n",
      "station_name\n",
      "latitude\n",
      "longitude\n",
      "6~7_ride\n",
      "7~8_ride\n",
      "8~9_ride\n",
      "9~10_ride\n",
      "10~11_ride\n",
      "11~12_ride\n",
      "6~7_takeoff\n",
      "7~8_takeoff\n",
      "8~9_takeoff\n",
      "9~10_takeoff\n",
      "10~11_takeoff\n",
      "11~12_takeoff\n",
      "18~20_ride\n",
      "route_station\n",
      "bus_route_id_weekday\n",
      "station_code_weekday\n",
      "route_station_weekday\n",
      "68a\n",
      "810a\n",
      "1012a\n",
      "68b\n",
      "810b\n",
      "1012b\n",
      "1820_rs_mean\n",
      "1820_rs_sum\n",
      "1820_r_mean\n",
      "1820_r_sum\n",
      "1820_s_mean\n",
      "1820_s_sum\n",
      "1820_w_mean\n",
      "1820_w_sum\n",
      "mean_bus_weekday_ride\n",
      "mean_station_weekday_ride\n",
      "mean_route_station_weekday_ride\n",
      "congestion\n",
      "location\n",
      "cue\n",
      "1012a_sum\n",
      "1012a_mean\n",
      "1012b_sum\n",
      "1012b_mean\n",
      "10~11_ride_sum\n",
      "10~11_ride_mean\n",
      "10~11_takeoff_sum\n",
      "10~11_takeoff_mean\n",
      "11~12_ride_sum\n",
      "11~12_ride_mean\n",
      "11~12_takeoff_sum\n",
      "11~12_takeoff_mean\n",
      "1820_r_mean_sum\n",
      "1820_r_mean_mean\n",
      "1820_r_sum_sum\n",
      "1820_r_sum_mean\n",
      "1820_rs_mean_sum\n",
      "1820_rs_mean_mean\n",
      "1820_rs_sum_sum\n",
      "1820_rs_sum_mean\n",
      "1820_s_mean_sum\n",
      "1820_s_mean_mean\n",
      "1820_s_sum_sum\n",
      "1820_s_sum_mean\n",
      "1820_w_mean_sum\n",
      "1820_w_mean_mean\n",
      "1820_w_sum_sum\n",
      "1820_w_sum_mean\n",
      "68a_sum\n",
      "68a_mean\n",
      "68b_sum\n",
      "68b_mean\n",
      "6~7_ride_sum\n",
      "6~7_ride_mean\n",
      "6~7_takeoff_sum\n",
      "6~7_takeoff_mean\n",
      "7~8_ride_sum\n",
      "7~8_ride_mean\n",
      "7~8_takeoff_sum\n",
      "7~8_takeoff_mean\n",
      "810a_sum\n",
      "810a_mean\n",
      "810b_sum\n",
      "810b_mean\n",
      "8~9_ride_sum\n",
      "8~9_ride_mean\n",
      "8~9_takeoff_sum\n",
      "8~9_takeoff_mean\n",
      "9~10_ride_sum\n",
      "9~10_ride_mean\n",
      "9~10_takeoff_sum\n",
      "9~10_takeoff_mean\n",
      "bus_interval\n",
      "bus_route_id2\n",
      "station_code2\n",
      "route_station_weekday2\n",
      "route_station2\n",
      "현재일기_10\n",
      "체감온도_10\n",
      "일강수_10\n",
      "weekday_0\n",
      "weekday_1\n",
      "weekday_2\n",
      "weekday_3\n",
      "weekday_4\n",
      "weekday_5\n",
      "weekday_6\n",
      "weekday\n",
      "dis_jejusi\n",
      "dis_jejusicheong1\n",
      "dis_jejuairport\n",
      "dis_hallahosp\n",
      "dis_rotary\n",
      "dis_jejucenterhigh\n",
      "dis_jejumarket\n",
      "dis_jejusclass\n",
      "dis_centerroad\n",
      "dis_fiveway\n",
      "dis_law\n",
      "ride_sum\n",
      "takeoff_sum\n",
      "6~7_all_ride_number\n",
      "7~8_all_ride_number\n",
      "8~9_all_ride_number\n",
      "9~10_all_ride_number\n",
      "10~11_all_ride_number\n",
      "weekend\n",
      "holiday\n",
      "weekdaymean\n",
      "in_out_mean\n",
      "adult\n",
      "kids\n",
      "teen\n",
      "elder\n",
      "adult_prop\n",
      "kids_prop\n",
      "teen_prop\n",
      "elder_prop\n",
      "dong\n",
      "mean_job_majorc\n",
      "mean_job_smallc\n",
      "mean_job_public\n",
      "mean_job_profession\n",
      "mean_job_self\n",
      "mean_vehicle_own_rat\n",
      "mean_avg_income\n",
      "mean_med_income\n",
      "mean_avg_spend\n",
      "sum_job_majorc\n",
      "sum_job_smallc\n",
      "sum_job_public\n",
      "sum_job_profession\n",
      "sum_job_self\n",
      "sum_vehicle_own_rat\n",
      "sum_avg_income\n",
      "sum_med_income\n",
      "sum_avg_spend\n",
      "rate_job_majorc\n",
      "rate_job_smallc\n",
      "rate_job_public\n",
      "rate_job_profession\n",
      "rate_job_self\n",
      "rate_vehicle_own_rat\n",
      "rate_avg_income\n",
      "rate_med_income\n",
      "rate_avg_spend\n",
      "school\n",
      "transfer\n",
      "dong2\n",
      "dis_jeju\n",
      "dis_gosan\n",
      "dis_seongsan\n",
      "dis_po\n",
      "기온(°C)\n",
      "강수량(mm)\n",
      "dist_name_0\n",
      "dist_name_1\n",
      "dist_name_2\n",
      "dist_name_3\n",
      "rainy_day\n",
      "69a\n",
      "912a\n",
      "69b\n",
      "912b\n"
     ]
    }
   ],
   "source": [
    "for col in data.columns: \n",
    "    print(col)"
   ]
  },
  {
   "cell_type": "code",
   "execution_count": 180,
   "metadata": {},
   "outputs": [],
   "source": [
    "# df_airport와 merge \n",
    "data2 = pd.merge(pd.DataFrame(data), pd.DataFrame(df_airport), how = 'left', left_on = 'date', right_on = 'date')\n",
    "\n",
    "# https://stackoverflow.com/questions/34227038/python-pandas-merge-keyerror\n",
    "# 계속 KeyError 'date'\n",
    "# drop_duplicates()는 너무 어려어서 관뒀고, 이게 강제로 할 수 있는 방법 중 최선이었음 "
   ]
  },
  {
   "cell_type": "code",
   "execution_count": 181,
   "metadata": {},
   "outputs": [
    {
     "name": "stdout",
     "output_type": "stream",
     "text": [
      "id\n",
      "date\n",
      "bus_route_id\n",
      "in_out\n",
      "station_code\n",
      "station_name\n",
      "latitude\n",
      "longitude\n",
      "6~7_ride\n",
      "7~8_ride\n",
      "8~9_ride\n",
      "9~10_ride\n",
      "10~11_ride\n",
      "11~12_ride\n",
      "6~7_takeoff\n",
      "7~8_takeoff\n",
      "8~9_takeoff\n",
      "9~10_takeoff\n",
      "10~11_takeoff\n",
      "11~12_takeoff\n",
      "18~20_ride\n",
      "route_station\n",
      "bus_route_id_weekday\n",
      "station_code_weekday\n",
      "route_station_weekday\n",
      "68a\n",
      "810a\n",
      "1012a\n",
      "68b\n",
      "810b\n",
      "1012b\n",
      "1820_rs_mean\n",
      "1820_rs_sum\n",
      "1820_r_mean\n",
      "1820_r_sum\n",
      "1820_s_mean\n",
      "1820_s_sum\n",
      "1820_w_mean\n",
      "1820_w_sum\n",
      "mean_bus_weekday_ride\n",
      "mean_station_weekday_ride\n",
      "mean_route_station_weekday_ride\n",
      "congestion\n",
      "location\n",
      "cue\n",
      "1012a_sum\n",
      "1012a_mean\n",
      "1012b_sum\n",
      "1012b_mean\n",
      "10~11_ride_sum\n",
      "10~11_ride_mean\n",
      "10~11_takeoff_sum\n",
      "10~11_takeoff_mean\n",
      "11~12_ride_sum\n",
      "11~12_ride_mean\n",
      "11~12_takeoff_sum\n",
      "11~12_takeoff_mean\n",
      "1820_r_mean_sum\n",
      "1820_r_mean_mean\n",
      "1820_r_sum_sum\n",
      "1820_r_sum_mean\n",
      "1820_rs_mean_sum\n",
      "1820_rs_mean_mean\n",
      "1820_rs_sum_sum\n",
      "1820_rs_sum_mean\n",
      "1820_s_mean_sum\n",
      "1820_s_mean_mean\n",
      "1820_s_sum_sum\n",
      "1820_s_sum_mean\n",
      "1820_w_mean_sum\n",
      "1820_w_mean_mean\n",
      "1820_w_sum_sum\n",
      "1820_w_sum_mean\n",
      "68a_sum\n",
      "68a_mean\n",
      "68b_sum\n",
      "68b_mean\n",
      "6~7_ride_sum\n",
      "6~7_ride_mean\n",
      "6~7_takeoff_sum\n",
      "6~7_takeoff_mean\n",
      "7~8_ride_sum\n",
      "7~8_ride_mean\n",
      "7~8_takeoff_sum\n",
      "7~8_takeoff_mean\n",
      "810a_sum\n",
      "810a_mean\n",
      "810b_sum\n",
      "810b_mean\n",
      "8~9_ride_sum\n",
      "8~9_ride_mean\n",
      "8~9_takeoff_sum\n",
      "8~9_takeoff_mean\n",
      "9~10_ride_sum\n",
      "9~10_ride_mean\n",
      "9~10_takeoff_sum\n",
      "9~10_takeoff_mean\n",
      "bus_interval\n",
      "bus_route_id2\n",
      "station_code2\n",
      "route_station_weekday2\n",
      "route_station2\n",
      "현재일기_10\n",
      "체감온도_10\n",
      "일강수_10\n",
      "weekday_0\n",
      "weekday_1\n",
      "weekday_2\n",
      "weekday_3\n",
      "weekday_4\n",
      "weekday_5\n",
      "weekday_6\n",
      "weekday\n",
      "dis_jejusi\n",
      "dis_jejusicheong1\n",
      "dis_jejuairport\n",
      "dis_hallahosp\n",
      "dis_rotary\n",
      "dis_jejucenterhigh\n",
      "dis_jejumarket\n",
      "dis_jejusclass\n",
      "dis_centerroad\n",
      "dis_fiveway\n",
      "dis_law\n",
      "ride_sum\n",
      "takeoff_sum\n",
      "6~7_all_ride_number\n",
      "7~8_all_ride_number\n",
      "8~9_all_ride_number\n",
      "9~10_all_ride_number\n",
      "10~11_all_ride_number\n",
      "weekend\n",
      "holiday\n",
      "weekdaymean\n",
      "in_out_mean\n",
      "adult\n",
      "kids\n",
      "teen\n",
      "elder\n",
      "adult_prop\n",
      "kids_prop\n",
      "teen_prop\n",
      "elder_prop\n",
      "dong\n",
      "mean_job_majorc\n",
      "mean_job_smallc\n",
      "mean_job_public\n",
      "mean_job_profession\n",
      "mean_job_self\n",
      "mean_vehicle_own_rat\n",
      "mean_avg_income\n",
      "mean_med_income\n",
      "mean_avg_spend\n",
      "sum_job_majorc\n",
      "sum_job_smallc\n",
      "sum_job_public\n",
      "sum_job_profession\n",
      "sum_job_self\n",
      "sum_vehicle_own_rat\n",
      "sum_avg_income\n",
      "sum_med_income\n",
      "sum_avg_spend\n",
      "rate_job_majorc\n",
      "rate_job_smallc\n",
      "rate_job_public\n",
      "rate_job_profession\n",
      "rate_job_self\n",
      "rate_vehicle_own_rat\n",
      "rate_avg_income\n",
      "rate_med_income\n",
      "rate_avg_spend\n",
      "school\n",
      "transfer\n",
      "dong2\n",
      "dis_jeju\n",
      "dis_gosan\n",
      "dis_seongsan\n",
      "dis_po\n",
      "기온(°C)\n",
      "강수량(mm)\n",
      "dist_name_0\n",
      "dist_name_1\n",
      "dist_name_2\n",
      "dist_name_3\n",
      "rainy_day\n",
      "69a\n",
      "912a\n",
      "69b\n",
      "912b\n",
      "domestic_tourists\n",
      "international_tourists\n"
     ]
    }
   ],
   "source": [
    "for col in data2.columns:\n",
    "    print(col)"
   ]
  },
  {
   "cell_type": "code",
   "execution_count": 182,
   "metadata": {},
   "outputs": [
    {
     "data": {
      "text/html": [
       "<div>\n",
       "<style scoped>\n",
       "    .dataframe tbody tr th:only-of-type {\n",
       "        vertical-align: middle;\n",
       "    }\n",
       "\n",
       "    .dataframe tbody tr th {\n",
       "        vertical-align: top;\n",
       "    }\n",
       "\n",
       "    .dataframe thead th {\n",
       "        text-align: right;\n",
       "    }\n",
       "</style>\n",
       "<table border=\"1\" class=\"dataframe\">\n",
       "  <thead>\n",
       "    <tr style=\"text-align: right;\">\n",
       "      <th></th>\n",
       "      <th>id</th>\n",
       "      <th>date</th>\n",
       "      <th>bus_route_id</th>\n",
       "      <th>in_out</th>\n",
       "      <th>station_code</th>\n",
       "      <th>station_name</th>\n",
       "      <th>latitude</th>\n",
       "      <th>longitude</th>\n",
       "      <th>6~7_ride</th>\n",
       "      <th>7~8_ride</th>\n",
       "      <th>8~9_ride</th>\n",
       "      <th>9~10_ride</th>\n",
       "      <th>10~11_ride</th>\n",
       "      <th>11~12_ride</th>\n",
       "      <th>6~7_takeoff</th>\n",
       "      <th>7~8_takeoff</th>\n",
       "      <th>8~9_takeoff</th>\n",
       "      <th>9~10_takeoff</th>\n",
       "      <th>10~11_takeoff</th>\n",
       "      <th>11~12_takeoff</th>\n",
       "      <th>18~20_ride</th>\n",
       "      <th>route_station</th>\n",
       "      <th>bus_route_id_weekday</th>\n",
       "      <th>station_code_weekday</th>\n",
       "      <th>route_station_weekday</th>\n",
       "      <th>68a</th>\n",
       "      <th>810a</th>\n",
       "      <th>1012a</th>\n",
       "      <th>68b</th>\n",
       "      <th>810b</th>\n",
       "      <th>1012b</th>\n",
       "      <th>1820_rs_mean</th>\n",
       "      <th>1820_rs_sum</th>\n",
       "      <th>1820_r_mean</th>\n",
       "      <th>1820_r_sum</th>\n",
       "      <th>1820_s_mean</th>\n",
       "      <th>1820_s_sum</th>\n",
       "      <th>1820_w_mean</th>\n",
       "      <th>1820_w_sum</th>\n",
       "      <th>mean_bus_weekday_ride</th>\n",
       "      <th>mean_station_weekday_ride</th>\n",
       "      <th>mean_route_station_weekday_ride</th>\n",
       "      <th>congestion</th>\n",
       "      <th>location</th>\n",
       "      <th>cue</th>\n",
       "      <th>1012a_sum</th>\n",
       "      <th>1012a_mean</th>\n",
       "      <th>1012b_sum</th>\n",
       "      <th>1012b_mean</th>\n",
       "      <th>10~11_ride_sum</th>\n",
       "      <th>10~11_ride_mean</th>\n",
       "      <th>10~11_takeoff_sum</th>\n",
       "      <th>10~11_takeoff_mean</th>\n",
       "      <th>11~12_ride_sum</th>\n",
       "      <th>11~12_ride_mean</th>\n",
       "      <th>11~12_takeoff_sum</th>\n",
       "      <th>11~12_takeoff_mean</th>\n",
       "      <th>1820_r_mean_sum</th>\n",
       "      <th>1820_r_mean_mean</th>\n",
       "      <th>1820_r_sum_sum</th>\n",
       "      <th>1820_r_sum_mean</th>\n",
       "      <th>1820_rs_mean_sum</th>\n",
       "      <th>1820_rs_mean_mean</th>\n",
       "      <th>1820_rs_sum_sum</th>\n",
       "      <th>1820_rs_sum_mean</th>\n",
       "      <th>...</th>\n",
       "      <th>6~7_all_ride_number</th>\n",
       "      <th>7~8_all_ride_number</th>\n",
       "      <th>8~9_all_ride_number</th>\n",
       "      <th>9~10_all_ride_number</th>\n",
       "      <th>10~11_all_ride_number</th>\n",
       "      <th>weekend</th>\n",
       "      <th>holiday</th>\n",
       "      <th>weekdaymean</th>\n",
       "      <th>in_out_mean</th>\n",
       "      <th>adult</th>\n",
       "      <th>kids</th>\n",
       "      <th>teen</th>\n",
       "      <th>elder</th>\n",
       "      <th>adult_prop</th>\n",
       "      <th>kids_prop</th>\n",
       "      <th>teen_prop</th>\n",
       "      <th>elder_prop</th>\n",
       "      <th>dong</th>\n",
       "      <th>mean_job_majorc</th>\n",
       "      <th>mean_job_smallc</th>\n",
       "      <th>mean_job_public</th>\n",
       "      <th>mean_job_profession</th>\n",
       "      <th>mean_job_self</th>\n",
       "      <th>mean_vehicle_own_rat</th>\n",
       "      <th>mean_avg_income</th>\n",
       "      <th>mean_med_income</th>\n",
       "      <th>mean_avg_spend</th>\n",
       "      <th>sum_job_majorc</th>\n",
       "      <th>sum_job_smallc</th>\n",
       "      <th>sum_job_public</th>\n",
       "      <th>sum_job_profession</th>\n",
       "      <th>sum_job_self</th>\n",
       "      <th>sum_vehicle_own_rat</th>\n",
       "      <th>sum_avg_income</th>\n",
       "      <th>sum_med_income</th>\n",
       "      <th>sum_avg_spend</th>\n",
       "      <th>rate_job_majorc</th>\n",
       "      <th>rate_job_smallc</th>\n",
       "      <th>rate_job_public</th>\n",
       "      <th>rate_job_profession</th>\n",
       "      <th>rate_job_self</th>\n",
       "      <th>rate_vehicle_own_rat</th>\n",
       "      <th>rate_avg_income</th>\n",
       "      <th>rate_med_income</th>\n",
       "      <th>rate_avg_spend</th>\n",
       "      <th>school</th>\n",
       "      <th>transfer</th>\n",
       "      <th>dong2</th>\n",
       "      <th>dis_jeju</th>\n",
       "      <th>dis_gosan</th>\n",
       "      <th>dis_seongsan</th>\n",
       "      <th>dis_po</th>\n",
       "      <th>기온(°C)</th>\n",
       "      <th>강수량(mm)</th>\n",
       "      <th>dist_name_0</th>\n",
       "      <th>dist_name_1</th>\n",
       "      <th>dist_name_2</th>\n",
       "      <th>dist_name_3</th>\n",
       "      <th>rainy_day</th>\n",
       "      <th>69a</th>\n",
       "      <th>912a</th>\n",
       "      <th>69b</th>\n",
       "      <th>912b</th>\n",
       "      <th>domestic_tourists</th>\n",
       "      <th>international_tourists</th>\n",
       "    </tr>\n",
       "  </thead>\n",
       "  <tbody>\n",
       "    <tr>\n",
       "      <th>0</th>\n",
       "      <td>0</td>\n",
       "      <td>2019-09-01</td>\n",
       "      <td>4270000</td>\n",
       "      <td>1</td>\n",
       "      <td>344</td>\n",
       "      <td>제주썬호텔</td>\n",
       "      <td>33.48990</td>\n",
       "      <td>126.49373</td>\n",
       "      <td>0.0</td>\n",
       "      <td>1.0</td>\n",
       "      <td>2.0</td>\n",
       "      <td>5.0</td>\n",
       "      <td>2.0</td>\n",
       "      <td>6.0</td>\n",
       "      <td>0.0</td>\n",
       "      <td>0.0</td>\n",
       "      <td>0.0</td>\n",
       "      <td>0.0</td>\n",
       "      <td>0.0</td>\n",
       "      <td>0.0</td>\n",
       "      <td>0.0</td>\n",
       "      <td>4270000,344</td>\n",
       "      <td>4270000,6</td>\n",
       "      <td>344,6</td>\n",
       "      <td>4270000,344,6</td>\n",
       "      <td>1.0</td>\n",
       "      <td>7.0</td>\n",
       "      <td>8.0</td>\n",
       "      <td>0.0</td>\n",
       "      <td>0.0</td>\n",
       "      <td>0.0</td>\n",
       "      <td>1.466667</td>\n",
       "      <td>44.0</td>\n",
       "      <td>3.104381</td>\n",
       "      <td>2409.0</td>\n",
       "      <td>1.466667</td>\n",
       "      <td>44.0</td>\n",
       "      <td>1.034282</td>\n",
       "      <td>54306.0</td>\n",
       "      <td>3.132812</td>\n",
       "      <td>0.200000</td>\n",
       "      <td>0.2</td>\n",
       "      <td>5</td>\n",
       "      <td>33.4899,126.49373</td>\n",
       "      <td>0</td>\n",
       "      <td>244.0</td>\n",
       "      <td>5.304348</td>\n",
       "      <td>12.0</td>\n",
       "      <td>0.260870</td>\n",
       "      <td>136.0</td>\n",
       "      <td>2.956522</td>\n",
       "      <td>5.0</td>\n",
       "      <td>0.108696</td>\n",
       "      <td>108.0</td>\n",
       "      <td>2.347826</td>\n",
       "      <td>7.0</td>\n",
       "      <td>0.152174</td>\n",
       "      <td>142.801546</td>\n",
       "      <td>3.104381</td>\n",
       "      <td>110814.0</td>\n",
       "      <td>2409.0</td>\n",
       "      <td>67.466667</td>\n",
       "      <td>1.466667</td>\n",
       "      <td>2024.0</td>\n",
       "      <td>44.0</td>\n",
       "      <td>...</td>\n",
       "      <td>2942.0</td>\n",
       "      <td>4518.0</td>\n",
       "      <td>5682.0</td>\n",
       "      <td>6275.0</td>\n",
       "      <td>6774.0</td>\n",
       "      <td>1</td>\n",
       "      <td>0</td>\n",
       "      <td>1.034282</td>\n",
       "      <td>1.0</td>\n",
       "      <td>8158.0</td>\n",
       "      <td>72.0</td>\n",
       "      <td>38.0</td>\n",
       "      <td>0.0</td>\n",
       "      <td>0.986696</td>\n",
       "      <td>0.008708</td>\n",
       "      <td>0.004596</td>\n",
       "      <td>0.0</td>\n",
       "      <td>NaN</td>\n",
       "      <td>0.024219</td>\n",
       "      <td>0.145757</td>\n",
       "      <td>0.032768</td>\n",
       "      <td>0.014855</td>\n",
       "      <td>0.22209</td>\n",
       "      <td>0.041161</td>\n",
       "      <td>34221420.0</td>\n",
       "      <td>30645290.0</td>\n",
       "      <td>4224923.0</td>\n",
       "      <td>3.717861</td>\n",
       "      <td>20.78142</td>\n",
       "      <td>4.747755</td>\n",
       "      <td>2.169554</td>\n",
       "      <td>30.44199</td>\n",
       "      <td>5.60908</td>\n",
       "      <td>4.998226e+09</td>\n",
       "      <td>4.455924e+09</td>\n",
       "      <td>614767800.0</td>\n",
       "      <td>0.013889</td>\n",
       "      <td>0.013889</td>\n",
       "      <td>0.013889</td>\n",
       "      <td>0.013889</td>\n",
       "      <td>0.013889</td>\n",
       "      <td>0.013889</td>\n",
       "      <td>0.013889</td>\n",
       "      <td>0.013889</td>\n",
       "      <td>0.013889</td>\n",
       "      <td>0</td>\n",
       "      <td>0</td>\n",
       "      <td>0</td>\n",
       "      <td>4.286659</td>\n",
       "      <td>37.692766</td>\n",
       "      <td>37.713630</td>\n",
       "      <td>27.841879</td>\n",
       "      <td>22.727273</td>\n",
       "      <td>2.272727</td>\n",
       "      <td>1</td>\n",
       "      <td>0</td>\n",
       "      <td>0</td>\n",
       "      <td>0</td>\n",
       "      <td>1</td>\n",
       "      <td>3.0</td>\n",
       "      <td>13.0</td>\n",
       "      <td>0.0</td>\n",
       "      <td>0.0</td>\n",
       "      <td>64752</td>\n",
       "      <td>6524</td>\n",
       "    </tr>\n",
       "    <tr>\n",
       "      <th>1</th>\n",
       "      <td>1</td>\n",
       "      <td>2019-09-01</td>\n",
       "      <td>4270000</td>\n",
       "      <td>1</td>\n",
       "      <td>357</td>\n",
       "      <td>한라병원</td>\n",
       "      <td>33.48944</td>\n",
       "      <td>126.48508</td>\n",
       "      <td>1.0</td>\n",
       "      <td>4.0</td>\n",
       "      <td>4.0</td>\n",
       "      <td>2.0</td>\n",
       "      <td>5.0</td>\n",
       "      <td>6.0</td>\n",
       "      <td>0.0</td>\n",
       "      <td>0.0</td>\n",
       "      <td>0.0</td>\n",
       "      <td>0.0</td>\n",
       "      <td>0.0</td>\n",
       "      <td>0.0</td>\n",
       "      <td>5.0</td>\n",
       "      <td>4270000,357</td>\n",
       "      <td>4270000,6</td>\n",
       "      <td>357,6</td>\n",
       "      <td>4270000,357,6</td>\n",
       "      <td>5.0</td>\n",
       "      <td>6.0</td>\n",
       "      <td>11.0</td>\n",
       "      <td>0.0</td>\n",
       "      <td>0.0</td>\n",
       "      <td>0.0</td>\n",
       "      <td>5.366667</td>\n",
       "      <td>161.0</td>\n",
       "      <td>3.104381</td>\n",
       "      <td>2409.0</td>\n",
       "      <td>4.178218</td>\n",
       "      <td>6330.0</td>\n",
       "      <td>1.034282</td>\n",
       "      <td>54306.0</td>\n",
       "      <td>3.132812</td>\n",
       "      <td>3.154867</td>\n",
       "      <td>2.2</td>\n",
       "      <td>5</td>\n",
       "      <td>33.48944,126.48508</td>\n",
       "      <td>0</td>\n",
       "      <td>534.0</td>\n",
       "      <td>11.608696</td>\n",
       "      <td>17.0</td>\n",
       "      <td>0.369565</td>\n",
       "      <td>280.0</td>\n",
       "      <td>6.086957</td>\n",
       "      <td>6.0</td>\n",
       "      <td>0.130435</td>\n",
       "      <td>254.0</td>\n",
       "      <td>5.521739</td>\n",
       "      <td>11.0</td>\n",
       "      <td>0.239130</td>\n",
       "      <td>142.801546</td>\n",
       "      <td>3.104381</td>\n",
       "      <td>110814.0</td>\n",
       "      <td>2409.0</td>\n",
       "      <td>246.866667</td>\n",
       "      <td>5.366667</td>\n",
       "      <td>7406.0</td>\n",
       "      <td>161.0</td>\n",
       "      <td>...</td>\n",
       "      <td>2942.0</td>\n",
       "      <td>4518.0</td>\n",
       "      <td>5682.0</td>\n",
       "      <td>6275.0</td>\n",
       "      <td>6774.0</td>\n",
       "      <td>1</td>\n",
       "      <td>0</td>\n",
       "      <td>1.034282</td>\n",
       "      <td>1.0</td>\n",
       "      <td>8158.0</td>\n",
       "      <td>72.0</td>\n",
       "      <td>38.0</td>\n",
       "      <td>0.0</td>\n",
       "      <td>0.986696</td>\n",
       "      <td>0.008708</td>\n",
       "      <td>0.004596</td>\n",
       "      <td>0.0</td>\n",
       "      <td>NaN</td>\n",
       "      <td>0.024219</td>\n",
       "      <td>0.145757</td>\n",
       "      <td>0.032768</td>\n",
       "      <td>0.014855</td>\n",
       "      <td>0.22209</td>\n",
       "      <td>0.041161</td>\n",
       "      <td>34221420.0</td>\n",
       "      <td>30645290.0</td>\n",
       "      <td>4224923.0</td>\n",
       "      <td>3.717861</td>\n",
       "      <td>20.78142</td>\n",
       "      <td>4.747755</td>\n",
       "      <td>2.169554</td>\n",
       "      <td>30.44199</td>\n",
       "      <td>5.60908</td>\n",
       "      <td>4.998226e+09</td>\n",
       "      <td>4.455924e+09</td>\n",
       "      <td>614767800.0</td>\n",
       "      <td>0.013889</td>\n",
       "      <td>0.013889</td>\n",
       "      <td>0.013889</td>\n",
       "      <td>0.013889</td>\n",
       "      <td>0.013889</td>\n",
       "      <td>0.013889</td>\n",
       "      <td>0.013889</td>\n",
       "      <td>0.013889</td>\n",
       "      <td>0.013889</td>\n",
       "      <td>0</td>\n",
       "      <td>0</td>\n",
       "      <td>0</td>\n",
       "      <td>4.966848</td>\n",
       "      <td>37.008492</td>\n",
       "      <td>38.465822</td>\n",
       "      <td>27.996179</td>\n",
       "      <td>22.727273</td>\n",
       "      <td>2.272727</td>\n",
       "      <td>1</td>\n",
       "      <td>0</td>\n",
       "      <td>0</td>\n",
       "      <td>0</td>\n",
       "      <td>1</td>\n",
       "      <td>9.0</td>\n",
       "      <td>13.0</td>\n",
       "      <td>0.0</td>\n",
       "      <td>0.0</td>\n",
       "      <td>64752</td>\n",
       "      <td>6524</td>\n",
       "    </tr>\n",
       "    <tr>\n",
       "      <th>2</th>\n",
       "      <td>2</td>\n",
       "      <td>2019-09-01</td>\n",
       "      <td>4270000</td>\n",
       "      <td>1</td>\n",
       "      <td>432</td>\n",
       "      <td>정존마을</td>\n",
       "      <td>33.48181</td>\n",
       "      <td>126.47352</td>\n",
       "      <td>1.0</td>\n",
       "      <td>1.0</td>\n",
       "      <td>0.0</td>\n",
       "      <td>2.0</td>\n",
       "      <td>0.0</td>\n",
       "      <td>0.0</td>\n",
       "      <td>0.0</td>\n",
       "      <td>0.0</td>\n",
       "      <td>0.0</td>\n",
       "      <td>0.0</td>\n",
       "      <td>0.0</td>\n",
       "      <td>0.0</td>\n",
       "      <td>2.0</td>\n",
       "      <td>4270000,432</td>\n",
       "      <td>4270000,6</td>\n",
       "      <td>432,6</td>\n",
       "      <td>4270000,432,6</td>\n",
       "      <td>2.0</td>\n",
       "      <td>2.0</td>\n",
       "      <td>0.0</td>\n",
       "      <td>0.0</td>\n",
       "      <td>0.0</td>\n",
       "      <td>0.0</td>\n",
       "      <td>1.600000</td>\n",
       "      <td>48.0</td>\n",
       "      <td>3.104381</td>\n",
       "      <td>2409.0</td>\n",
       "      <td>2.169559</td>\n",
       "      <td>1625.0</td>\n",
       "      <td>1.034282</td>\n",
       "      <td>54306.0</td>\n",
       "      <td>3.132812</td>\n",
       "      <td>1.163462</td>\n",
       "      <td>0.8</td>\n",
       "      <td>5</td>\n",
       "      <td>33.48181,126.47352</td>\n",
       "      <td>0</td>\n",
       "      <td>106.0</td>\n",
       "      <td>2.304348</td>\n",
       "      <td>7.0</td>\n",
       "      <td>0.152174</td>\n",
       "      <td>43.0</td>\n",
       "      <td>0.934783</td>\n",
       "      <td>2.0</td>\n",
       "      <td>0.043478</td>\n",
       "      <td>63.0</td>\n",
       "      <td>1.369565</td>\n",
       "      <td>5.0</td>\n",
       "      <td>0.108696</td>\n",
       "      <td>142.801546</td>\n",
       "      <td>3.104381</td>\n",
       "      <td>110814.0</td>\n",
       "      <td>2409.0</td>\n",
       "      <td>73.600000</td>\n",
       "      <td>1.600000</td>\n",
       "      <td>2208.0</td>\n",
       "      <td>48.0</td>\n",
       "      <td>...</td>\n",
       "      <td>2942.0</td>\n",
       "      <td>4518.0</td>\n",
       "      <td>5682.0</td>\n",
       "      <td>6275.0</td>\n",
       "      <td>6774.0</td>\n",
       "      <td>1</td>\n",
       "      <td>0</td>\n",
       "      <td>1.034282</td>\n",
       "      <td>1.0</td>\n",
       "      <td>8158.0</td>\n",
       "      <td>72.0</td>\n",
       "      <td>38.0</td>\n",
       "      <td>0.0</td>\n",
       "      <td>0.986696</td>\n",
       "      <td>0.008708</td>\n",
       "      <td>0.004596</td>\n",
       "      <td>0.0</td>\n",
       "      <td>NaN</td>\n",
       "      <td>0.024219</td>\n",
       "      <td>0.145757</td>\n",
       "      <td>0.032768</td>\n",
       "      <td>0.014855</td>\n",
       "      <td>0.22209</td>\n",
       "      <td>0.041161</td>\n",
       "      <td>34221420.0</td>\n",
       "      <td>30645290.0</td>\n",
       "      <td>4224923.0</td>\n",
       "      <td>3.717861</td>\n",
       "      <td>20.78142</td>\n",
       "      <td>4.747755</td>\n",
       "      <td>2.169554</td>\n",
       "      <td>30.44199</td>\n",
       "      <td>5.60908</td>\n",
       "      <td>4.998226e+09</td>\n",
       "      <td>4.455924e+09</td>\n",
       "      <td>614767800.0</td>\n",
       "      <td>0.013889</td>\n",
       "      <td>0.013889</td>\n",
       "      <td>0.013889</td>\n",
       "      <td>0.013889</td>\n",
       "      <td>0.013889</td>\n",
       "      <td>0.013889</td>\n",
       "      <td>0.013889</td>\n",
       "      <td>0.013889</td>\n",
       "      <td>0.013889</td>\n",
       "      <td>0</td>\n",
       "      <td>0</td>\n",
       "      <td>0</td>\n",
       "      <td>6.330746</td>\n",
       "      <td>35.642126</td>\n",
       "      <td>39.259820</td>\n",
       "      <td>27.496551</td>\n",
       "      <td>22.727273</td>\n",
       "      <td>2.272727</td>\n",
       "      <td>1</td>\n",
       "      <td>0</td>\n",
       "      <td>0</td>\n",
       "      <td>0</td>\n",
       "      <td>1</td>\n",
       "      <td>2.0</td>\n",
       "      <td>2.0</td>\n",
       "      <td>0.0</td>\n",
       "      <td>0.0</td>\n",
       "      <td>64752</td>\n",
       "      <td>6524</td>\n",
       "    </tr>\n",
       "    <tr>\n",
       "      <th>3</th>\n",
       "      <td>3</td>\n",
       "      <td>2019-09-01</td>\n",
       "      <td>4270000</td>\n",
       "      <td>0</td>\n",
       "      <td>1579</td>\n",
       "      <td>제주국제공항(600번)</td>\n",
       "      <td>33.50577</td>\n",
       "      <td>126.49252</td>\n",
       "      <td>0.0</td>\n",
       "      <td>17.0</td>\n",
       "      <td>6.0</td>\n",
       "      <td>26.0</td>\n",
       "      <td>14.0</td>\n",
       "      <td>16.0</td>\n",
       "      <td>0.0</td>\n",
       "      <td>0.0</td>\n",
       "      <td>0.0</td>\n",
       "      <td>0.0</td>\n",
       "      <td>0.0</td>\n",
       "      <td>0.0</td>\n",
       "      <td>53.0</td>\n",
       "      <td>4270000,1579</td>\n",
       "      <td>4270000,6</td>\n",
       "      <td>1579,6</td>\n",
       "      <td>4270000,1579,6</td>\n",
       "      <td>17.0</td>\n",
       "      <td>32.0</td>\n",
       "      <td>30.0</td>\n",
       "      <td>0.0</td>\n",
       "      <td>0.0</td>\n",
       "      <td>0.0</td>\n",
       "      <td>53.766667</td>\n",
       "      <td>1613.0</td>\n",
       "      <td>3.104381</td>\n",
       "      <td>2409.0</td>\n",
       "      <td>52.032258</td>\n",
       "      <td>1613.0</td>\n",
       "      <td>1.034282</td>\n",
       "      <td>54306.0</td>\n",
       "      <td>3.132812</td>\n",
       "      <td>56.000000</td>\n",
       "      <td>56.0</td>\n",
       "      <td>5</td>\n",
       "      <td>33.50577,126.49252</td>\n",
       "      <td>0</td>\n",
       "      <td>1687.0</td>\n",
       "      <td>36.673913</td>\n",
       "      <td>4.0</td>\n",
       "      <td>0.086957</td>\n",
       "      <td>822.0</td>\n",
       "      <td>17.869565</td>\n",
       "      <td>1.0</td>\n",
       "      <td>0.021739</td>\n",
       "      <td>865.0</td>\n",
       "      <td>18.804348</td>\n",
       "      <td>3.0</td>\n",
       "      <td>0.065217</td>\n",
       "      <td>142.801546</td>\n",
       "      <td>3.104381</td>\n",
       "      <td>110814.0</td>\n",
       "      <td>2409.0</td>\n",
       "      <td>2473.266667</td>\n",
       "      <td>53.766667</td>\n",
       "      <td>74198.0</td>\n",
       "      <td>1613.0</td>\n",
       "      <td>...</td>\n",
       "      <td>2942.0</td>\n",
       "      <td>4518.0</td>\n",
       "      <td>5682.0</td>\n",
       "      <td>6275.0</td>\n",
       "      <td>6774.0</td>\n",
       "      <td>1</td>\n",
       "      <td>0</td>\n",
       "      <td>1.034282</td>\n",
       "      <td>1.0</td>\n",
       "      <td>8158.0</td>\n",
       "      <td>72.0</td>\n",
       "      <td>38.0</td>\n",
       "      <td>0.0</td>\n",
       "      <td>0.986696</td>\n",
       "      <td>0.008708</td>\n",
       "      <td>0.004596</td>\n",
       "      <td>0.0</td>\n",
       "      <td>NaN</td>\n",
       "      <td>0.024219</td>\n",
       "      <td>0.145757</td>\n",
       "      <td>0.032768</td>\n",
       "      <td>0.014855</td>\n",
       "      <td>0.22209</td>\n",
       "      <td>0.041161</td>\n",
       "      <td>34221420.0</td>\n",
       "      <td>30645290.0</td>\n",
       "      <td>4224923.0</td>\n",
       "      <td>3.717861</td>\n",
       "      <td>20.78142</td>\n",
       "      <td>4.747755</td>\n",
       "      <td>2.169554</td>\n",
       "      <td>30.44199</td>\n",
       "      <td>5.60908</td>\n",
       "      <td>4.998226e+09</td>\n",
       "      <td>4.455924e+09</td>\n",
       "      <td>614767800.0</td>\n",
       "      <td>0.013889</td>\n",
       "      <td>0.013889</td>\n",
       "      <td>0.013889</td>\n",
       "      <td>0.013889</td>\n",
       "      <td>0.013889</td>\n",
       "      <td>0.013889</td>\n",
       "      <td>0.013889</td>\n",
       "      <td>0.013889</td>\n",
       "      <td>0.013889</td>\n",
       "      <td>0</td>\n",
       "      <td>1</td>\n",
       "      <td>0</td>\n",
       "      <td>3.575272</td>\n",
       "      <td>38.643401</td>\n",
       "      <td>38.386802</td>\n",
       "      <td>29.579404</td>\n",
       "      <td>22.727273</td>\n",
       "      <td>2.272727</td>\n",
       "      <td>1</td>\n",
       "      <td>0</td>\n",
       "      <td>0</td>\n",
       "      <td>0</td>\n",
       "      <td>1</td>\n",
       "      <td>23.0</td>\n",
       "      <td>56.0</td>\n",
       "      <td>0.0</td>\n",
       "      <td>0.0</td>\n",
       "      <td>64752</td>\n",
       "      <td>6524</td>\n",
       "    </tr>\n",
       "    <tr>\n",
       "      <th>4</th>\n",
       "      <td>4</td>\n",
       "      <td>2019-09-01</td>\n",
       "      <td>4270000</td>\n",
       "      <td>0</td>\n",
       "      <td>1646</td>\n",
       "      <td>중문관광단지입구</td>\n",
       "      <td>33.25579</td>\n",
       "      <td>126.41260</td>\n",
       "      <td>0.0</td>\n",
       "      <td>0.0</td>\n",
       "      <td>0.0</td>\n",
       "      <td>0.0</td>\n",
       "      <td>0.0</td>\n",
       "      <td>0.0</td>\n",
       "      <td>0.0</td>\n",
       "      <td>0.0</td>\n",
       "      <td>0.0</td>\n",
       "      <td>1.0</td>\n",
       "      <td>0.0</td>\n",
       "      <td>0.0</td>\n",
       "      <td>0.0</td>\n",
       "      <td>4270000,1646</td>\n",
       "      <td>4270000,6</td>\n",
       "      <td>1646,6</td>\n",
       "      <td>4270000,1646,6</td>\n",
       "      <td>0.0</td>\n",
       "      <td>0.0</td>\n",
       "      <td>0.0</td>\n",
       "      <td>0.0</td>\n",
       "      <td>1.0</td>\n",
       "      <td>0.0</td>\n",
       "      <td>0.153846</td>\n",
       "      <td>4.0</td>\n",
       "      <td>3.104381</td>\n",
       "      <td>2409.0</td>\n",
       "      <td>0.732794</td>\n",
       "      <td>181.0</td>\n",
       "      <td>1.034282</td>\n",
       "      <td>54306.0</td>\n",
       "      <td>3.132812</td>\n",
       "      <td>1.108108</td>\n",
       "      <td>0.4</td>\n",
       "      <td>5</td>\n",
       "      <td>33.255790000000005,126.4126</td>\n",
       "      <td>0</td>\n",
       "      <td>22.0</td>\n",
       "      <td>0.564103</td>\n",
       "      <td>64.0</td>\n",
       "      <td>1.641026</td>\n",
       "      <td>10.0</td>\n",
       "      <td>0.256410</td>\n",
       "      <td>18.0</td>\n",
       "      <td>0.461538</td>\n",
       "      <td>12.0</td>\n",
       "      <td>0.307692</td>\n",
       "      <td>46.0</td>\n",
       "      <td>1.179487</td>\n",
       "      <td>121.070876</td>\n",
       "      <td>3.104381</td>\n",
       "      <td>93951.0</td>\n",
       "      <td>2409.0</td>\n",
       "      <td>6.000000</td>\n",
       "      <td>0.153846</td>\n",
       "      <td>156.0</td>\n",
       "      <td>4.0</td>\n",
       "      <td>...</td>\n",
       "      <td>2942.0</td>\n",
       "      <td>4518.0</td>\n",
       "      <td>5682.0</td>\n",
       "      <td>6275.0</td>\n",
       "      <td>6774.0</td>\n",
       "      <td>1</td>\n",
       "      <td>0</td>\n",
       "      <td>1.034282</td>\n",
       "      <td>1.0</td>\n",
       "      <td>8158.0</td>\n",
       "      <td>72.0</td>\n",
       "      <td>38.0</td>\n",
       "      <td>0.0</td>\n",
       "      <td>0.986696</td>\n",
       "      <td>0.008708</td>\n",
       "      <td>0.004596</td>\n",
       "      <td>0.0</td>\n",
       "      <td>NaN</td>\n",
       "      <td>0.024219</td>\n",
       "      <td>0.145757</td>\n",
       "      <td>0.032768</td>\n",
       "      <td>0.014855</td>\n",
       "      <td>0.22209</td>\n",
       "      <td>0.041161</td>\n",
       "      <td>34221420.0</td>\n",
       "      <td>30645290.0</td>\n",
       "      <td>4224923.0</td>\n",
       "      <td>3.717861</td>\n",
       "      <td>20.78142</td>\n",
       "      <td>4.747755</td>\n",
       "      <td>2.169554</td>\n",
       "      <td>30.44199</td>\n",
       "      <td>5.60908</td>\n",
       "      <td>4.998226e+09</td>\n",
       "      <td>4.455924e+09</td>\n",
       "      <td>614767800.0</td>\n",
       "      <td>0.013889</td>\n",
       "      <td>0.013889</td>\n",
       "      <td>0.013889</td>\n",
       "      <td>0.013889</td>\n",
       "      <td>0.013889</td>\n",
       "      <td>0.013889</td>\n",
       "      <td>0.013889</td>\n",
       "      <td>0.013889</td>\n",
       "      <td>0.013889</td>\n",
       "      <td>0</td>\n",
       "      <td>0</td>\n",
       "      <td>0</td>\n",
       "      <td>30.652098</td>\n",
       "      <td>23.648361</td>\n",
       "      <td>45.899140</td>\n",
       "      <td>14.269792</td>\n",
       "      <td>22.127273</td>\n",
       "      <td>1.627273</td>\n",
       "      <td>0</td>\n",
       "      <td>0</td>\n",
       "      <td>0</td>\n",
       "      <td>1</td>\n",
       "      <td>1</td>\n",
       "      <td>0.0</td>\n",
       "      <td>0.0</td>\n",
       "      <td>0.0</td>\n",
       "      <td>1.0</td>\n",
       "      <td>64752</td>\n",
       "      <td>6524</td>\n",
       "    </tr>\n",
       "  </tbody>\n",
       "</table>\n",
       "<p>5 rows × 191 columns</p>\n",
       "</div>"
      ],
      "text/plain": [
       "   id       date bus_route_id  in_out station_code  station_name  latitude  \\\n",
       "0   0 2019-09-01      4270000       1          344         제주썬호텔  33.48990   \n",
       "1   1 2019-09-01      4270000       1          357          한라병원  33.48944   \n",
       "2   2 2019-09-01      4270000       1          432          정존마을  33.48181   \n",
       "3   3 2019-09-01      4270000       0         1579  제주국제공항(600번)  33.50577   \n",
       "4   4 2019-09-01      4270000       0         1646      중문관광단지입구  33.25579   \n",
       "\n",
       "   longitude  6~7_ride  7~8_ride  8~9_ride  9~10_ride  10~11_ride  11~12_ride  \\\n",
       "0  126.49373       0.0       1.0       2.0        5.0         2.0         6.0   \n",
       "1  126.48508       1.0       4.0       4.0        2.0         5.0         6.0   \n",
       "2  126.47352       1.0       1.0       0.0        2.0         0.0         0.0   \n",
       "3  126.49252       0.0      17.0       6.0       26.0        14.0        16.0   \n",
       "4  126.41260       0.0       0.0       0.0        0.0         0.0         0.0   \n",
       "\n",
       "   6~7_takeoff  7~8_takeoff  8~9_takeoff  9~10_takeoff  10~11_takeoff  \\\n",
       "0          0.0          0.0          0.0           0.0            0.0   \n",
       "1          0.0          0.0          0.0           0.0            0.0   \n",
       "2          0.0          0.0          0.0           0.0            0.0   \n",
       "3          0.0          0.0          0.0           0.0            0.0   \n",
       "4          0.0          0.0          0.0           1.0            0.0   \n",
       "\n",
       "   11~12_takeoff  18~20_ride route_station bus_route_id_weekday  \\\n",
       "0            0.0         0.0   4270000,344            4270000,6   \n",
       "1            0.0         5.0   4270000,357            4270000,6   \n",
       "2            0.0         2.0   4270000,432            4270000,6   \n",
       "3            0.0        53.0  4270000,1579            4270000,6   \n",
       "4            0.0         0.0  4270000,1646            4270000,6   \n",
       "\n",
       "  station_code_weekday route_station_weekday   68a  810a  1012a  68b  810b  \\\n",
       "0                344,6         4270000,344,6   1.0   7.0    8.0  0.0   0.0   \n",
       "1                357,6         4270000,357,6   5.0   6.0   11.0  0.0   0.0   \n",
       "2                432,6         4270000,432,6   2.0   2.0    0.0  0.0   0.0   \n",
       "3               1579,6        4270000,1579,6  17.0  32.0   30.0  0.0   0.0   \n",
       "4               1646,6        4270000,1646,6   0.0   0.0    0.0  0.0   1.0   \n",
       "\n",
       "   1012b  1820_rs_mean  1820_rs_sum  1820_r_mean  1820_r_sum  1820_s_mean  \\\n",
       "0    0.0      1.466667         44.0     3.104381      2409.0     1.466667   \n",
       "1    0.0      5.366667        161.0     3.104381      2409.0     4.178218   \n",
       "2    0.0      1.600000         48.0     3.104381      2409.0     2.169559   \n",
       "3    0.0     53.766667       1613.0     3.104381      2409.0    52.032258   \n",
       "4    0.0      0.153846          4.0     3.104381      2409.0     0.732794   \n",
       "\n",
       "   1820_s_sum  1820_w_mean  1820_w_sum  mean_bus_weekday_ride  \\\n",
       "0        44.0     1.034282     54306.0               3.132812   \n",
       "1      6330.0     1.034282     54306.0               3.132812   \n",
       "2      1625.0     1.034282     54306.0               3.132812   \n",
       "3      1613.0     1.034282     54306.0               3.132812   \n",
       "4       181.0     1.034282     54306.0               3.132812   \n",
       "\n",
       "   mean_station_weekday_ride  mean_route_station_weekday_ride  congestion  \\\n",
       "0                   0.200000                              0.2           5   \n",
       "1                   3.154867                              2.2           5   \n",
       "2                   1.163462                              0.8           5   \n",
       "3                  56.000000                             56.0           5   \n",
       "4                   1.108108                              0.4           5   \n",
       "\n",
       "                      location  cue  1012a_sum  1012a_mean  1012b_sum  \\\n",
       "0            33.4899,126.49373    0      244.0    5.304348       12.0   \n",
       "1           33.48944,126.48508    0      534.0   11.608696       17.0   \n",
       "2           33.48181,126.47352    0      106.0    2.304348        7.0   \n",
       "3           33.50577,126.49252    0     1687.0   36.673913        4.0   \n",
       "4  33.255790000000005,126.4126    0       22.0    0.564103       64.0   \n",
       "\n",
       "   1012b_mean  10~11_ride_sum  10~11_ride_mean  10~11_takeoff_sum  \\\n",
       "0    0.260870           136.0         2.956522                5.0   \n",
       "1    0.369565           280.0         6.086957                6.0   \n",
       "2    0.152174            43.0         0.934783                2.0   \n",
       "3    0.086957           822.0        17.869565                1.0   \n",
       "4    1.641026            10.0         0.256410               18.0   \n",
       "\n",
       "   10~11_takeoff_mean  11~12_ride_sum  11~12_ride_mean  11~12_takeoff_sum  \\\n",
       "0            0.108696           108.0         2.347826                7.0   \n",
       "1            0.130435           254.0         5.521739               11.0   \n",
       "2            0.043478            63.0         1.369565                5.0   \n",
       "3            0.021739           865.0        18.804348                3.0   \n",
       "4            0.461538            12.0         0.307692               46.0   \n",
       "\n",
       "   11~12_takeoff_mean  1820_r_mean_sum  1820_r_mean_mean  1820_r_sum_sum  \\\n",
       "0            0.152174       142.801546          3.104381        110814.0   \n",
       "1            0.239130       142.801546          3.104381        110814.0   \n",
       "2            0.108696       142.801546          3.104381        110814.0   \n",
       "3            0.065217       142.801546          3.104381        110814.0   \n",
       "4            1.179487       121.070876          3.104381         93951.0   \n",
       "\n",
       "   1820_r_sum_mean  1820_rs_mean_sum  1820_rs_mean_mean  1820_rs_sum_sum  \\\n",
       "0           2409.0         67.466667           1.466667           2024.0   \n",
       "1           2409.0        246.866667           5.366667           7406.0   \n",
       "2           2409.0         73.600000           1.600000           2208.0   \n",
       "3           2409.0       2473.266667          53.766667          74198.0   \n",
       "4           2409.0          6.000000           0.153846            156.0   \n",
       "\n",
       "   1820_rs_sum_mean  ...  6~7_all_ride_number  7~8_all_ride_number  \\\n",
       "0              44.0  ...               2942.0               4518.0   \n",
       "1             161.0  ...               2942.0               4518.0   \n",
       "2              48.0  ...               2942.0               4518.0   \n",
       "3            1613.0  ...               2942.0               4518.0   \n",
       "4               4.0  ...               2942.0               4518.0   \n",
       "\n",
       "   8~9_all_ride_number  9~10_all_ride_number  10~11_all_ride_number  weekend  \\\n",
       "0               5682.0                6275.0                 6774.0        1   \n",
       "1               5682.0                6275.0                 6774.0        1   \n",
       "2               5682.0                6275.0                 6774.0        1   \n",
       "3               5682.0                6275.0                 6774.0        1   \n",
       "4               5682.0                6275.0                 6774.0        1   \n",
       "\n",
       "   holiday  weekdaymean  in_out_mean   adult  kids  teen  elder  adult_prop  \\\n",
       "0        0     1.034282          1.0  8158.0  72.0  38.0    0.0    0.986696   \n",
       "1        0     1.034282          1.0  8158.0  72.0  38.0    0.0    0.986696   \n",
       "2        0     1.034282          1.0  8158.0  72.0  38.0    0.0    0.986696   \n",
       "3        0     1.034282          1.0  8158.0  72.0  38.0    0.0    0.986696   \n",
       "4        0     1.034282          1.0  8158.0  72.0  38.0    0.0    0.986696   \n",
       "\n",
       "   kids_prop  teen_prop  elder_prop  dong  mean_job_majorc  mean_job_smallc  \\\n",
       "0   0.008708   0.004596         0.0   NaN         0.024219         0.145757   \n",
       "1   0.008708   0.004596         0.0   NaN         0.024219         0.145757   \n",
       "2   0.008708   0.004596         0.0   NaN         0.024219         0.145757   \n",
       "3   0.008708   0.004596         0.0   NaN         0.024219         0.145757   \n",
       "4   0.008708   0.004596         0.0   NaN         0.024219         0.145757   \n",
       "\n",
       "   mean_job_public  mean_job_profession  mean_job_self  mean_vehicle_own_rat  \\\n",
       "0         0.032768             0.014855        0.22209              0.041161   \n",
       "1         0.032768             0.014855        0.22209              0.041161   \n",
       "2         0.032768             0.014855        0.22209              0.041161   \n",
       "3         0.032768             0.014855        0.22209              0.041161   \n",
       "4         0.032768             0.014855        0.22209              0.041161   \n",
       "\n",
       "   mean_avg_income  mean_med_income  mean_avg_spend  sum_job_majorc  \\\n",
       "0       34221420.0       30645290.0       4224923.0        3.717861   \n",
       "1       34221420.0       30645290.0       4224923.0        3.717861   \n",
       "2       34221420.0       30645290.0       4224923.0        3.717861   \n",
       "3       34221420.0       30645290.0       4224923.0        3.717861   \n",
       "4       34221420.0       30645290.0       4224923.0        3.717861   \n",
       "\n",
       "   sum_job_smallc  sum_job_public  sum_job_profession  sum_job_self  \\\n",
       "0        20.78142        4.747755            2.169554      30.44199   \n",
       "1        20.78142        4.747755            2.169554      30.44199   \n",
       "2        20.78142        4.747755            2.169554      30.44199   \n",
       "3        20.78142        4.747755            2.169554      30.44199   \n",
       "4        20.78142        4.747755            2.169554      30.44199   \n",
       "\n",
       "   sum_vehicle_own_rat  sum_avg_income  sum_med_income  sum_avg_spend  \\\n",
       "0              5.60908    4.998226e+09    4.455924e+09    614767800.0   \n",
       "1              5.60908    4.998226e+09    4.455924e+09    614767800.0   \n",
       "2              5.60908    4.998226e+09    4.455924e+09    614767800.0   \n",
       "3              5.60908    4.998226e+09    4.455924e+09    614767800.0   \n",
       "4              5.60908    4.998226e+09    4.455924e+09    614767800.0   \n",
       "\n",
       "   rate_job_majorc  rate_job_smallc  rate_job_public  rate_job_profession  \\\n",
       "0         0.013889         0.013889         0.013889             0.013889   \n",
       "1         0.013889         0.013889         0.013889             0.013889   \n",
       "2         0.013889         0.013889         0.013889             0.013889   \n",
       "3         0.013889         0.013889         0.013889             0.013889   \n",
       "4         0.013889         0.013889         0.013889             0.013889   \n",
       "\n",
       "   rate_job_self  rate_vehicle_own_rat  rate_avg_income  rate_med_income  \\\n",
       "0       0.013889              0.013889         0.013889         0.013889   \n",
       "1       0.013889              0.013889         0.013889         0.013889   \n",
       "2       0.013889              0.013889         0.013889         0.013889   \n",
       "3       0.013889              0.013889         0.013889         0.013889   \n",
       "4       0.013889              0.013889         0.013889         0.013889   \n",
       "\n",
       "   rate_avg_spend  school  transfer  dong2   dis_jeju  dis_gosan  \\\n",
       "0        0.013889       0         0      0   4.286659  37.692766   \n",
       "1        0.013889       0         0      0   4.966848  37.008492   \n",
       "2        0.013889       0         0      0   6.330746  35.642126   \n",
       "3        0.013889       0         1      0   3.575272  38.643401   \n",
       "4        0.013889       0         0      0  30.652098  23.648361   \n",
       "\n",
       "   dis_seongsan     dis_po     기온(°C)   강수량(mm)  dist_name_0  dist_name_1  \\\n",
       "0     37.713630  27.841879  22.727273  2.272727            1            0   \n",
       "1     38.465822  27.996179  22.727273  2.272727            1            0   \n",
       "2     39.259820  27.496551  22.727273  2.272727            1            0   \n",
       "3     38.386802  29.579404  22.727273  2.272727            1            0   \n",
       "4     45.899140  14.269792  22.127273  1.627273            0            0   \n",
       "\n",
       "   dist_name_2  dist_name_3  rainy_day   69a  912a  69b  912b  \\\n",
       "0            0            0          1   3.0  13.0  0.0   0.0   \n",
       "1            0            0          1   9.0  13.0  0.0   0.0   \n",
       "2            0            0          1   2.0   2.0  0.0   0.0   \n",
       "3            0            0          1  23.0  56.0  0.0   0.0   \n",
       "4            0            1          1   0.0   0.0  0.0   1.0   \n",
       "\n",
       "   domestic_tourists  international_tourists  \n",
       "0              64752                    6524  \n",
       "1              64752                    6524  \n",
       "2              64752                    6524  \n",
       "3              64752                    6524  \n",
       "4              64752                    6524  \n",
       "\n",
       "[5 rows x 191 columns]"
      ]
     },
     "execution_count": 182,
     "metadata": {},
     "output_type": "execute_result"
    }
   ],
   "source": [
    "data2.head()"
   ]
  },
  {
   "cell_type": "code",
   "execution_count": 184,
   "metadata": {
    "colab": {},
    "colab_type": "code",
    "id": "190SEQJQz-J6"
   },
   "outputs": [
    {
     "data": {
      "text/plain": [
       "((415423, 192), (228170, 192))"
      ]
     },
     "execution_count": 184,
     "metadata": {},
     "output_type": "execute_result"
    }
   ],
   "source": [
    "# Make dataset\n",
    "# train, test 데이터를 만들어준다\n",
    "train_data2 = data2.query('cue==\"0\"').reset_index()\n",
    "test_data2 = data2.query('cue==\"1\"').reset_index()\n",
    "\n",
    "train_data2.shape, test_data2.shape\n",
    "# 요약통계량을 통한 변수를 만드는 과정에서 NA가 발생한다.\n",
    "\n",
    "# target variable을 분리한 후 데이터를 저장한다."
   ]
  },
  {
   "cell_type": "code",
   "execution_count": 185,
   "metadata": {
    "colab": {},
    "colab_type": "code",
    "id": "Ds05PNy3z-fl"
   },
   "outputs": [],
   "source": [
    "\n",
    "y_train2 = train_data2[['18~20_ride']]"
   ]
  },
  {
   "cell_type": "code",
   "execution_count": 186,
   "metadata": {
    "colab": {},
    "colab_type": "code",
    "id": "_wvunlgWz_3O"
   },
   "outputs": [
    {
     "data": {
      "text/plain": [
       "((415423, 192), (228170, 192), (415423, 1))"
      ]
     },
     "execution_count": 186,
     "metadata": {},
     "output_type": "execute_result"
    }
   ],
   "source": [
    "train_data2.shape, test_data2.shape, y_train2.shape"
   ]
  },
  {
   "cell_type": "code",
   "execution_count": 187,
   "metadata": {
    "colab": {},
    "colab_type": "code",
    "id": "SHp1kM-A0APA"
   },
   "outputs": [
    {
     "name": "stdout",
     "output_type": "stream",
     "text": [
      "save ..!\n"
     ]
    }
   ],
   "source": [
    "\n",
    "train_data2.to_csv('X_train2.csv', index = False, encoding = 'utf-8')\n",
    "test_data2.to_csv('X_test2.csv', index = False, encoding = 'utf-8')\n",
    "y_train2.to_csv('y_train2.csv', index = False, encoding = 'utf-8')\n",
    "\n",
    "print('save ..!')"
   ]
  },
  {
   "cell_type": "code",
   "execution_count": 188,
   "metadata": {
    "colab": {},
    "colab_type": "code",
    "id": "_XkwI7-z0ApD"
   },
   "outputs": [],
   "source": [
    "train_data2 = pd.read_csv('X_train2.csv', encoding = 'utf-8')\n",
    "test_data2 = pd.read_csv('X_test2.csv', encoding = 'utf-8')\n",
    "y_train2 = pd.read_csv('y_train2.csv', encoding = 'utf-8')"
   ]
  },
  {
   "cell_type": "markdown",
   "metadata": {
    "colab_type": "text",
    "id": "5ssLYo5h2qTX"
   },
   "source": [
    "Columns "
   ]
  },
  {
   "cell_type": "code",
   "execution_count": 191,
   "metadata": {},
   "outputs": [],
   "source": [
    "input_var_0 = []\n",
    "\n",
    "for col in train_data2.columns: \n",
    "      input_var_0.append(col)"
   ]
  },
  {
   "cell_type": "code",
   "execution_count": 192,
   "metadata": {},
   "outputs": [
    {
     "name": "stdout",
     "output_type": "stream",
     "text": [
      "['index', 'id', 'date', 'bus_route_id', 'in_out', 'station_code', 'station_name', 'latitude', 'longitude', '6~7_ride', '7~8_ride', '8~9_ride', '9~10_ride', '10~11_ride', '11~12_ride', '6~7_takeoff', '7~8_takeoff', '8~9_takeoff', '9~10_takeoff', '10~11_takeoff', '11~12_takeoff', '18~20_ride', 'route_station', 'bus_route_id_weekday', 'station_code_weekday', 'route_station_weekday', '68a', '810a', '1012a', '68b', '810b', '1012b', '1820_rs_mean', '1820_rs_sum', '1820_r_mean', '1820_r_sum', '1820_s_mean', '1820_s_sum', '1820_w_mean', '1820_w_sum', 'mean_bus_weekday_ride', 'mean_station_weekday_ride', 'mean_route_station_weekday_ride', 'congestion', 'location', 'cue', '1012a_sum', '1012a_mean', '1012b_sum', '1012b_mean', '10~11_ride_sum', '10~11_ride_mean', '10~11_takeoff_sum', '10~11_takeoff_mean', '11~12_ride_sum', '11~12_ride_mean', '11~12_takeoff_sum', '11~12_takeoff_mean', '1820_r_mean_sum', '1820_r_mean_mean', '1820_r_sum_sum', '1820_r_sum_mean', '1820_rs_mean_sum', '1820_rs_mean_mean', '1820_rs_sum_sum', '1820_rs_sum_mean', '1820_s_mean_sum', '1820_s_mean_mean', '1820_s_sum_sum', '1820_s_sum_mean', '1820_w_mean_sum', '1820_w_mean_mean', '1820_w_sum_sum', '1820_w_sum_mean', '68a_sum', '68a_mean', '68b_sum', '68b_mean', '6~7_ride_sum', '6~7_ride_mean', '6~7_takeoff_sum', '6~7_takeoff_mean', '7~8_ride_sum', '7~8_ride_mean', '7~8_takeoff_sum', '7~8_takeoff_mean', '810a_sum', '810a_mean', '810b_sum', '810b_mean', '8~9_ride_sum', '8~9_ride_mean', '8~9_takeoff_sum', '8~9_takeoff_mean', '9~10_ride_sum', '9~10_ride_mean', '9~10_takeoff_sum', '9~10_takeoff_mean', 'bus_interval', 'bus_route_id2', 'station_code2', 'route_station_weekday2', 'route_station2', '현재일기_10', '체감온도_10', '일강수_10', 'weekday_0', 'weekday_1', 'weekday_2', 'weekday_3', 'weekday_4', 'weekday_5', 'weekday_6', 'weekday', 'dis_jejusi', 'dis_jejusicheong1', 'dis_jejuairport', 'dis_hallahosp', 'dis_rotary', 'dis_jejucenterhigh', 'dis_jejumarket', 'dis_jejusclass', 'dis_centerroad', 'dis_fiveway', 'dis_law', 'ride_sum', 'takeoff_sum', '6~7_all_ride_number', '7~8_all_ride_number', '8~9_all_ride_number', '9~10_all_ride_number', '10~11_all_ride_number', 'weekend', 'holiday', 'weekdaymean', 'in_out_mean', 'adult', 'kids', 'teen', 'elder', 'adult_prop', 'kids_prop', 'teen_prop', 'elder_prop', 'dong', 'mean_job_majorc', 'mean_job_smallc', 'mean_job_public', 'mean_job_profession', 'mean_job_self', 'mean_vehicle_own_rat', 'mean_avg_income', 'mean_med_income', 'mean_avg_spend', 'sum_job_majorc', 'sum_job_smallc', 'sum_job_public', 'sum_job_profession', 'sum_job_self', 'sum_vehicle_own_rat', 'sum_avg_income', 'sum_med_income', 'sum_avg_spend', 'rate_job_majorc', 'rate_job_smallc', 'rate_job_public', 'rate_job_profession', 'rate_job_self', 'rate_vehicle_own_rat', 'rate_avg_income', 'rate_med_income', 'rate_avg_spend', 'school', 'transfer', 'dong2', 'dis_jeju', 'dis_gosan', 'dis_seongsan', 'dis_po', '기온(°C)', '강수량(mm)', 'dist_name_0', 'dist_name_1', 'dist_name_2', 'dist_name_3', 'rainy_day', '69a', '912a', '69b', '912b', 'domestic_tourists', 'international_tourists']\n"
     ]
    }
   ],
   "source": [
    "print(input_var_0)"
   ]
  },
  {
   "cell_type": "markdown",
   "metadata": {
    "colab_type": "text",
    "id": "jqhGcTYY4fIG"
   },
   "source": [
    "# Ensemble of Ensemble Learner 만들기 (산술평균) \n"
   ]
  },
  {
   "cell_type": "code",
   "execution_count": 201,
   "metadata": {
    "colab": {},
    "colab_type": "code",
    "id": "2O0k8Dmg4kvm"
   },
   "outputs": [
    {
     "ename": "SyntaxError",
     "evalue": "invalid syntax (<ipython-input-201-31cd7f0696ba>, line 7)",
     "output_type": "error",
     "traceback": [
      "\u001b[1;36m  File \u001b[1;32m\"<ipython-input-201-31cd7f0696ba>\"\u001b[1;36m, line \u001b[1;32m7\u001b[0m\n\u001b[1;33m    lgb_dtrain = lgb.Dataset(data = X.iloc[random_data_index.l, label = y.iloc[random_data_index]])\u001b[0m\n\u001b[1;37m                                                                      ^\u001b[0m\n\u001b[1;31mSyntaxError\u001b[0m\u001b[1;31m:\u001b[0m invalid syntax\n"
     ]
    }
   ],
   "source": [
    "bagging_predict_result = []\n",
    "\n",
    "for _ in range(10):\n",
    "    data_index = [data_index for data_index in range(X.shape[0])]\n",
    "    random_data_index = np.random.choice(data_index, X.shape[0])\n",
    "    print(len(set(random_data_index)))\n",
    "    lgb_dtrain = lgb.Dataset(data = X.iloc[random_data_index.l, label = y.iloc[random_data_index]])\n",
    "    lgb_param = {'max_depth':14, \n",
    "                 'learning_rate': 0.01, \n",
    "                 'n_estimator': 500, \n",
    "                  'objective':'regression',\n",
    "                  'n_jjobs': '-1',}\n",
    "    lgb_model = lgb.train(prams = lgb_param, train_set = lgb.dtrain)\n",
    "    predict1 = lgb_model.predict(X_test[input_var_0], axis = 1)\n",
    "    bagging_predict_result.append(predict)"
   ]
  },
  {
   "cell_type": "markdown",
   "metadata": {
    "colab_type": "text",
    "id": "hKTAp9ld5n7s"
   },
   "source": [
    "# 모델별 결과값 평균내기 (산술평균) "
   ]
  },
  {
   "cell_type": "code",
   "execution_count": 0,
   "metadata": {
    "colab": {},
    "colab_type": "code",
    "id": "01Mm4aZJ5lpn"
   },
   "outputs": [],
   "source": [
    "bagging_predict = []\n",
    "for list2_index in range(X_test[input_var_0], shape[0]): \n",
    "    temp_predict = []\n",
    "    for list_index in range(len(bagging_predict_result)):\n",
    "        temp_predict.append(bagging_predict_result[list_index][list2_index])\n",
    "    bagging_predict.append[X_test.iloc[list2_index['id'].np.mean(temp_predict)]]\n",
    "\n",
    "bagging_predict "
   ]
  },
  {
   "cell_type": "markdown",
   "metadata": {
    "colab_type": "text",
    "id": "-2mqOJJO5tPW"
   },
   "source": [
    "# Ensemble of Ensemble Learner 만들기 (가중평균) "
   ]
  },
  {
   "cell_type": "code",
   "execution_count": 0,
   "metadata": {
    "colab": {},
    "colab_type": "code",
    "id": "6VorcyM25mfD"
   },
   "outputs": [],
   "source": [
    "bagging_predict_result = [ ]\n",
    "bagging_predict_result0 = []\n",
    "\n",
    "for _ in range(10): \n",
    "    data_index = [data_index for data_index in range(X.shape[0])]\n",
    "    random_data_index = np.random.choice(data_index, X.shape[0])\n",
    "    print(len(set(random_data_index)))\n",
    "    lgb_dtrain = lgb.Dataset(data = X.iloc[random_data_index].label - y.iloc[random_data_index,])\n",
    "    lgb_param = {'max_depth': 14,\n",
    "               'learning_rate': 0.01, \n",
    "               'n_estimator': 500, \n",
    "               'objective': 'regression',\n",
    "               'n_jobs': '-1'}\n",
    "    lgb_model = lgb.train(param = lgb_param, train_set = lgb_dtrain)\n",
    "\n",
    "    predict0 = lgb_model.predict(X_axis = 1)\n",
    "    predict1 = lgb_model.predict(X_test[input_var_0], axis=1)\n",
    "\n",
    "    bagging_predict_result0.accend(predict0)\n",
    "    bagging_predict_result.append(predict1)"
   ]
  },
  {
   "cell_type": "markdown",
   "metadata": {
    "colab_type": "text",
    "id": "7OLVIwb050BR"
   },
   "source": [
    "# 모델별 결과값 평균내기 (가중평균) "
   ]
  },
  {
   "cell_type": "code",
   "execution_count": 200,
   "metadata": {
    "colab": {},
    "colab_type": "code",
    "id": "HT5wbULr55bh"
   },
   "outputs": [
    {
     "ename": "NameError",
     "evalue": "name 'bagging_predict_result0' is not defined",
     "output_type": "error",
     "traceback": [
      "\u001b[1;31m---------------------------------------------------------------------------\u001b[0m",
      "\u001b[1;31mNameError\u001b[0m                                 Traceback (most recent call last)",
      "\u001b[1;32m<ipython-input-200-b95d87371646>\u001b[0m in \u001b[0;36m<module>\u001b[1;34m\u001b[0m\n\u001b[0;32m      2\u001b[0m \u001b[0mbagging_rmse\u001b[0m \u001b[1;33m=\u001b[0m \u001b[1;33m[\u001b[0m\u001b[1;33m]\u001b[0m\u001b[1;33m\u001b[0m\u001b[1;33m\u001b[0m\u001b[0m\n\u001b[0;32m      3\u001b[0m \u001b[1;33m\u001b[0m\u001b[0m\n\u001b[1;32m----> 4\u001b[1;33m \u001b[1;32mfor\u001b[0m \u001b[0mlist_index\u001b[0m \u001b[1;32min\u001b[0m \u001b[0mrange\u001b[0m\u001b[1;33m(\u001b[0m\u001b[0mbagging_predict_result0\u001b[0m\u001b[1;33m)\u001b[0m\u001b[1;33m:\u001b[0m\u001b[1;33m\u001b[0m\u001b[1;33m\u001b[0m\u001b[0m\n\u001b[0m\u001b[0;32m      5\u001b[0m     \u001b[0mbagging_rmse\u001b[0m\u001b[1;33m.\u001b[0m\u001b[0mappend\u001b[0m\u001b[1;33m(\u001b[0m\u001b[0msort\u001b[0m\u001b[1;33m(\u001b[0m\u001b[0mmean_squared_error\u001b[0m\u001b[1;33m(\u001b[0m\u001b[0mbagging_predict_result0\u001b[0m\u001b[1;33m[\u001b[0m\u001b[0mlist_index\u001b[0m\u001b[1;33m]\u001b[0m\u001b[1;33m,\u001b[0m \u001b[0my\u001b[0m\u001b[1;33m)\u001b[0m\u001b[1;33m)\u001b[0m\u001b[1;33m)\u001b[0m\u001b[1;33m\u001b[0m\u001b[1;33m\u001b[0m\u001b[0m\n\u001b[0;32m      6\u001b[0m \u001b[1;33m\u001b[0m\u001b[0m\n",
      "\u001b[1;31mNameError\u001b[0m: name 'bagging_predict_result0' is not defined"
     ]
    }
   ],
   "source": [
    "bagging_predict = []\n",
    "bagging_rmse = []\n",
    "\n",
    "for list_index in range(bagging_predict_result0):\n",
    "    bagging_rmse.append(sort(mean_squared_error(bagging_predict_result0[list_index], y)))\n",
    "\n",
    "temp_sum = bagging_rmse/np.sum(bagging_rmse)\n",
    "temp_sum_sum = np.sum(temp_sum)\n",
    "temp_ratio = temp_sum/temp_sum_sum\n",
    "\n",
    "for list2_index in range(X_test.shape[0]): \n",
    "    temp_predict = []\n",
    "    for list_index in range(len(bagging_predict_result)):\n",
    "        temp_predict.accending(bagging_predict_result[list.index][list2.index])\n",
    "    bagging_predict.append(X_test.iloc[list2_index]['id'].np.dot(temp_ratio, np.transpose(temp_predict))) "
   ]
  },
  {
   "cell_type": "markdown",
   "metadata": {
    "colab_type": "text",
    "id": "vnbEHPfd56GF"
   },
   "source": [
    "# HYPERPARAMETER + gird & random search 적용 후 "
   ]
  },
  {
   "cell_type": "code",
   "execution_count": 0,
   "metadata": {
    "colab": {},
    "colab_type": "code",
    "id": "yTvUq9BHjlVu"
   },
   "outputs": [],
   "source": [
    "# Manual: grid search and radom search \n",
    "# codes from https://www.kaggle.com/mlisovyi/lightgbm-hyperparameter-optimisation-lb-0-761 \n",
    "\n",
    "# split the full sample into train/test \n",
    "# from sklearn.model_selection import train_test_split\n",
    "# X_train, X_test, y_train, y_test = train_test_split(X_rus, y_rus, test_size=0.20, random_state=314, stratify=y_rus)"
   ]
  },
  {
   "cell_type": "code",
   "execution_count": null,
   "metadata": {},
   "outputs": [],
   "source": [
    "input_var=['in_out','latitude', 'longitude', '68a', '810a', '1012a', '68b', '810b', '1012b',\n",
    "           'weekday_0', 'weekday_1', 'weekday_2', 'weekday_3', 'weekday_4', 'weekday_5', 'weekday_6',\n",
    "           'dis_jeju', 'dis_gosan','dis_seongsan', 'dis_po','기온(°C)', '강수량(mm)', \n",
    "           'dist_name_gosan', 'dist_name_jeju','dist_name_po', 'dist_name_seongsan']\n",
    "\n",
    "target=['18~20_ride']"
   ]
  },
  {
   "cell_type": "code",
   "execution_count": null,
   "metadata": {},
   "outputs": [],
   "source": [
    "X_train=train2[input_var]\n",
    "random.seed(1217) #동일한 샘플링하기 위한 시드번호\n",
    "train_list=random.sample(list(range(X_train.shape[0])), int(round(X_train.shape[0]*0.01,0)) )\n",
    "\n",
    "X_train=train2[input_var]\n",
    "X_train=X_train.iloc[train_list,:]\n",
    "y_train=train2[target]\n",
    "y_train=y_train.iloc[train_list,:]\n",
    "\n",
    "X_test=test2[input_var]\n",
    "\n",
    "X_train.shape, y_train.shape"
   ]
  },
  {
   "cell_type": "code",
   "execution_count": null,
   "metadata": {},
   "outputs": [],
   "source": [
    "# Create the parameter grid based on the results of random search \n",
    "param_grid = {\n",
    "    'max_features': [2,3,5],\n",
    "    'min_samples_leaf': [2,3],\n",
    "    'min_samples_split': [2,4,6],\n",
    "    'n_estimators': [100, 200,500]\n",
    "}\n",
    "# Create a based model\n",
    "rf = RandomForestRegressor(random_state=1217) # 랜덤포레스트 모델을 정의한다.\n",
    "# Instantiate the grid search model\n",
    "grid_search = GridSearchCV(estimator = rf, param_grid = param_grid) # GridSearchCV를 정의한다.\n",
    "\n",
    "grid_search.fit(X_train, y_train)\n",
    "\n",
    "grid_search.best_params_ #학습 이후 최적의 paramter를 출력\n",
    "\n",
    "#해당 코드 실행시간 2분 ~ 3분 소요"
   ]
  },
  {
   "cell_type": "code",
   "execution_count": null,
   "metadata": {},
   "outputs": [],
   "source": [
    "#전체 데이터로 적용\n",
    "X_train=train2[input_var]\n",
    "y_train=train2[target]\n",
    "\n",
    "X_test=test2[input_var]\n",
    "\n",
    "X_train.shape, y_train.shape, X_test.shape"
   ]
  },
  {
   "cell_type": "code",
   "execution_count": null,
   "metadata": {},
   "outputs": [],
   "source": [
    "# best_params_를 통해서 나온 값을 투입\n",
    "rf = RandomForestRegressor(max_features=3,min_samples_leaf=2,min_samples_split=2,n_estimators=500,random_state=1217)\n",
    "\n",
    "rf.fit(X_train,y_train) #학습 \n",
    "\n",
    "test['18~20_ride'] = rf.predict(X_test) #예측값 생성 후, test['18~20_ride']에 집어 넣는다.\n",
    "\n",
    "test[['id','18~20_ride']].to_csv(\"dacon_base_middle2.csv\",index=False) # id와 18~20_ride만 선택 후 csv 파일로 내보낸다\n",
    "\n",
    "#해당 코드 소요 시간 5분"
   ]
  },
  {
   "cell_type": "markdown",
   "metadata": {
    "colab_type": "text",
    "id": "102sGkvEj28Q"
   },
   "source": [
    "# Bayesian Optimization 활용 \n",
    "https://dacon.io/competitions/official/235583/codeshare/703"
   ]
  },
  {
   "cell_type": "code",
   "execution_count": 0,
   "metadata": {
    "colab": {},
    "colab_type": "code",
    "id": "9mQavv7-jlsc"
   },
   "outputs": [],
   "source": [
    "# # Bayesian \n",
    "# def lgb_cv(num_leaves, learning_rate, n_estimators, subsample, colsample_bytree, reg_alpha, reg_lambda, x_data=None, y_data=None, n_splits=5, output='score'):\n",
    "#     score = 0\n",
    "#     kf = KFold(n_splits=n_splits)\n",
    "#     models = []\n",
    "#     for train_index, valid_index in kf.split(x_data):\n",
    "#         x_train, y_train = x_data.iloc[train_index], y_data[train_index]\n",
    "#         x_valid, y_valid = x_data.iloc[valid_index], y_data[valid_index]\n",
    "        \n",
    "#         model = lgb.LGBMClassifier(\n",
    "#             num_leaves = int(num_leaves), \n",
    "#             learning_rate = learning_rate, \n",
    "#             n_estimators = int(n_estimators), \n",
    "#             subsample = np.clip(subsample, 0, 1), \n",
    "#             colsample_bytree = np.clip(colsample_bytree, 0, 1), \n",
    "#             reg_alpha = reg_alpha, \n",
    "#             reg_lambda = reg_lambda,\n",
    "#         )\n",
    "        \n",
    "#         model.fit(x_train, y_train)\n",
    "#         models.append(model)\n",
    "        \n",
    "#         pred = model.predict_proba(x_valid)[:, 1]\n",
    "#         true = y_valid\n",
    "#         score += roc_auc_score(true, pred)/n_splits\n",
    "    \n",
    "#     if output == 'score':\n",
    "#         return score\n",
    "#     if output == 'model':\n",
    "#         return models"
   ]
  },
  {
   "cell_type": "code",
   "execution_count": 0,
   "metadata": {
    "colab": {},
    "colab_type": "code",
    "id": "m5MxB_7XjuTW"
   },
   "outputs": [],
   "source": [
    "# # 모델과 관련없는 변수 고정\n",
    "# func_fixed = partial(lgb_cv, x_data=x_train, y_data=y_train, n_splits=5, output='score') \n",
    "# # 베이지안 최적화 범위 설정\n",
    "# lgbBO = BayesianOptimization(\n",
    "#     func_fixed, \n",
    "#     {\n",
    "#         'num_leaves': (16, 1024),        # num_leaves,       범위(16~1024)\n",
    "#         'learning_rate': (0.0001, 0.1),  # learning_rate,    범위(0.0001~0.1)\n",
    "#         'n_estimators': (16, 1024),      # n_estimators,     범위(16~1024)\n",
    "#         'subsample': (0, 1),             # subsample,        범위(0~1)\n",
    "#         'colsample_bytree': (0, 1),      # colsample_bytree, 범위(0~1)\n",
    "#         'reg_alpha': (0, 10),            # reg_alpha,        범위(0~10)\n",
    "#         'reg_lambda': (0, 50),           # reg_lambda,       범위(0~50)\n",
    "#     }, \n",
    "#     random_state=4321                    # 시드 고정\n",
    "# )\n",
    "# lgbBO.maximize(init_points=5, n_iter=30) # 처음 5회 랜덤 값으로 score 계산 후 30회 최적화\n",
    "\n",
    "# 이 예제에서는 7개 하이퍼 파라미터에 대해 30회 조정을 시도했습니다.\n",
    "# 다양한 하이퍼 파라미터, 더 많은 iteration을 시도하여 최상의 모델을 얻어보세요!\n",
    "# LightGBM Classifier: https://lightgbm.readthedocs.io/en/latest/pythonapi/"
   ]
  },
  {
   "cell_type": "code",
   "execution_count": 0,
   "metadata": {
    "colab": {},
    "colab_type": "code",
    "id": "rAklUXVVoFIt"
   },
   "outputs": [],
   "source": []
  }
 ],
 "metadata": {
  "colab": {
   "collapsed_sections": [],
   "name": "model.ipynb",
   "provenance": []
  },
  "kernelspec": {
   "display_name": "Python 3",
   "language": "python",
   "name": "python3"
  },
  "language_info": {
   "codemirror_mode": {
    "name": "ipython",
    "version": 3
   },
   "file_extension": ".py",
   "mimetype": "text/x-python",
   "name": "python",
   "nbconvert_exporter": "python",
   "pygments_lexer": "ipython3",
   "version": "3.7.6"
  }
 },
 "nbformat": 4,
 "nbformat_minor": 1
}
